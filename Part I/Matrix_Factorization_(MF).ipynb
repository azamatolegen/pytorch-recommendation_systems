{
  "nbformat": 4,
  "nbformat_minor": 0,
  "metadata": {
    "colab": {
      "name": "Matrix Factorization (MF).ipynb",
      "provenance": [],
      "collapsed_sections": []
    },
    "kernelspec": {
      "name": "python3",
      "display_name": "Python 3"
    }
  },
  "cells": [
    {
      "cell_type": "markdown",
      "metadata": {
        "id": "FlcZ96-kuYyX"
      },
      "source": [
        "# Matrix Factorization\r\n",
        "Matrix Factorization is a class of the collaborative filtering algorithm. The end goal of matrix factorization is basically to build a matrix of users and items filled with known and predicted ratings.\r\n",
        "\r\n",
        "Starting with our sparse (and high-dimensional) original matrix of only known ratings, we want to determine the two factor matrices that are much lower in dimensions that would produce our original matrix. One being the matrix that quantitatively represents the users (user matrix) where each row of the matrix is a vector of size *k* that represents a single user, and the other being the item matrix where each column is a vector of size *k* that represents a single item.\r\n",
        "\r\n",
        "![](https://drive.google.com/uc?id=1ZyzVuhcrOA4iYaw69EaBsqPPdLdDqvFW)\r\n",
        "\r\n",
        "The model is learned by fitting the previously observed ratings. However, the goal is to generalize those previous ratings in a way that predicts future/unknown ratings. \r\n",
        "\r\n",
        "* Accordingly, each item *i* is associated with a vector *q_i*, and each user *u* is associated with a vector *p_u*.\r\n",
        "* For a given item *i*, the elements of *q_i* measure the extent to which the item possesses those factors, positive or negative.\r\n",
        "* For a given user *u*, the elements of *p_u* measure the extent of interest the user has in items that are high on the corresponding factors, positive or negative.\r\n",
        "* The resulting dot product (*q_i* * *p_u*) captures the interaction between user *u* and item *i*, which is the user’s overall interest in the item’s characteristics:\r\n",
        "\r\n",
        "  ![](https://drive.google.com/uc?id=1--ADw7Bmz6fOOwbLAN2Krd4hcfEdH-7d)\r\n",
        "\r\n",
        "* Some users give high ratings than others, and some items received high ratings than others systematically. To capture these biases, user specific and item specific bias terms can be introduced. Thus, we can extend above equation as follows:\r\n",
        "\r\n",
        "  ![](https://drive.google.com/uc?id=1TZ8SmF-Fsrh93U2Ymx1sSgycn7GZEL4v)\r\n",
        "\r\n",
        "* The model is learned by minimizing a squared error function on the set of known ratings, in order to avoid overfitting the observed data we add an L2 regularization penalty to each element and optimize the learned parameters simultaneously with stochastic gradient descent, as seen in equation below:\r\n",
        "\r\n",
        "  ![](https://drive.google.com/uc?id=1C9D1Fd-FvA6hw12SFHN7m3csCeJpVRtX)\r\n",
        "\r\n"
      ]
    },
    {
      "cell_type": "markdown",
      "metadata": {
        "id": "b7kdjkpcvMBh"
      },
      "source": [
        "# Model implementation in PyTorch\r\n",
        "\r\n",
        "First, we implement the matrix factorization model described above. The user/item latent factors and the user/item biases can be created with the `nn.Embedding. `\r\n",
        "\r\n",
        "In the forward function, user and item ids are used to look up the embeddings."
      ]
    },
    {
      "cell_type": "code",
      "metadata": {
        "id": "KgFu78zwvXTr",
        "colab": {
          "base_uri": "https://localhost:8080/"
        },
        "outputId": "882be7bd-baed-4a8e-addb-44722fa90225"
      },
      "source": [
        "# import al necessary libraries\r\n",
        "import numpy as np\r\n",
        "import pandas as pd\r\n",
        "from sklearn.preprocessing import LabelEncoder\r\n",
        "from sklearn.model_selection import train_test_split\r\n",
        "import tqdm\r\n",
        "\r\n",
        "import torch\r\n",
        "import torch.nn as nn\r\n",
        "import torch.nn.functional as F\r\n",
        "from torch.utils.data import DataLoader, Dataset\r\n",
        "torch.manual_seed(2020)"
      ],
      "execution_count": null,
      "outputs": [
        {
          "output_type": "execute_result",
          "data": {
            "text/plain": [
              "<torch._C.Generator at 0x7fcf2d55c060>"
            ]
          },
          "metadata": {
            "tags": []
          },
          "execution_count": 14
        }
      ]
    },
    {
      "cell_type": "code",
      "metadata": {
        "id": "_cEu3CF3z9m7"
      },
      "source": [
        "class MovieLensDataset(Dataset):\r\n",
        "  \"\"\"\r\n",
        "  MovieLens dataset class\r\n",
        "  \"\"\"\r\n",
        "  def __init__(self, dataset_path, sep='::', engine='python', header=None):\r\n",
        "    data = pd.read_csv(dataset_path, sep=sep, engine=engine, header=header)\r\n",
        "\r\n",
        "    # enconde the data to have contiguous ids for users and movies\r\n",
        "    lab_enc = LabelEncoder()\r\n",
        "    data[0] = lab_enc.fit_transform(data[0])\r\n",
        "    data[1] = lab_enc.fit_transform(data[1])\r\n",
        "    data = data.to_numpy()[:, :3]\r\n",
        "\r\n",
        "    # retrieve users, movies and ratings data\r\n",
        "    self.users = data[:, 0].astype(np.int)\r\n",
        "    self.movies = data[:, 1].astype(np.int)\r\n",
        "    self.ratings = data[:, 2].astype(np.float32)\r\n",
        "    self.num_users = len(np.unique(self.users))\r\n",
        "    self.num_movies = len(np.unique(self.movies))\r\n",
        "    self.unique_movies = np.unique(self.movies)\r\n",
        "\r\n",
        "  def __len__(self):\r\n",
        "    return self.ratings.shape[0]\r\n",
        "\r\n",
        "  def __getitem__(self, idx):\r\n",
        "    return self.users[idx], self.movies[idx], self.ratings[idx]"
      ],
      "execution_count": null,
      "outputs": []
    },
    {
      "cell_type": "code",
      "metadata": {
        "id": "dmLhpBxRrnI5"
      },
      "source": [
        "class MF(nn.Module):\r\n",
        "  \"\"\"\r\n",
        "  Matrix Factorization model class\r\n",
        "  \"\"\"\r\n",
        "  def __init__(self, n_user, n_item, k_factor, c_bias, c_vector):\r\n",
        "    super(MF, self).__init__()\r\n",
        "\r\n",
        "    # These are the hyper-parameters\r\n",
        "    self.n_user = n_user\r\n",
        "    self.n_item = n_item\r\n",
        "    self.k_factor = k_factor\r\n",
        "    self.c_bias = c_bias\r\n",
        "    self.c_vector = c_vector\r\n",
        "\r\n",
        "    # factor matrices and biases which learned and fit by PyTorch\r\n",
        "    self.user_emb = nn.Embedding(self.n_user, k_factor)\r\n",
        "    self.movie_emb = nn.Embedding(self.n_item, k_factor)\r\n",
        "    self.user_bias = nn.Embedding(self.n_user, 1)\r\n",
        "    self.movie_bias = nn.Embedding(self.n_item, 1)        \r\n",
        "    self.bias = nn.Parameter(torch.ones(1))\r\n",
        "\r\n",
        "    # initializing our matrices with a positive number generally will yield better results\r\n",
        "    self.user_emb.weight.data.uniform_(0, 0.05)\r\n",
        "    self.movie_emb.weight.data.uniform_(0, 0.05)\r\n",
        "    self.user_bias.weight.data.uniform_(-0.01,0.01)\r\n",
        "    self.movie_bias.weight.data.uniform_(-0.01,0.01)  \r\n",
        "\r\n",
        "  def forward(self, user_idx, movie_idx):\r\n",
        "    user_vector = self.user_emb(user_idx)\r\n",
        "    movie_vector = self.movie_emb(movie_idx)\r\n",
        "    bias_user = self.user_bias(user_idx).squeeze()\r\n",
        "    bias_movie = self.movie_bias(movie_idx).squeeze()\r\n",
        "    biases = (self.bias + bias_user + bias_movie)\r\n",
        "\r\n",
        "    # taking the dot product and adding biases to the prediction\r\n",
        "    interaction = torch.sum(user_vector * movie_vector, dim=1)\r\n",
        "    prediction = interaction + biases\r\n",
        "    return prediction\r\n",
        "\r\n",
        "  def loss(self, prediction, target):\r\n",
        "    \"\"\"\r\n",
        "    Function to calculate the loss metric\r\n",
        "    \"\"\"\r\n",
        "    # Calculate the Mean Squared Error between target = R_ui and prediction = p_u * q_i\r\n",
        "    loss_mse = F.mse_loss(prediction, target.squeeze())\r\n",
        "\r\n",
        "    # Compute L2 regularization over user (P) and item (Q) matrices\r\n",
        "    reg_user  = l2_regularize(self.user_emb.weight) * self.c_vector\r\n",
        "    reg_movie  = l2_regularize(self.movie_emb.weight) * self.c_vector\r\n",
        "\r\n",
        "    # compute L2 regularization over the biases for user and the biases for item matrices\r\n",
        "    prior_bias_user = l2_regularize(self.user_bias.weight) * self.c_bias\r\n",
        "    prior_bias_movie = l2_regularize(self.movie_bias.weight) * self.c_bias\r\n",
        "\r\n",
        "    # Add up the MSE loss + user & item regularization\r\n",
        "    total_loss = loss_mse + reg_user + reg_movie + prior_bias_user + prior_bias_movie\r\n",
        "    return total_loss\r\n",
        "    \r\n",
        "def l2_regularize(array):\r\n",
        "    \"\"\"\r\n",
        "    Function to do L2 regularization\r\n",
        "    \"\"\"\r\n",
        "    loss = torch.sum(array ** 2.0)\r\n",
        "    return loss"
      ],
      "execution_count": null,
      "outputs": []
    },
    {
      "cell_type": "code",
      "metadata": {
        "id": "q850b7SKtjnI"
      },
      "source": [
        "# create the training function to train the model on training data\r\n",
        "def fit(model, optimizer, data_loader, device, log_interval=1000):\r\n",
        "    model.train()\r\n",
        "    for i, (user, movie, target) in enumerate(data_loader):\r\n",
        "        user, movie, target = user.to(device), movie.to(device), target.to(device)\r\n",
        "        predicts = model(user, movie)\r\n",
        "        loss_mse = model.loss(predicts, target.float())\r\n",
        "        model.zero_grad()\r\n",
        "        loss_mse.backward()\r\n",
        "        optimizer.step()\r\n",
        "    return loss_mse.item()\r\n",
        "\r\n",
        "# create the evaluating function to test the model performance on unseen data\r\n",
        "def test(model, data_loader, device):\r\n",
        "    model.eval()\r\n",
        "    with torch.no_grad():\r\n",
        "        for user, movie, target in (data_loader):\r\n",
        "            user, movie, target = user.to(device), movie.to(device), target.to(device)\r\n",
        "            predict = model(user, movie)\r\n",
        "            loss_mse = model.loss(predict, target)\r\n",
        "    return loss_mse.item()"
      ],
      "execution_count": null,
      "outputs": []
    },
    {
      "cell_type": "code",
      "metadata": {
        "colab": {
          "base_uri": "https://localhost:8080/"
        },
        "id": "p2_oI7FN1J-G",
        "outputId": "71bedb87-ec12-4657-9660-705c7fcf5d15"
      },
      "source": [
        "# get the data\r\n",
        "!wget http://files.grouplens.org/datasets/movielens/ml-1m.zip\r\n",
        "!unzip ml-1m.zip"
      ],
      "execution_count": null,
      "outputs": [
        {
          "output_type": "stream",
          "text": [
            "--2021-02-08 06:55:37--  http://files.grouplens.org/datasets/movielens/ml-1m.zip\n",
            "Resolving files.grouplens.org (files.grouplens.org)... 128.101.65.152\n",
            "Connecting to files.grouplens.org (files.grouplens.org)|128.101.65.152|:80... connected.\n",
            "HTTP request sent, awaiting response... 200 OK\n",
            "Length: 5917549 (5.6M) [application/zip]\n",
            "Saving to: ‘ml-1m.zip.1’\n",
            "\n",
            "ml-1m.zip.1         100%[===================>]   5.64M  19.0MB/s    in 0.3s    \n",
            "\n",
            "2021-02-08 06:55:37 (19.0 MB/s) - ‘ml-1m.zip.1’ saved [5917549/5917549]\n",
            "\n",
            "Archive:  ml-1m.zip\n",
            "replace ml-1m/movies.dat? [y]es, [n]o, [A]ll, [N]one, [r]ename: N\n"
          ],
          "name": "stdout"
        }
      ]
    },
    {
      "cell_type": "code",
      "metadata": {
        "colab": {
          "base_uri": "https://localhost:8080/"
        },
        "id": "nDLpqCgG_fkH",
        "outputId": "12844340-8461-44c8-ec96-112dd9d325c1"
      },
      "source": [
        "# Get the dataset\r\n",
        "dataset = MovieLensDataset('./ml-1m/ratings.dat')\r\n",
        "# Split the data into 80% train, 10% validation, and 10% test\r\n",
        "train_length = int(len(dataset) * 0.9)\r\n",
        "test_length = len(dataset) - train_length\r\n",
        "train_dataset, test_dataset = torch.utils.data.random_split(dataset, (train_length, test_length))\r\n",
        "\r\n",
        "# Instantiate data loader classes for train, validation, and test sets\r\n",
        "train_data_loader = DataLoader(train_dataset, batch_size=2048, num_workers=8)\r\n",
        "test_data_loader = DataLoader(test_dataset, batch_size=2048, num_workers=8)\r\n",
        "\r\n",
        "# Define the Hyper-parameters\r\n",
        "lr = 1e-2  # Learning Rate\r\n",
        "k_factor = 10  # Number of dimensions per user, item\r\n",
        "c_bias = 1e-6  # New parameter for regularizing bias\r\n",
        "c_vector = 1e-6  # Regularization constant\r\n",
        "epochs = 10 # total number of training epochs\r\n",
        "device = 'cpu' # or 'gpu'\r\n",
        "\r\n",
        "# initialize the model\r\n",
        "model = MF(dataset.num_users, dataset.num_movies, k_factor=k_factor, c_bias=c_bias, c_vector=c_vector)\r\n",
        "print(model)\r\n",
        "# initialize the optimizer\r\n",
        "optimizer = torch.optim.Adam(params=model.parameters(), lr=lr)"
      ],
      "execution_count": null,
      "outputs": [
        {
          "output_type": "stream",
          "text": [
            "MF(\n",
            "  (user_emb): Embedding(6040, 10)\n",
            "  (movie_emb): Embedding(3706, 10)\n",
            "  (user_bias): Embedding(6040, 1)\n",
            "  (movie_bias): Embedding(3706, 1)\n",
            ")\n"
          ],
          "name": "stdout"
        }
      ]
    },
    {
      "cell_type": "markdown",
      "metadata": {
        "id": "iLu2B9MX_yUX"
      },
      "source": [
        "Now let's fit the model, check the loss changes and test the final score on unseen data."
      ]
    },
    {
      "cell_type": "code",
      "metadata": {
        "colab": {
          "base_uri": "https://localhost:8080/"
        },
        "id": "yIJRsBHStjqF",
        "outputId": "0851264d-7b20-4d24-dc00-8d0646ab1691"
      },
      "source": [
        "# Loop through pre-defined number of epochs\r\n",
        "train_losses = []\r\n",
        "test_losses = []\r\n",
        "\r\n",
        "for epoch in range(epochs):\r\n",
        "    # Perform training on the train set\r\n",
        "    train_loss = fit(model, optimizer, train_data_loader, device)\r\n",
        "    # Perform evaluation on the validation set\r\n",
        "    # valid_auc = test(model, valid_data_loader, device)\r\n",
        "    # Log the epochs and AUC on the validation set\r\n",
        "    print('epoch:', epoch, 'training loss:', train_loss)\r\n",
        "    train_losses.append(train_loss)\r\n",
        "\r\n",
        "    # Perform evaluation on the test set\r\n",
        "    test_loss = test(model, test_data_loader, device)\r\n",
        "    # Log the final MSE loss on the test set\r\n",
        "    print('epoch:', epoch, 'testing  loss:', test_loss)\r\n",
        "    test_losses.append(test_loss)\r\n",
        "\r\n",
        "# Save the model checkpoint\r\n",
        "torch.save(model.state_dict(), 'mf.pt')"
      ],
      "execution_count": null,
      "outputs": [
        {
          "output_type": "stream",
          "text": [
            "epoch: 0 training loss: 0.8833997249603271\n",
            "epoch: 0 testing  loss: 0.9032543301582336\n",
            "epoch: 1 training loss: 0.8608534932136536\n",
            "epoch: 1 testing  loss: 0.8818581700325012\n",
            "epoch: 2 training loss: 0.8139988780021667\n",
            "epoch: 2 testing  loss: 0.8444460034370422\n",
            "epoch: 3 training loss: 0.7552306056022644\n",
            "epoch: 3 testing  loss: 0.8025814294815063\n",
            "epoch: 4 training loss: 0.7055177092552185\n",
            "epoch: 4 testing  loss: 0.782015860080719\n",
            "epoch: 5 training loss: 0.6720893383026123\n",
            "epoch: 5 testing  loss: 0.7770520448684692\n",
            "epoch: 6 training loss: 0.6542090177536011\n",
            "epoch: 6 testing  loss: 0.7734175324440002\n",
            "epoch: 7 training loss: 0.6441497206687927\n",
            "epoch: 7 testing  loss: 0.7706304788589478\n",
            "epoch: 8 training loss: 0.6378635168075562\n",
            "epoch: 8 testing  loss: 0.7692248821258545\n",
            "epoch: 9 training loss: 0.6336599588394165\n",
            "epoch: 9 testing  loss: 0.7690462470054626\n"
          ],
          "name": "stdout"
        }
      ]
    },
    {
      "cell_type": "markdown",
      "metadata": {
        "id": "gGDDakvrGZG7"
      },
      "source": [
        "The model perfomence on test data is not that good, even though training loss converges quite well. These can impove the performance:\r\n",
        "\r\n",
        "*   Get more data\r\n",
        "*   Tune hyper-patameters\r\n",
        "\r\n"
      ]
    },
    {
      "cell_type": "code",
      "metadata": {
        "colab": {
          "base_uri": "https://localhost:8080/",
          "height": 621
        },
        "id": "mcscaJJcHlm0",
        "outputId": "93d7f907-df1a-4a5b-c37c-d40e95a36940"
      },
      "source": [
        "import matplotlib.pyplot as plt\r\n",
        "plt.figure(figsize=(10, 10))\r\n",
        "plt.plot( train_losses, 'b', label='Training loss')\r\n",
        "plt.plot( test_losses, 'r', label='Testing loss')\r\n",
        "plt.title('Training and Test loss')\r\n",
        "plt.xlabel('Epochs')\r\n",
        "plt.ylabel('Loss')\r\n",
        "plt.legend()\r\n",
        "plt.show()"
      ],
      "execution_count": null,
      "outputs": [
        {
          "output_type": "display_data",
          "data": {
            "image/png": "[encoded data removed]",
            "text/plain": [
              "<Figure size 720x720 with 1 Axes>"
            ]
          },
          "metadata": {
            "tags": [],
            "needs_background": "light"
          }
        }
      ]
    },
    {
      "cell_type": "markdown",
      "metadata": {
        "id": "kcBDQr_5-Y8b"
      },
      "source": [
        "# Undertanding Embeddings"
      ]
    },
    {
      "cell_type": "code",
      "metadata": {
        "id": "05YXDdgEmqps"
      },
      "source": [
        "user_emb = model.user_emb.weight\r\n",
        "movie_emb = model.movie_emb.weight\r\n",
        "user_bias = model.user_bias.weight\r\n",
        "movie_bias = model.movie_bias.weight"
      ],
      "execution_count": null,
      "outputs": []
    },
    {
      "cell_type": "code",
      "metadata": {
        "colab": {
          "base_uri": "https://localhost:8080/"
        },
        "id": "4mlNjVuJ4X7A",
        "outputId": "1f63ee4e-4c52-44c1-ba30-c2fd3f7a1a8a"
      },
      "source": [
        "# show some users and movies with corresponding ratings from our dataset\r\n",
        "print(dataset.users)\r\n",
        "print(dataset.movies)\r\n",
        "print(dataset.ratings)"
      ],
      "execution_count": null,
      "outputs": [
        {
          "output_type": "stream",
          "text": [
            "[   0    0    0 ... 6039 6039 6039]\n",
            "[1104  639  853 ...  548 1024 1025]\n",
            "[5. 3. 3. ... 5. 4. 4.]\n"
          ],
          "name": "stdout"
        }
      ]
    },
    {
      "cell_type": "code",
      "metadata": {
        "colab": {
          "base_uri": "https://localhost:8080/"
        },
        "id": "3YD8aeU861QF",
        "outputId": "6a9dce13-fa1b-4a39-83a8-17a47b710182"
      },
      "source": [
        "# lets check if we can get the original ratings of the first and the last samples using latent vectors\r\n",
        "interaction = torch.sum(user_emb[0] * movie_emb[0], dim=0)\r\n",
        "biases = model.bias + user_bias[0] + movie_bias[0]\r\n",
        "prediction = interaction + biases\r\n",
        "print(prediction)\r\n",
        "\r\n",
        "interaction = torch.sum(user_emb[-1] * movie_emb[-1], dim=0)\r\n",
        "biases = model.bias + user_bias[-1] + movie_bias[-1]\r\n",
        "prediction = interaction + biases\r\n",
        "print(prediction)\r\n",
        "\r\n",
        "# or the same can be done using the model itself\r\n",
        "prediction = model(torch.tensor([0]),torch.tensor([0]))\r\n",
        "print(prediction)\r\n",
        "prediction = model(torch.tensor([6039]),torch.tensor([3705]))\r\n",
        "print(prediction)"
      ],
      "execution_count": null,
      "outputs": [
        {
          "output_type": "stream",
          "text": [
            "tensor([4.5945], grad_fn=<AddBackward0>)\n",
            "tensor([3.0533], grad_fn=<AddBackward0>)\n",
            "tensor([4.5945], grad_fn=<AddBackward0>)\n",
            "tensor([3.0533], grad_fn=<AddBackward0>)\n"
          ],
          "name": "stdout"
        }
      ]
    },
    {
      "cell_type": "code",
      "metadata": {
        "colab": {
          "base_uri": "https://localhost:8080/"
        },
        "id": "J_wY4liY5Lza",
        "outputId": "797cb3bc-7db0-400b-bcc6-355c01072941"
      },
      "source": [
        "# or we can define a small function to predict our original ratings for userId == 5533 \r\n",
        "train_df = pd.read_csv('./ml-1m/ratings.dat', sep='::', engine='python', names=['userId', 'movieId', 'ratings', 'timestamp'])\r\n",
        "\r\n",
        "lab_enc = LabelEncoder()\r\n",
        "train_df['encodedMovieID'] = lab_enc.fit_transform(train_df['movieId'])\r\n",
        "\r\n",
        "user = 5533\r\n",
        "watched_movies = train_df[train_df.userId == user]['encodedMovieID'].values\r\n",
        "\r\n",
        "print(\"Original ratings: \")\r\n",
        "print(train_df[train_df.userId == user]['ratings'].values)\r\n",
        "\r\n",
        "def predict_ratings(user, watched_movies):\r\n",
        "  movies = dataset.unique_movies\r\n",
        "  havent_watched = [idx for idx in range(3706) if idx not in watched_movies]\r\n",
        "  \r\n",
        "  predictions = []\r\n",
        "\r\n",
        "  for movie in movies:\r\n",
        "    prediction = model(torch.tensor([user - 1]), torch.tensor([movie])).detach().numpy()\r\n",
        "    predictions.append(prediction)\r\n",
        "\r\n",
        "  normalized_predictions = [i/max(predictions)*5 for i in predictions]\r\n",
        "  normalized_predictions = np.concatenate(normalized_predictions)\r\n",
        "  return np.take(normalized_predictions, watched_movies)\r\n",
        "\r\n",
        "print(\"Predicted ratings: \")\r\n",
        "predict_ratings(user, watched_movies)"
      ],
      "execution_count": null,
      "outputs": [
        {
          "output_type": "stream",
          "text": [
            "Original ratings: \n",
            "[3 5 4 2 4 5 4 5 4 2 4 5 5 4 4 4 4 5 3 4]\n",
            "Predicted ratings: \n"
          ],
          "name": "stdout"
        },
        {
          "output_type": "execute_result",
          "data": {
            "text/plain": [
              "array([3.4933245, 3.9422486, 3.8037155, 2.461097 , 3.71902  , 3.891288 ,\n",
              "       2.7109692, 3.793042 , 3.794425 , 2.5545442, 3.1676104, 4.1350307,\n",
              "       4.1736083, 3.581149 , 3.5438206, 3.6730194, 3.325267 , 4.4560266,\n",
              "       3.1693723, 3.4591904], dtype=float32)"
            ]
          },
          "metadata": {
            "tags": []
          },
          "execution_count": 12
        }
      ]
    },
    {
      "cell_type": "markdown",
      "metadata": {
        "id": "kauWk8J3fxho"
      },
      "source": [
        "# Make predictions\r\n",
        "\r\n",
        "Lets recommend top N (N=10) movies to a user (userId==5533):\r\n",
        "\r\n"
      ]
    },
    {
      "cell_type": "code",
      "metadata": {
        "colab": {
          "base_uri": "https://localhost:8080/"
        },
        "id": "Y4FqUOoa4Gug",
        "outputId": "52ad89d5-bc0c-44c4-f7f5-76327636bdb1"
      },
      "source": [
        "# function which gets user id and user's watched movies to recommend N new movies the user probably will rate highest\r\n",
        "def make_recommendation(user, watched_movies, n):\r\n",
        "  movies = dataset.unique_movies\r\n",
        "  havent_watched = [idx for idx in range(3706) if idx not in watched_movies]\r\n",
        "  \r\n",
        "  # get the predicted ratings for all movies (including already watched movies)\r\n",
        "  predictions = []\r\n",
        "  for movie in movies:\r\n",
        "    prediction = model(torch.tensor([user - 1]), torch.tensor([movie])).detach().numpy()\r\n",
        "    predictions.append(prediction)\r\n",
        "\r\n",
        "  normalized_predictions = [i/max(predictions)*5 for i in predictions]\r\n",
        "  normalized_predictions = np.concatenate(normalized_predictions)\r\n",
        "  \r\n",
        "  # filter out predictied rating and their corresponding indexes only for movies the user haven't watched\r\n",
        "  recommendations = []\r\n",
        "  for i, j in enumerate(normalized_predictions):\r\n",
        "    if i not in watched_movies:\r\n",
        "      recommendations.append([i, j])\r\n",
        "\r\n",
        "  # get top N (highly rated) movie indexes\r\n",
        "  indexes = [idx for (idx, rating) in sorted(recommendations, key=lambda x: x[1], reverse=True)[:n]]\r\n",
        "  return predictions, recommendations, indexes\r\n",
        "\r\n",
        "user = 5533 # take userId == 5533 as an example\r\n",
        "n = 10 # make 10 recommendations\r\n",
        "watched_movies = train_df[train_df.userId == user]['encodedMovieID'].values\r\n",
        "# map encoded movie ids to their original movie ids\r\n",
        "movie_idx_mapping = dict(zip(train_df['encodedMovieID'], train_df['movieId']))\r\n",
        "\r\n",
        "# run the recommendation fucntion and return top N recommended movie indexes\r\n",
        "predictions, recommendations, indexes = make_recommendation(user, watched_movies, n=n)\r\n",
        "\r\n",
        "# to look at all predictions uncomment the following line\r\n",
        "# print(recommendations)\r\n",
        "\r\n",
        "# to check recommended movie idexes with corresponding rating values uncomment:\r\n",
        "# print(recommendations)\r\n",
        "\r\n",
        "# map recommended movie indexes with original movie ids\r\n",
        "print(f'Top {n} recommended movie ids:')\r\n",
        "for idx in indexes:\r\n",
        "  print(movie_idx_mapping[idx])"
      ],
      "execution_count": null,
      "outputs": [
        {
          "output_type": "stream",
          "text": [
            "Top 10 recommended movie ids:\n",
            "668\n",
            "3306\n",
            "3022\n",
            "306\n",
            "1282\n",
            "3787\n",
            "1180\n",
            "2323\n",
            "3030\n",
            "978\n"
          ],
          "name": "stdout"
        }
      ]
    }
  ]
}