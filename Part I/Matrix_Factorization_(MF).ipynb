{
  "nbformat": 4,
  "nbformat_minor": 0,
  "metadata": {
    "accelerator": "GPU",
    "colab": {
      "name": "GitHub: Matrix Factorization (MF).ipynb",
      "provenance": [],
      "collapsed_sections": []
    },
    "kernelspec": {
      "display_name": "Python 3",
      "name": "python3"
    }
  },
  "cells": [
    {
      "cell_type": "markdown",
      "metadata": {
        "id": "FlcZ96-kuYyX"
      },
      "source": [
        "# Matrix Factorization\n",
        "Matrix Factorization is a class of the collaborative filtering algorithm. The end goal of matrix factorization is basically to build a matrix of users and items filled with known and predicted ratings.\n",
        "\n",
        "Starting with our sparse (and high-dimensional) original matrix of only known ratings, we want to determine the two factor matrices that are much lower in dimensions that would produce our original matrix. One being the matrix that quantitatively represents the users (user matrix) where each row of the matrix is a vector of size *k* that represents a single user, and the other being the item matrix where each column is a vector of size *k* that represents a single item.\n",
        "\n",
        "![](https://drive.google.com/uc?id=1ZyzVuhcrOA4iYaw69EaBsqPPdLdDqvFW)\n",
        "\n",
        "The model is learned by fitting the previously observed ratings. However, the goal is to generalize those previous ratings in a way that predicts future/unknown ratings. \n",
        "\n",
        "* Accordingly, each item *i* is associated with a vector *q_i*, and each user *u* is associated with a vector *p_u*.\n",
        "* For a given item *i*, the elements of *q_i* measure the extent to which the item possesses those factors, positive or negative.\n",
        "* For a given user *u*, the elements of *p_u* measure the extent of interest the user has in items that are high on the corresponding factors, positive or negative.\n",
        "* The resulting dot product (*q_i* * *p_u*) captures the interaction between user *u* and item *i*, which is the user’s overall interest in the item’s characteristics:\n",
        "\n",
        "  ![](https://drive.google.com/uc?id=1--ADw7Bmz6fOOwbLAN2Krd4hcfEdH-7d)\n",
        "\n",
        "* Some users give high ratings than others, and some items received high ratings than others systematically. To capture these biases, user specific and item specific bias terms can be introduced. Thus, we can extend above equation as follows:\n",
        "\n",
        "  ![](https://drive.google.com/uc?id=1TZ8SmF-Fsrh93U2Ymx1sSgycn7GZEL4v)\n",
        "\n",
        "* The model is learned by minimizing a squared error function on the set of known ratings, in order to avoid overfitting the observed data we add an L2 regularization penalty to each element and optimize the learned parameters simultaneously with stochastic gradient descent, as seen in equation below:\n",
        "\n",
        "  ![](https://drive.google.com/uc?id=1C9D1Fd-FvA6hw12SFHN7m3csCeJpVRtX)\n",
        "\n"
      ]
    },
    {
      "cell_type": "markdown",
      "metadata": {
        "id": "b7kdjkpcvMBh"
      },
      "source": [
        "# Model implementation in PyTorch\n",
        "\n",
        "First, we implement the matrix factorization model described above. The user/item latent factors and the user/item biases can be created with the `nn.Embedding. `\n",
        "\n",
        "In the forward function, user and item ids are used to look up the embeddings."
      ]
    },
    {
      "cell_type": "code",
      "metadata": {
        "colab": {
          "base_uri": "https://localhost:8080/"
        },
        "id": "KgFu78zwvXTr",
        "outputId": "6d9384df-420b-45f1-eb60-3eb64d5fec1c"
      },
      "source": [
        "# import al necessary libraries\n",
        "import numpy as np\n",
        "import pandas as pd\n",
        "from sklearn.preprocessing import LabelEncoder\n",
        "from sklearn.model_selection import train_test_split\n",
        "import tqdm\n",
        "\n",
        "import torch\n",
        "import torch.nn as nn\n",
        "import torch.nn.functional as F\n",
        "from torch.utils.data import DataLoader, Dataset\n",
        "torch.manual_seed(2020)"
      ],
      "execution_count": 1,
      "outputs": [
        {
          "output_type": "execute_result",
          "data": {
            "text/plain": [
              "<torch._C.Generator at 0x7fc90f6c6590>"
            ]
          },
          "metadata": {
            "tags": []
          },
          "execution_count": 1
        }
      ]
    },
    {
      "cell_type": "code",
      "metadata": {
        "id": "_cEu3CF3z9m7"
      },
      "source": [
        "class MovieLensDataset(Dataset):\n",
        "  \"\"\"\n",
        "  MovieLens dataset class\n",
        "  \"\"\"\n",
        "  def __init__(self, dataset_path, sep='::', engine='python', header=None):\n",
        "    data = pd.read_csv(dataset_path, sep=sep, engine=engine, header=header)\n",
        "\n",
        "    # enconde the data to have contiguous ids for users and movies\n",
        "    lab_enc = LabelEncoder()\n",
        "    data[0] = lab_enc.fit_transform(data[0])\n",
        "    data[1] = lab_enc.fit_transform(data[1])\n",
        "    data = data.to_numpy()[:, :3]\n",
        "\n",
        "    # retrieve users, movies and ratings data\n",
        "    self.users = data[:, 0].astype(np.int)\n",
        "    self.movies = data[:, 1].astype(np.int)\n",
        "    self.ratings = data[:, 2].astype(np.float32)\n",
        "    self.num_users = len(np.unique(self.users))\n",
        "    self.num_movies = len(np.unique(self.movies))\n",
        "    self.unique_movies = np.unique(self.movies)\n",
        "\n",
        "  def __len__(self):\n",
        "    return self.ratings.shape[0]\n",
        "\n",
        "  def __getitem__(self, idx):\n",
        "    return self.users[idx], self.movies[idx], self.ratings[idx]"
      ],
      "execution_count": 2,
      "outputs": []
    },
    {
      "cell_type": "code",
      "metadata": {
        "id": "dmLhpBxRrnI5"
      },
      "source": [
        "class MF(nn.Module):\n",
        "  \"\"\"\n",
        "  Matrix Factorization model class\n",
        "  \"\"\"\n",
        "  def __init__(self, n_user, n_item, k_factor, c_bias, c_vector):\n",
        "    super(MF, self).__init__()\n",
        "\n",
        "    # These are the hyper-parameters\n",
        "    self.n_user = n_user\n",
        "    self.n_item = n_item\n",
        "    self.k_factor = k_factor\n",
        "    self.c_bias = c_bias\n",
        "    self.c_vector = c_vector\n",
        "\n",
        "    # factor matrices and biases which learned and fit by PyTorch\n",
        "    self.user_emb = nn.Embedding(self.n_user, k_factor)\n",
        "    self.movie_emb = nn.Embedding(self.n_item, k_factor)\n",
        "    self.user_bias = nn.Embedding(self.n_user, 1)\n",
        "    self.movie_bias = nn.Embedding(self.n_item, 1)        \n",
        "    self.bias = nn.Parameter(torch.ones(1))\n",
        "\n",
        "    # initializing our matrices with a positive number generally will yield better results\n",
        "    self.user_emb.weight.data.uniform_(0, 0.05)\n",
        "    self.movie_emb.weight.data.uniform_(0, 0.05)\n",
        "    self.user_bias.weight.data.uniform_(-0.01,0.01)\n",
        "    self.movie_bias.weight.data.uniform_(-0.01,0.01)  \n",
        "\n",
        "  def forward(self, user_idx, movie_idx):\n",
        "    user_vector = self.user_emb(user_idx)\n",
        "    movie_vector = self.movie_emb(movie_idx)\n",
        "    bias_user = self.user_bias(user_idx).squeeze()\n",
        "    bias_movie = self.movie_bias(movie_idx).squeeze()\n",
        "    biases = (self.bias + bias_user + bias_movie)\n",
        "\n",
        "    # taking the dot product and adding biases to the prediction\n",
        "    interaction = torch.sum(user_vector * movie_vector, dim=1)\n",
        "    prediction = interaction + biases\n",
        "    return prediction\n",
        "\n",
        "  def loss(self, prediction, target):\n",
        "    \"\"\"\n",
        "    Function to calculate the loss metric\n",
        "    \"\"\"\n",
        "    # Calculate the Mean Squared Error between target = R_ui and prediction = p_u * q_i\n",
        "    loss_mse = F.mse_loss(prediction, target.squeeze())\n",
        "\n",
        "    # Compute L2 regularization over user (P) and item (Q) matrices\n",
        "    reg_user  = l2_regularize(self.user_emb.weight) * self.c_vector\n",
        "    reg_movie  = l2_regularize(self.movie_emb.weight) * self.c_vector\n",
        "\n",
        "    # compute L2 regularization over the biases for user and the biases for item matrices\n",
        "    prior_bias_user = l2_regularize(self.user_bias.weight) * self.c_bias\n",
        "    prior_bias_movie = l2_regularize(self.movie_bias.weight) * self.c_bias\n",
        "\n",
        "    # Add up the MSE loss + user & item regularization\n",
        "    total_loss = loss_mse + reg_user + reg_movie + prior_bias_user + prior_bias_movie\n",
        "    return total_loss\n",
        "    \n",
        "def l2_regularize(array):\n",
        "    \"\"\"\n",
        "    Function to do L2 regularization\n",
        "    \"\"\"\n",
        "    loss = torch.sum(array ** 2.0)\n",
        "    return loss"
      ],
      "execution_count": 3,
      "outputs": []
    },
    {
      "cell_type": "code",
      "metadata": {
        "id": "q850b7SKtjnI"
      },
      "source": [
        "# create the training function to train the model on training data\n",
        "def fit(model, optimizer, data_loader, device, log_interval=1000):\n",
        "    model.train()\n",
        "    for i, (user, movie, target) in enumerate(data_loader):\n",
        "        user, movie, target = user.to(device), movie.to(device), target.to(device)\n",
        "        predicts = model(user, movie)\n",
        "        loss_mse = model.loss(predicts, target.float())\n",
        "        model.zero_grad()\n",
        "        loss_mse.backward()\n",
        "        optimizer.step()\n",
        "    return loss_mse.item()\n",
        "\n",
        "# create the evaluating function to test the model performance on unseen data\n",
        "def test(model, data_loader, device):\n",
        "    model.eval()\n",
        "    with torch.no_grad():\n",
        "        for user, movie, target in (data_loader):\n",
        "            user, movie, target = user.to(device), movie.to(device), target.to(device)\n",
        "            predict = model(user, movie)\n",
        "            loss_mse = model.loss(predict, target)\n",
        "    return loss_mse.item()"
      ],
      "execution_count": 4,
      "outputs": []
    },
    {
      "cell_type": "code",
      "metadata": {
        "colab": {
          "base_uri": "https://localhost:8080/"
        },
        "id": "p2_oI7FN1J-G",
        "outputId": "fa866f36-ae3c-4bd2-fdf3-85218a34893a"
      },
      "source": [
        "# get the data\n",
        "!wget http://files.grouplens.org/datasets/movielens/ml-1m.zip\n",
        "!unzip ml-1m.zip"
      ],
      "execution_count": 5,
      "outputs": [
        {
          "output_type": "stream",
          "text": [
            "--2021-05-08 07:32:54--  http://files.grouplens.org/datasets/movielens/ml-1m.zip\n",
            "Resolving files.grouplens.org (files.grouplens.org)... 128.101.65.152\n",
            "Connecting to files.grouplens.org (files.grouplens.org)|128.101.65.152|:80... connected.\n",
            "HTTP request sent, awaiting response... 200 OK\n",
            "Length: 5917549 (5.6M) [application/zip]\n",
            "Saving to: ‘ml-1m.zip’\n",
            "\n",
            "ml-1m.zip           100%[===================>]   5.64M  27.9MB/s    in 0.2s    \n",
            "\n",
            "2021-05-08 07:32:54 (27.9 MB/s) - ‘ml-1m.zip’ saved [5917549/5917549]\n",
            "\n",
            "Archive:  ml-1m.zip\n",
            "   creating: ml-1m/\n",
            "  inflating: ml-1m/movies.dat        \n",
            "  inflating: ml-1m/ratings.dat       \n",
            "  inflating: ml-1m/README            \n",
            "  inflating: ml-1m/users.dat         \n"
          ],
          "name": "stdout"
        }
      ]
    },
    {
      "cell_type": "code",
      "metadata": {
        "id": "9RC1sqToIAaX"
      },
      "source": [
        "import os\n",
        "os.chdir('/content/')"
      ],
      "execution_count": 6,
      "outputs": []
    },
    {
      "cell_type": "code",
      "metadata": {
        "colab": {
          "base_uri": "https://localhost:8080/"
        },
        "id": "gbnOt_niIUI-",
        "outputId": "9c1a68ab-8b15-43b6-8726-4d9ba5f85a68"
      },
      "source": [
        "os.listdir()"
      ],
      "execution_count": 7,
      "outputs": [
        {
          "output_type": "execute_result",
          "data": {
            "text/plain": [
              "['.config', 'ml-1m', 'drive', 'ml-1m.zip', 'sample_data']"
            ]
          },
          "metadata": {
            "tags": []
          },
          "execution_count": 7
        }
      ]
    },
    {
      "cell_type": "code",
      "metadata": {
        "colab": {
          "base_uri": "https://localhost:8080/"
        },
        "id": "_TCuL5kjdTtV",
        "outputId": "742e14d1-ca4e-461b-fd72-1883c81232d3"
      },
      "source": [
        "# Create users dataframe\n",
        "users = pd.read_csv(\"./ml-1m/users.dat\", delimiter='::', engine='python',\n",
        "                    names=['user', 'gender', 'age', 'occupation', 'zipcode'])\n",
        "\n",
        "\n",
        "# Create users dataframe\n",
        "movies = pd.read_csv(\"./ml-1m/movies.dat\", delimiter='::', engine='python',\n",
        "                    names=['id', 'title', 'genres_str'])\n",
        "\n",
        "\n",
        "# Create dict of genres\n",
        "movies['genres'] = movies['genres_str'].apply(lambda gs: {key: 1.0 for key in gs.split('|')})\n",
        "\n",
        "# Create ratings dataframe\n",
        "cols = ['user', 'item', 'rating', 'timestamp']\n",
        "rat = pd.read_csv('./ml-1m/ratings.dat', delimiter='::',\n",
        "                  names=cols, engine='python')\n",
        "# Is this rating the first rating ever for that user, or the nth?\n",
        "rat['rank'] = rat.groupby(\"user\")[\"timestamp\"].rank(ascending=True)\n",
        "# Make our numbers predictable\n",
        "np.random.seed(42)\n",
        "# Set 90% of dataset to training, 10% test\n",
        "rat['is_train'] = np.random.random(len(rat)) < 0.90\n",
        "rat.to_pickle('./ml-1m/dataset.pd')\n",
        "\n",
        "# Merge ratings & user features\n",
        "df = rat.merge(users, on='user')\n",
        "df = df.merge(movies, left_on='item', right_on='id')\n",
        "df = df.sample(frac=1)\n",
        "assert len(rat) == len(df)\n",
        "\n",
        "# Compute cardinalities\n",
        "n_features = df.user.max() + 1 + df.item.max() + 1\n",
        "n_user = df.user.max() + 1\n",
        "n_item = df.item.max() + 1\n",
        "n_rank = df['rank'].max() + 1\n",
        "n_occu = df['occupation'].max() + 1\n",
        "print('n_item', n_item)\n",
        "print('n_user', n_user)\n",
        "print('n_featuers', n_features)\n",
        "print('n_occu', n_occu)\n",
        "print('n_rows', len(df))\n",
        "\n",
        "\n",
        "def split(subset):\n",
        "    feat_cols = ['user', 'item', 'rank', 'occupation']\n",
        "    out_cols = ['rating']\n",
        "    features = subset[feat_cols]\n",
        "    features_dict = list(subset['genres'].values)\n",
        "    outcomes = subset[out_cols]\n",
        "    features = features.values.astype(np.int32)\n",
        "    outcomes = outcomes.values.astype(np.float32)\n",
        "    both = subset[feat_cols + out_cols]\n",
        "    return features, outcomes, both, features_dict\n",
        "\n",
        "\n",
        "train_x, train_y, train_xy, train_dict = split(df[df.is_train])\n",
        "test_x, test_y, test_xy, test_dict = split(df[~df.is_train])\n",
        "\n",
        "np.savez(\"./ml-1m/dataset.npz\", train_x=train_x, train_y=train_y,\n",
        "         train_xy=train_xy, test_x=test_x, test_y=test_y, test_xy=test_xy,\n",
        "         train_dict=train_dict, test_dict=test_dict,\n",
        "         n_user=n_user, n_item=n_item, n_ranks=n_rank, n_occu=n_occu)"
      ],
      "execution_count": 8,
      "outputs": [
        {
          "output_type": "stream",
          "text": [
            "n_item 3953\n",
            "n_user 6041\n",
            "n_featuers 9994\n",
            "n_occu 21\n",
            "n_rows 1000209\n"
          ],
          "name": "stdout"
        }
      ]
    },
    {
      "cell_type": "code",
      "metadata": {
        "colab": {
          "base_uri": "https://localhost:8080/"
        },
        "id": "nDLpqCgG_fkH",
        "outputId": "cdc1859e-7b7d-4519-e6aa-3efb52550f32"
      },
      "source": [
        "# Get the dataset\n",
        "dataset = MovieLensDataset('./ml-1m/ratings.dat')\n",
        "# Split the data into 80% train, 10% validation, and 10% test\n",
        "train_length = int(len(dataset) * 0.9)\n",
        "test_length = len(dataset) - train_length\n",
        "train_dataset, test_dataset = torch.utils.data.random_split(dataset, (train_length, test_length))\n",
        "\n",
        "# Instantiate data loader classes for train, validation, and test sets\n",
        "train_data_loader = DataLoader(train_dataset, batch_size=2048, num_workers=8)\n",
        "test_data_loader = DataLoader(test_dataset, batch_size=2048, num_workers=8)\n",
        "\n",
        "# Define the Hyper-parameters\n",
        "lr = 1e-2  # Learning Rate\n",
        "k_factor = 10  # Number of dimensions per user, item\n",
        "c_bias = 1e-6  # New parameter for regularizing bias\n",
        "c_vector = 1e-6  # Regularization constant\n",
        "epochs = 10 # total number of training epochs\n",
        "device = 'cpu' # or 'gpu'\n",
        "\n",
        "# initialize the model\n",
        "model = MF(dataset.num_users, dataset.num_movies, k_factor=k_factor, c_bias=c_bias, c_vector=c_vector)\n",
        "print(model)\n",
        "# initialize the optimizer\n",
        "optimizer = torch.optim.Adam(params=model.parameters(), lr=lr)"
      ],
      "execution_count": 9,
      "outputs": [
        {
          "output_type": "stream",
          "text": [
            "MF(\n",
            "  (user_emb): Embedding(6040, 10)\n",
            "  (movie_emb): Embedding(3706, 10)\n",
            "  (user_bias): Embedding(6040, 1)\n",
            "  (movie_bias): Embedding(3706, 1)\n",
            ")\n"
          ],
          "name": "stdout"
        },
        {
          "output_type": "stream",
          "text": [
            "/usr/local/lib/python3.7/dist-packages/torch/utils/data/dataloader.py:477: UserWarning: This DataLoader will create 8 worker processes in total. Our suggested max number of worker in current system is 2, which is smaller than what this DataLoader is going to create. Please be aware that excessive worker creation might get DataLoader running slow or even freeze, lower the worker number to avoid potential slowness/freeze if necessary.\n",
            "  cpuset_checked))\n"
          ],
          "name": "stderr"
        }
      ]
    },
    {
      "cell_type": "markdown",
      "metadata": {
        "id": "iLu2B9MX_yUX"
      },
      "source": [
        "Now let's fit the model, check the loss changes and test the final score on unseen data."
      ]
    },
    {
      "cell_type": "code",
      "metadata": {
        "id": "yIJRsBHStjqF",
        "colab": {
          "base_uri": "https://localhost:8080/"
        },
        "outputId": "671d1c9f-faf0-429c-e273-434aa6cfd157"
      },
      "source": [
        "# Loop through pre-defined number of epochs\n",
        "train_losses = []\n",
        "test_losses = []\n",
        "\n",
        "for epoch in range(epochs):\n",
        "    # Perform training on the train set\n",
        "    train_loss = fit(model, optimizer, train_data_loader, device)\n",
        "    # Perform evaluation on the validation set\n",
        "    # valid_auc = test(model, valid_data_loader, device)\n",
        "    # Log the epochs and AUC on the validation set\n",
        "    print('epoch:', epoch, 'training loss:', train_loss)\n",
        "    train_losses.append(train_loss)\n",
        "\n",
        "    # Perform evaluation on the test set\n",
        "    test_loss = test(model, test_data_loader, device)\n",
        "    # Log the final MSE loss on the test set\n",
        "    print('epoch:', epoch, 'testing  loss:', test_loss)\n",
        "    test_losses.append(test_loss)\n",
        "\n",
        "# Save the model checkpoint\n",
        "torch.save(model.state_dict(), 'mf.pt')"
      ],
      "execution_count": 10,
      "outputs": [
        {
          "output_type": "stream",
          "text": [
            "/usr/local/lib/python3.7/dist-packages/torch/utils/data/dataloader.py:477: UserWarning: This DataLoader will create 8 worker processes in total. Our suggested max number of worker in current system is 2, which is smaller than what this DataLoader is going to create. Please be aware that excessive worker creation might get DataLoader running slow or even freeze, lower the worker number to avoid potential slowness/freeze if necessary.\n",
            "  cpuset_checked))\n"
          ],
          "name": "stderr"
        },
        {
          "output_type": "stream",
          "text": [
            "epoch: 0 training loss: 0.8833997249603271\n",
            "epoch: 0 testing  loss: 0.9032543301582336\n",
            "epoch: 1 training loss: 0.8608534932136536\n",
            "epoch: 1 testing  loss: 0.8818581700325012\n",
            "epoch: 2 training loss: 0.8139988780021667\n",
            "epoch: 2 testing  loss: 0.8444460034370422\n",
            "epoch: 3 training loss: 0.7552306056022644\n",
            "epoch: 3 testing  loss: 0.8025814294815063\n",
            "epoch: 4 training loss: 0.7055177092552185\n",
            "epoch: 4 testing  loss: 0.782015860080719\n",
            "epoch: 5 training loss: 0.6720893383026123\n",
            "epoch: 5 testing  loss: 0.7770520448684692\n",
            "epoch: 6 training loss: 0.6542090177536011\n",
            "epoch: 6 testing  loss: 0.7734175324440002\n",
            "epoch: 7 training loss: 0.6441497206687927\n",
            "epoch: 7 testing  loss: 0.7706304788589478\n",
            "epoch: 8 training loss: 0.6378635168075562\n",
            "epoch: 8 testing  loss: 0.7692248821258545\n",
            "epoch: 9 training loss: 0.6336599588394165\n",
            "epoch: 9 testing  loss: 0.7690462470054626\n"
          ],
          "name": "stdout"
        }
      ]
    },
    {
      "cell_type": "markdown",
      "metadata": {
        "id": "gGDDakvrGZG7"
      },
      "source": [
        "The model perfomence on test data is not that good, even though training loss converges quite well. These can impove the performance:\n",
        "\n",
        "*   Get more data\n",
        "*   Tune hyper-patameters\n",
        "\n"
      ]
    },
    {
      "cell_type": "code",
      "metadata": {
        "id": "mcscaJJcHlm0",
        "colab": {
          "base_uri": "https://localhost:8080/",
          "height": 621
        },
        "outputId": "58921323-c976-436d-c7b4-9456d189f11d"
      },
      "source": [
        "import matplotlib.pyplot as plt\n",
        "plt.figure(figsize=(10, 10))\n",
        "plt.plot( train_losses, 'b', label='Training loss')\n",
        "plt.plot( test_losses, 'r', label='Testing loss')\n",
        "plt.title('Training and Test loss')\n",
        "plt.xlabel('Epochs')\n",
        "plt.ylabel('Loss')\n",
        "plt.legend()\n",
        "plt.show()"
      ],
      "execution_count": 11,
      "outputs": [
        {
          "output_type": "display_data",
          "data": {
            "image/png": "[encoded data removed]",
            "text/plain": [
              "<Figure size 720x720 with 1 Axes>"
            ]
          },
          "metadata": {
            "tags": [],
            "needs_background": "light"
          }
        }
      ]
    },
    {
      "cell_type": "markdown",
      "metadata": {
        "id": "kcBDQr_5-Y8b"
      },
      "source": [
        "# Undertanding Model Outputs"
      ]
    },
    {
      "cell_type": "code",
      "metadata": {
        "id": "05YXDdgEmqps"
      },
      "source": [
        "user_emb = model.user_emb.weight\n",
        "movie_emb = model.movie_emb.weight\n",
        "user_bias = model.user_bias.weight\n",
        "movie_bias = model.movie_bias.weight"
      ],
      "execution_count": 12,
      "outputs": []
    },
    {
      "cell_type": "code",
      "metadata": {
        "id": "4mlNjVuJ4X7A",
        "colab": {
          "base_uri": "https://localhost:8080/"
        },
        "outputId": "0c8ead51-9c3f-4171-82a4-73c414f2bca4"
      },
      "source": [
        "# show some users and movies with corresponding ratings from our dataset\n",
        "print(dataset.users)\n",
        "print(dataset.movies)\n",
        "print(dataset.ratings)"
      ],
      "execution_count": 13,
      "outputs": [
        {
          "output_type": "stream",
          "text": [
            "[   0    0    0 ... 6039 6039 6039]\n",
            "[1104  639  853 ...  548 1024 1025]\n",
            "[5. 3. 3. ... 5. 4. 4.]\n"
          ],
          "name": "stdout"
        }
      ]
    },
    {
      "cell_type": "code",
      "metadata": {
        "colab": {
          "base_uri": "https://localhost:8080/"
        },
        "id": "Y7d6j71JxXKB",
        "outputId": "7572874a-e64b-47fc-d8a0-52aa19fe8c45"
      },
      "source": [
        "!pip install umap-learn"
      ],
      "execution_count": 14,
      "outputs": [
        {
          "output_type": "stream",
          "text": [
            "Collecting umap-learn\n",
            "\u001b[?25l  Downloading https://files.pythonhosted.org/packages/75/69/85e7f950bb75792ad5d666d86c5f3e62eedbb942848e7e3126513af9999c/umap-learn-0.5.1.tar.gz (80kB)\n",
            "\u001b[K     |████████████████████████████████| 81kB 9.0MB/s \n",
            "\u001b[?25hRequirement already satisfied: numpy>=1.17 in /usr/local/lib/python3.7/dist-packages (from umap-learn) (1.19.5)\n",
            "Requirement already satisfied: scikit-learn>=0.22 in /usr/local/lib/python3.7/dist-packages (from umap-learn) (0.22.2.post1)\n",
            "Requirement already satisfied: scipy>=1.0 in /usr/local/lib/python3.7/dist-packages (from umap-learn) (1.4.1)\n",
            "Requirement already satisfied: numba>=0.49 in /usr/local/lib/python3.7/dist-packages (from umap-learn) (0.51.2)\n",
            "Collecting pynndescent>=0.5\n",
            "\u001b[?25l  Downloading https://files.pythonhosted.org/packages/af/65/8189298dd3a05bbad716ee8e249764ff8800e365d8dc652ad2192ca01b4a/pynndescent-0.5.2.tar.gz (1.1MB)\n",
            "\u001b[K     |████████████████████████████████| 1.2MB 13.9MB/s \n",
            "\u001b[?25hRequirement already satisfied: joblib>=0.11 in /usr/local/lib/python3.7/dist-packages (from scikit-learn>=0.22->umap-learn) (1.0.1)\n",
            "Requirement already satisfied: llvmlite<0.35,>=0.34.0.dev0 in /usr/local/lib/python3.7/dist-packages (from numba>=0.49->umap-learn) (0.34.0)\n",
            "Requirement already satisfied: setuptools in /usr/local/lib/python3.7/dist-packages (from numba>=0.49->umap-learn) (56.1.0)\n",
            "Building wheels for collected packages: umap-learn, pynndescent\n",
            "  Building wheel for umap-learn (setup.py) ... \u001b[?25l\u001b[?25hdone\n",
            "  Created wheel for umap-learn: filename=umap_learn-0.5.1-cp37-none-any.whl size=76569 sha256=ff0f536f192104da6d81a690b24cc3782e5230f2504f51e27b51c85797d0a622\n",
            "  Stored in directory: /root/.cache/pip/wheels/ad/df/d5/a3691296ff779f25cd1cf415a3af954b987fb53111e3392cf4\n",
            "  Building wheel for pynndescent (setup.py) ... \u001b[?25l\u001b[?25hdone\n",
            "  Created wheel for pynndescent: filename=pynndescent-0.5.2-cp37-none-any.whl size=51351 sha256=66e8471514f5183ef889da10167a79610f0b444fb3578acc3bb0391e921cc680\n",
            "  Stored in directory: /root/.cache/pip/wheels/ba/52/4e/4c28d04d144a28f89e2575fb63628df6e6d49b56c5ddd0c74e\n",
            "Successfully built umap-learn pynndescent\n",
            "Installing collected packages: pynndescent, umap-learn\n",
            "Successfully installed pynndescent-0.5.2 umap-learn-0.5.1\n"
          ],
          "name": "stdout"
        }
      ]
    },
    {
      "cell_type": "code",
      "metadata": {
        "colab": {
          "base_uri": "https://localhost:8080/",
          "height": 554
        },
        "id": "s9gTNuEszlBT",
        "outputId": "659931ad-7988-4c03-c19f-5e36430d4b81"
      },
      "source": [
        "import umap\n",
        "\n",
        "cluster_embedding = umap.UMAP(n_neighbors=10, min_dist=0.0, n_components=2, random_state=42).fit_transform(movie_emb.detach().numpy())\n",
        "\n",
        "plt.figure(figsize=(10,9))\n",
        "plt.scatter(cluster_embedding[:, 0], cluster_embedding[:, 1], s=3, cmap='Spectral')"
      ],
      "execution_count": 15,
      "outputs": [
        {
          "output_type": "execute_result",
          "data": {
            "text/plain": [
              "<matplotlib.collections.PathCollection at 0x7fc8b0f40c50>"
            ]
          },
          "metadata": {
            "tags": []
          },
          "execution_count": 15
        },
        {
          "output_type": "display_data",
          "data": {
            "image/png": "[encoded data removed]",
            "text/plain": [
              "<Figure size 720x648 with 1 Axes>"
            ]
          },
          "metadata": {
            "tags": [],
            "needs_background": "light"
          }
        }
      ]
    },
    {
      "cell_type": "code",
      "metadata": {
        "id": "3YD8aeU861QF",
        "colab": {
          "base_uri": "https://localhost:8080/"
        },
        "outputId": "c297b870-4545-4fd4-ab0c-3071c47d8f66"
      },
      "source": [
        "# lets check if we can get the original ratings of the first and the last samples using latent vectors\n",
        "interaction = torch.sum(user_emb[0] * movie_emb[0], dim=0)\n",
        "biases = model.bias + user_bias[0] + movie_bias[0]\n",
        "prediction = interaction + biases\n",
        "print(prediction)\n",
        "\n",
        "interaction = torch.sum(user_emb[-1] * movie_emb[-1], dim=0)\n",
        "biases = model.bias + user_bias[-1] + movie_bias[-1]\n",
        "prediction = interaction + biases\n",
        "print(prediction)\n",
        "\n",
        "# or the same can be done using the model itself\n",
        "prediction = model(torch.tensor([0]),torch.tensor([0]))\n",
        "print(prediction)\n",
        "prediction = model(torch.tensor([6039]),torch.tensor([3705]))\n",
        "print(prediction)"
      ],
      "execution_count": 16,
      "outputs": [
        {
          "output_type": "stream",
          "text": [
            "tensor([4.5945], grad_fn=<AddBackward0>)\n",
            "tensor([3.0533], grad_fn=<AddBackward0>)\n",
            "tensor([4.5945], grad_fn=<AddBackward0>)\n",
            "tensor([3.0533], grad_fn=<AddBackward0>)\n"
          ],
          "name": "stdout"
        }
      ]
    },
    {
      "cell_type": "code",
      "metadata": {
        "id": "J_wY4liY5Lza",
        "colab": {
          "base_uri": "https://localhost:8080/"
        },
        "outputId": "b0330d1e-9415-4c4f-fb54-31ce4fd45e23"
      },
      "source": [
        "# or we can define a small function to predict our original ratings for userId == 5533 \n",
        "train_df = pd.read_csv('./ml-1m/ratings.dat', sep='::', engine='python', names=['userId', 'movieId', 'ratings', 'timestamp'])\n",
        "\n",
        "lab_enc = LabelEncoder()\n",
        "train_df['encodedMovieID'] = lab_enc.fit_transform(train_df['movieId'])\n",
        "\n",
        "user = 5533\n",
        "watched_movies = train_df[train_df.userId == user]['encodedMovieID'].values\n",
        "\n",
        "print(\"Original ratings: \")\n",
        "print(train_df[train_df.userId == user]['ratings'].values)\n",
        "\n",
        "def predict_ratings(user, watched_movies):\n",
        "  movies = dataset.unique_movies\n",
        "  havent_watched = [idx for idx in range(3706) if idx not in watched_movies]\n",
        "  \n",
        "  predictions = []\n",
        "\n",
        "  for movie in movies:\n",
        "    prediction = model(torch.tensor([user - 1]), torch.tensor([movie])).detach().numpy()\n",
        "    predictions.append(prediction)\n",
        "\n",
        "  normalized_predictions = [i/max(predictions)*5 for i in predictions]\n",
        "  normalized_predictions = np.concatenate(normalized_predictions)\n",
        "  return np.take(normalized_predictions, watched_movies)\n",
        "\n",
        "print(\"Predicted ratings: \")\n",
        "predict_ratings(user, watched_movies)"
      ],
      "execution_count": 17,
      "outputs": [
        {
          "output_type": "stream",
          "text": [
            "Original ratings: \n",
            "[3 5 4 2 4 5 4 5 4 2 4 5 5 4 4 4 4 5 3 4]\n",
            "Predicted ratings: \n"
          ],
          "name": "stdout"
        },
        {
          "output_type": "execute_result",
          "data": {
            "text/plain": [
              "array([3.4933245, 3.9422486, 3.8037155, 2.461097 , 3.71902  , 3.891288 ,\n",
              "       2.7109692, 3.793042 , 3.794425 , 2.5545442, 3.1676104, 4.1350307,\n",
              "       4.1736083, 3.581149 , 3.5438206, 3.6730194, 3.325267 , 4.4560266,\n",
              "       3.1693723, 3.4591904], dtype=float32)"
            ]
          },
          "metadata": {
            "tags": []
          },
          "execution_count": 17
        }
      ]
    },
    {
      "cell_type": "markdown",
      "metadata": {
        "id": "kauWk8J3fxho"
      },
      "source": [
        "# Make predictions\n",
        "\n",
        "Lets recommend top N (N=10) movies to a user (userId==5533):\n",
        "\n"
      ]
    },
    {
      "cell_type": "code",
      "metadata": {
        "id": "Y4FqUOoa4Gug",
        "colab": {
          "base_uri": "https://localhost:8080/"
        },
        "outputId": "4bb2c6f0-97d8-403c-eb6f-11688b1b9631"
      },
      "source": [
        "# function which gets user id and user's watched movies to recommend N new movies the user probably will rate highest\n",
        "def make_recommendation(user, watched_movies, n):\n",
        "  movies = dataset.unique_movies\n",
        "  havent_watched = [idx for idx in range(3706) if idx not in watched_movies]\n",
        "  \n",
        "  # get the predicted ratings for all movies (including already watched movies)\n",
        "  predictions = []\n",
        "  for movie in movies:\n",
        "    prediction = model(torch.tensor([user - 1]), torch.tensor([movie])).detach().numpy()\n",
        "    predictions.append(prediction)\n",
        "\n",
        "  normalized_predictions = [i/max(predictions)*5 for i in predictions]\n",
        "  normalized_predictions = np.concatenate(normalized_predictions)\n",
        "  \n",
        "  # filter out predictied rating and their corresponding indexes only for movies the user haven't watched\n",
        "  recommendations = []\n",
        "  for i, j in enumerate(normalized_predictions):\n",
        "    if i not in watched_movies:\n",
        "      recommendations.append([i, j])\n",
        "\n",
        "  # get top N (highly rated) movie indexes\n",
        "  indexes = [idx for (idx, rating) in sorted(recommendations, key=lambda x: x[1], reverse=True)[:n]]\n",
        "  return predictions, recommendations, indexes\n",
        "\n",
        "user = 5533 # take userId == 5533 as an example\n",
        "n = 10 # make 10 recommendations\n",
        "watched_movies = train_df[train_df.userId == user]['encodedMovieID'].values\n",
        "# map encoded movie ids to their original movie ids\n",
        "movie_idx_mapping = dict(zip(train_df['encodedMovieID'], train_df['movieId']))\n",
        "\n",
        "# run the recommendation fucntion and return top N recommended movie indexes\n",
        "predictions, recommendations, indexes = make_recommendation(user, watched_movies, n=n)\n",
        "\n",
        "# to look at all predictions uncomment the following line\n",
        "# print(recommendations)\n",
        "\n",
        "# to check recommended movie idexes with corresponding rating values uncomment:\n",
        "# print(recommendations)\n",
        "\n",
        "# map recommended movie indexes with original movie ids\n",
        "print(f'Top {n} recommended movie ids:')\n",
        "for idx in indexes:\n",
        "  print(movie_idx_mapping[idx])"
      ],
      "execution_count": 18,
      "outputs": [
        {
          "output_type": "stream",
          "text": [
            "Top 10 recommended movie ids:\n",
            "668\n",
            "3306\n",
            "3022\n",
            "306\n",
            "1282\n",
            "3787\n",
            "1180\n",
            "2323\n",
            "3030\n",
            "978\n"
          ],
          "name": "stdout"
        }
      ]
    }
  ]
}