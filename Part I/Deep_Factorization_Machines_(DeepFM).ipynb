{
  "nbformat": 4,
  "nbformat_minor": 0,
  "metadata": {
    "colab": {
      "name": "GitHub: Deep Factorization Machines (DeepFM).ipynb",
      "provenance": [],
      "collapsed_sections": []
    },
    "kernelspec": {
      "name": "python3",
      "display_name": "Python 3"
    },
    "accelerator": "GPU"
  },
  "cells": [
    {
      "cell_type": "markdown",
      "metadata": {
        "id": "x-MKRhCyaxNU"
      },
      "source": [
        "# Deep Factorization Machines\n",
        "\n",
        "For real-world data where inherent feature crossing structures are usually very complex and nonlinear, second-order feature interactions  generally used in factorization machines in practice are often insufficient. Modeling higher degrees of feature combinations with factorization machines is possible theoretically but it is usually not adopted due to numerical instability and high computational complexity. One effective solution is using deep neural networks. \n",
        "\n",
        "Deep neural networks are powerful in feature representation learning and have the potential to learn sophisticated feature interactions. As such, it is natural to integrate deep neural networks to factorization machines. Adding nonlinear transformation layers to factorization machines gives it the capability to model both low-order feature combinations and high-order feature combinations. Moreover, non-linear inherent structures from inputs can also be captured with deep neural networks. As such, we will train a representative model named deep factorization machines (DeepFM) [Guo et al., 2017] which combine FM and deep neural networks.\n",
        "\n",
        "DeepFM consists of an FM component and a deep component which are integrated in a parallel structure. The FM component is the same as the 2-way factorization machines which is used to model the low-order feature interactions. The deep component is a multi-layered perceptron that is used to capture high-order feature interactions and nonlinearities. These two components share the same inputs/embeddings and their outputs are summed up as the final prediction. It is worth pointing out that the spirit of DeepFM resembles that of the Wide & Deep architecture which can capture both memorization and generalization. The advantages of DeepFM over the Wide & Deep model is that it reduces the effort of hand-crafted feature engineering by identifying feature combinations automatically.\n",
        "\n",
        "![](https://drive.google.com/uc?id=1KXC_8TRNC5Dj1w_NyDfyagzxAnbQDABb)\n",
        "\n",
        "\n",
        "\n",
        "* ntegrating neural networks to FM enables it to model complex and high-order \n",
        "interactions.\n",
        "\n",
        "* DeepFM outperforms the original FM on the advertising dataset.\n"
      ]
    },
    {
      "cell_type": "markdown",
      "metadata": {
        "id": "4rrT4wFPfn13"
      },
      "source": [
        "# Model implementation in PyTorch"
      ]
    },
    {
      "cell_type": "code",
      "metadata": {
        "id": "HEtvOeO2fo-0"
      },
      "source": [
        "# import all necessary libraries\n",
        "import numpy as np\n",
        "import pandas as pd\n",
        "import tqdm\n",
        "from sklearn.metrics import roc_auc_score\n",
        "\n",
        "import torch\n",
        "import torch.nn as nn\n",
        "from torch.utils.data import Dataset, DataLoader\n",
        "torch.manual_seed(2020)\n",
        "\n",
        "import warnings\n",
        "warnings.filterwarnings('ignore')"
      ],
      "execution_count": 1,
      "outputs": []
    },
    {
      "cell_type": "code",
      "metadata": {
        "id": "bpvQfBdWha-v"
      },
      "source": [
        "class MovieLensDataset(Dataset):\n",
        "    \"\"\"\n",
        "        MovieLens 1M Dataset\n",
        "        Data preparation: treat samples with a rating less than 3 as negative samples\n",
        "        :param dataset_path: MovieLens dataset path\n",
        "    \"\"\"\n",
        "\n",
        "    def __init__(self, dataset_path, sep='::', engine='python', header=None):\n",
        "        # Read the data into a Pandas dataframe\n",
        "        data = pd.read_csv(dataset_path, sep=sep, engine=engine, header=header).to_numpy()[:, :3]\n",
        "\n",
        "        # Retrieve the items and ratings data\n",
        "        self.items = data[:, :2].astype(np.int) - 1  # -1 because ID begins from 1\n",
        "        self.targets = self.__preprocess_target(data[:, 2]).astype(np.float32)\n",
        "\n",
        "        # Get the range of the items ([6040, 3952])\n",
        "        self.field_dims = np.max(self.items, axis=0) + 1 \n",
        "\n",
        "        # Initialize NumPy arrays to store user and item indices\n",
        "        self.user_field_idx = np.array((0,), dtype=np.long)\n",
        "        self.item_field_idx = np.array((1,), dtype=np.long)\n",
        "\n",
        "    def __len__(self):\n",
        "        \"\"\"\n",
        "        :return: number of total ratings\n",
        "        \"\"\"\n",
        "        return self.targets.shape[0]\n",
        "\n",
        "    def __getitem__(self, index):\n",
        "        \"\"\"\n",
        "        :param index: current index\n",
        "        :return: the items and ratings at current index\n",
        "        \"\"\"\n",
        "        return self.items[index], self.targets[index]\n",
        "\n",
        "    def __preprocess_target(self, target):\n",
        "        \"\"\"\n",
        "        Preprocess the ratings into negative and positive samples\n",
        "        :param target: ratings\n",
        "        :return: binary ratings (0 or 1)\n",
        "        \"\"\"\n",
        "        target[target <= 3] = 0  # ratings less than or equal to 3 classified as 0\n",
        "        target[target > 3] = 1  # ratings bigger than 3 classified as 1\n",
        "        return target"
      ],
      "execution_count": 2,
      "outputs": []
    },
    {
      "cell_type": "code",
      "metadata": {
        "id": "WMRAINuohbBU"
      },
      "source": [
        "class DeepFM(nn.Module):\n",
        "  \"\"\"\n",
        "  A Pytorch implementation of Deep Factorization Model\n",
        "  \"\"\"\n",
        "\n",
        "  def __init__(self, field_dims, embed_dim, mlp_dims, dropout):\n",
        "    super(DeepFM, self).__init__()\n",
        "    self.embedding = FeaturesEmbedding(field_dims, embed_dim)\n",
        "    self.linear = FeaturesLinear(field_dims)\n",
        "    self.fm = FactorizationMachine(reduce_sum=True)\n",
        "    self.embed_output_dim = len(field_dims) * embed_dim\n",
        "    self.mlp = MultiLayerPerceptron(self.embed_output_dim, mlp_dims, dropout)\n",
        "\n",
        "  def forward(self, x):\n",
        "    \"\"\"\n",
        "    :param x: Long tensor of size (batch_size, num_fields)\n",
        "    \"\"\"\n",
        "    embed_x = self.embedding(x)\n",
        "    x = self.linear(x) + self.fm(embed_x) + self.mlp(embed_x.view(-1, self.embed_output_dim))\n",
        "    return torch.sigmoid(x.squeeze(1))"
      ],
      "execution_count": 3,
      "outputs": []
    },
    {
      "cell_type": "code",
      "metadata": {
        "id": "9IBUI7MMn34w"
      },
      "source": [
        "class FeaturesEmbedding(torch.nn.Module):\n",
        "    \"\"\"\n",
        "    Class to get feature embeddings\n",
        "    \"\"\"\n",
        "\n",
        "    def __init__(self, field_dims, embed_dim):\n",
        "        super().__init__()\n",
        "        self.embedding = torch.nn.Embedding(sum(field_dims), embed_dim)\n",
        "        self.offsets = np.array((0, *np.cumsum(field_dims)[:-1]), dtype=np.long)\n",
        "        torch.nn.init.xavier_uniform_(self.embedding.weight.data)\n",
        "\n",
        "    def forward(self, x):\n",
        "        \"\"\"\n",
        "        :param x: Long tensor of size ``(batch_size, num_fields)``\n",
        "        \"\"\"\n",
        "        x = x + x.new_tensor(self.offsets).unsqueeze(0)\n",
        "        return self.embedding(x)\n",
        "\n",
        "\n",
        "class FeaturesLinear(torch.nn.Module):\n",
        "    \"\"\"\n",
        "    Class to perform a linear transformation on the features\n",
        "    \"\"\"\n",
        "\n",
        "    def __init__(self, field_dims, output_dim=1):\n",
        "        super().__init__()\n",
        "        self.fc = torch.nn.Embedding(sum(field_dims), output_dim)\n",
        "        self.bias = torch.nn.Parameter(torch.zeros((output_dim,)))\n",
        "        self.offsets = np.array((0, *np.cumsum(field_dims)[:-1]), dtype=np.long)\n",
        "\n",
        "    def forward(self, x):\n",
        "        \"\"\"\n",
        "        :param x: Long tensor of size ``(batch_size, num_fields)``\n",
        "        \"\"\"\n",
        "        x = x + x.new_tensor(self.offsets).unsqueeze(0)\n",
        "        return torch.sum(self.fc(x), dim=1) + self.bias\n",
        "\n",
        "\n",
        "class MultiLayerPerceptron(torch.nn.Module):\n",
        "    \"\"\"\n",
        "    Class to instantiate a Multilayer Perceptron model\n",
        "    \"\"\"\n",
        "\n",
        "    def __init__(self, input_dim, embed_dims, dropout, output_layer=True):\n",
        "        super().__init__()\n",
        "        layers = list()\n",
        "        for embed_dim in embed_dims:\n",
        "            layers.append(torch.nn.Linear(input_dim, embed_dim))\n",
        "            layers.append(torch.nn.BatchNorm1d(embed_dim))\n",
        "            layers.append(torch.nn.ReLU())\n",
        "            layers.append(torch.nn.Dropout(p=dropout))\n",
        "            input_dim = embed_dim\n",
        "        if output_layer:\n",
        "            layers.append(torch.nn.Linear(input_dim, 1))\n",
        "        self.mlp = torch.nn.Sequential(*layers)\n",
        "\n",
        "    def forward(self, x):\n",
        "        \"\"\"\n",
        "        :param x: Float tensor of size ``(batch_size, num_fields, embed_dim)``\n",
        "        \"\"\"\n",
        "        return self.mlp(x)\n",
        "\n",
        "\n",
        "class FactorizationMachine(torch.nn.Module):\n",
        "    \"\"\"\n",
        "        Class to instantiate a Factorization Machine model\n",
        "    \"\"\"\n",
        "\n",
        "    def __init__(self, reduce_sum=True):\n",
        "        super().__init__()\n",
        "        self.reduce_sum = reduce_sum\n",
        "\n",
        "    def forward(self, x):\n",
        "        \"\"\"\n",
        "        :param x: Float tensor of size ``(batch_size, num_fields, embed_dim)``\n",
        "        \"\"\"\n",
        "        square_of_sum = torch.sum(x, dim=1) ** 2\n",
        "        sum_of_square = torch.sum(x ** 2, dim=1)\n",
        "        ix = square_of_sum - sum_of_square\n",
        "        if self.reduce_sum:\n",
        "            ix = torch.sum(ix, dim=1, keepdim=True)\n",
        "        return 0.5 * ix"
      ],
      "execution_count": 4,
      "outputs": []
    },
    {
      "cell_type": "code",
      "metadata": {
        "id": "VJlQjuVohbJO"
      },
      "source": [
        "def fit(model, optimizer, data_loader, criterion, device, log_interval=1000):\n",
        "    \"\"\"\n",
        "    Train the model\n",
        "    :param model: choice of model\n",
        "    :param optimizer: choice of optimizer\n",
        "    :param data_loader: data loader class\n",
        "    :param criterion: choice of loss function\n",
        "    :param device: choice of device\n",
        "    :return: loss being logged\n",
        "    \"\"\"\n",
        "    # Step into train mode\n",
        "    model.train()\n",
        "    total_loss = 0\n",
        "    for i, (fields, target) in enumerate(tqdm.tqdm(data_loader, smoothing=0, mininterval=1.0)):\n",
        "        fields, target = fields.to(device), target.to(device)\n",
        "        y = model(fields)\n",
        "        loss = criterion(y, target.float())\n",
        "        model.zero_grad()\n",
        "        loss.backward()\n",
        "        optimizer.step()\n",
        "        total_loss += loss.item()\n",
        "\n",
        "        # Log the total loss for every 1000 runs\n",
        "        if (i + 1) % log_interval == 0:\n",
        "            print('    - loss:', total_loss / log_interval)\n",
        "            total_loss = 0\n",
        "\n",
        "def test(model, data_loader, device):\n",
        "    \"\"\"\n",
        "    Evaluate the model\n",
        "    :param model: choice of model\n",
        "    :param data_loader: data loader class\n",
        "    :param device: choice of device\n",
        "    :return: AUC score\n",
        "    \"\"\"\n",
        "    # Step into evaluation mode\n",
        "    model.eval()\n",
        "    targets, predicts = list(), list()\n",
        "    with torch.no_grad():\n",
        "        for fields, target in tqdm.tqdm(data_loader, smoothing=0, mininterval=1.0):\n",
        "            fields, target = fields.to(device), target.to(device)\n",
        "            y = model(fields)\n",
        "            targets.extend(target.tolist())\n",
        "            predicts.extend(y.tolist())\n",
        "\n",
        "    # Return AUC score between predicted ratings and actual ratings\n",
        "    return roc_auc_score(targets, predicts)"
      ],
      "execution_count": 5,
      "outputs": []
    },
    {
      "cell_type": "code",
      "metadata": {
        "colab": {
          "base_uri": "https://localhost:8080/"
        },
        "id": "CVt7V-Amqjxz",
        "outputId": "e56bf3de-d2b0-4e63-8a53-51a2d2491142"
      },
      "source": [
        "# get the data\n",
        "!wget http://files.grouplens.org/datasets/movielens/ml-1m.zip\n",
        "!unzip ml-1m.zip"
      ],
      "execution_count": 6,
      "outputs": [
        {
          "output_type": "stream",
          "text": [
            "--2021-05-08 07:46:47--  http://files.grouplens.org/datasets/movielens/ml-1m.zip\n",
            "Resolving files.grouplens.org (files.grouplens.org)... 128.101.65.152\n",
            "Connecting to files.grouplens.org (files.grouplens.org)|128.101.65.152|:80... connected.\n",
            "HTTP request sent, awaiting response... 200 OK\n",
            "Length: 5917549 (5.6M) [application/zip]\n",
            "Saving to: ‘ml-1m.zip’\n",
            "\n",
            "ml-1m.zip           100%[===================>]   5.64M  28.4MB/s    in 0.2s    \n",
            "\n",
            "2021-05-08 07:46:47 (28.4 MB/s) - ‘ml-1m.zip’ saved [5917549/5917549]\n",
            "\n",
            "Archive:  ml-1m.zip\n",
            "   creating: ml-1m/\n",
            "  inflating: ml-1m/movies.dat        \n",
            "  inflating: ml-1m/ratings.dat       \n",
            "  inflating: ml-1m/README            \n",
            "  inflating: ml-1m/users.dat         \n"
          ],
          "name": "stdout"
        }
      ]
    },
    {
      "cell_type": "code",
      "metadata": {
        "id": "t2JJParYhbL8"
      },
      "source": [
        "# Get the dataset\n",
        "dataset = MovieLensDataset('./ml-1m/ratings.dat')\n",
        "\n",
        "# Split the data into 80% train, 10% validation, and 10% test\n",
        "train_length = int(len(dataset) * 0.8)\n",
        "valid_length = int(len(dataset) * 0.1)\n",
        "test_length = len(dataset) - train_length - valid_length\n",
        "train_dataset, valid_dataset, test_dataset = torch.utils.data.random_split(dataset, (train_length, valid_length, test_length))\n",
        "\n",
        "# Instantiate data loader classes for train, validation, and test sets\n",
        "train_data_loader = DataLoader(train_dataset, batch_size=1024, num_workers=8)\n",
        "valid_data_loader = DataLoader(valid_dataset, batch_size=1024, num_workers=8)\n",
        "test_data_loader = DataLoader(test_dataset, batch_size=1024, num_workers=8)"
      ],
      "execution_count": 7,
      "outputs": []
    },
    {
      "cell_type": "code",
      "metadata": {
        "colab": {
          "base_uri": "https://localhost:8080/"
        },
        "id": "kmBYa9qWq929",
        "outputId": "f4f0d02f-0ab9-4a8b-e961-d520524520e4"
      },
      "source": [
        "# Get the model\n",
        "field_dims = dataset.field_dims\n",
        "learning_rate=0.001\n",
        "weight_decay=1e-6\n",
        "epoch=50\n",
        "device='cpu'\n",
        "\n",
        "model = DeepFM(field_dims, embed_dim=16, mlp_dims=(16, 16), dropout=0.5)\n",
        "# Use binary cross entropy loss\n",
        "criterion = torch.nn.BCELoss()\n",
        "# Use Adam optimizer\n",
        "optimizer = torch.optim.Adam(params=model.parameters(), lr=learning_rate, weight_decay=weight_decay)\n",
        "\n",
        "valid_losses = []\n",
        "\n",
        "# Loop through pre-defined number of epochs\n",
        "for epoch_i in range(epoch):\n",
        "    # Perform training on the train set\n",
        "    train_auc = fit(model, optimizer, train_data_loader, criterion, device)\n",
        "    # Perform evaluation on the validation set\n",
        "    valid_auc = test(model, valid_data_loader, device)\n",
        "    # Log the epochs and AUC on the validation set\n",
        "    print('epoch:', epoch_i, 'validation: auc:', valid_auc)\n",
        "    valid_losses.append(valid_auc)\n",
        "\n",
        "# Perform evaluation on the test set\n",
        "test_auc = test(model, test_data_loader, device)\n",
        "# Log the final AUC on the test set\n",
        "print('test auc:', test_auc)\n",
        "\n",
        "# Save the model checkpoint\n",
        "torch.save(model.state_dict(), 'deepfm.pt')"
      ],
      "execution_count": 8,
      "outputs": [
        {
          "output_type": "stream",
          "text": [
            "100%|██████████| 782/782 [00:11<00:00, 70.64it/s]\n",
            "100%|██████████| 98/98 [00:00<00:00, 125.37it/s]\n",
            "  0%|          | 0/782 [00:00<?, ?it/s]"
          ],
          "name": "stderr"
        },
        {
          "output_type": "stream",
          "text": [
            "epoch: 0 validation: auc: 0.7752072955315874\n"
          ],
          "name": "stdout"
        },
        {
          "output_type": "stream",
          "text": [
            "100%|██████████| 782/782 [00:10<00:00, 71.12it/s]\n",
            "100%|██████████| 98/98 [00:00<00:00, 123.36it/s]\n",
            "  0%|          | 0/782 [00:00<?, ?it/s]"
          ],
          "name": "stderr"
        },
        {
          "output_type": "stream",
          "text": [
            "epoch: 1 validation: auc: 0.7811474592829626\n"
          ],
          "name": "stdout"
        },
        {
          "output_type": "stream",
          "text": [
            "100%|██████████| 782/782 [00:11<00:00, 70.57it/s]\n",
            "100%|██████████| 98/98 [00:00<00:00, 134.30it/s]\n",
            "  0%|          | 0/782 [00:00<?, ?it/s]"
          ],
          "name": "stderr"
        },
        {
          "output_type": "stream",
          "text": [
            "epoch: 2 validation: auc: 0.7823930007641393\n"
          ],
          "name": "stdout"
        },
        {
          "output_type": "stream",
          "text": [
            "100%|██████████| 782/782 [00:10<00:00, 72.22it/s]\n",
            "100%|██████████| 98/98 [00:00<00:00, 135.63it/s]\n",
            "  0%|          | 0/782 [00:00<?, ?it/s]"
          ],
          "name": "stderr"
        },
        {
          "output_type": "stream",
          "text": [
            "epoch: 3 validation: auc: 0.7844616101120837\n"
          ],
          "name": "stdout"
        },
        {
          "output_type": "stream",
          "text": [
            "100%|██████████| 782/782 [00:11<00:00, 70.78it/s]\n",
            "100%|██████████| 98/98 [00:00<00:00, 137.80it/s]\n",
            "  0%|          | 0/782 [00:00<?, ?it/s]"
          ],
          "name": "stderr"
        },
        {
          "output_type": "stream",
          "text": [
            "epoch: 4 validation: auc: 0.7851713440861557\n"
          ],
          "name": "stdout"
        },
        {
          "output_type": "stream",
          "text": [
            "100%|██████████| 782/782 [00:11<00:00, 70.56it/s]\n",
            "100%|██████████| 98/98 [00:00<00:00, 133.05it/s]\n",
            "  0%|          | 0/782 [00:00<?, ?it/s]"
          ],
          "name": "stderr"
        },
        {
          "output_type": "stream",
          "text": [
            "epoch: 5 validation: auc: 0.7861649916543588\n"
          ],
          "name": "stdout"
        },
        {
          "output_type": "stream",
          "text": [
            "100%|██████████| 782/782 [00:10<00:00, 71.63it/s]\n",
            "100%|██████████| 98/98 [00:00<00:00, 135.51it/s]\n",
            "  0%|          | 0/782 [00:00<?, ?it/s]"
          ],
          "name": "stderr"
        },
        {
          "output_type": "stream",
          "text": [
            "epoch: 6 validation: auc: 0.7872737360887401\n"
          ],
          "name": "stdout"
        },
        {
          "output_type": "stream",
          "text": [
            "100%|██████████| 782/782 [00:11<00:00, 70.89it/s]\n",
            "100%|██████████| 98/98 [00:00<00:00, 134.85it/s]\n",
            "  0%|          | 0/782 [00:00<?, ?it/s]"
          ],
          "name": "stderr"
        },
        {
          "output_type": "stream",
          "text": [
            "epoch: 7 validation: auc: 0.7881956521748024\n"
          ],
          "name": "stdout"
        },
        {
          "output_type": "stream",
          "text": [
            "100%|██████████| 782/782 [00:10<00:00, 71.45it/s]\n",
            "100%|██████████| 98/98 [00:00<00:00, 131.79it/s]\n",
            "  0%|          | 0/782 [00:00<?, ?it/s]"
          ],
          "name": "stderr"
        },
        {
          "output_type": "stream",
          "text": [
            "epoch: 8 validation: auc: 0.7895289594218282\n"
          ],
          "name": "stdout"
        },
        {
          "output_type": "stream",
          "text": [
            "100%|██████████| 782/782 [00:11<00:00, 70.23it/s]\n",
            "100%|██████████| 98/98 [00:00<00:00, 131.58it/s]\n",
            "  0%|          | 0/782 [00:00<?, ?it/s]"
          ],
          "name": "stderr"
        },
        {
          "output_type": "stream",
          "text": [
            "epoch: 9 validation: auc: 0.7899439798249888\n"
          ],
          "name": "stdout"
        },
        {
          "output_type": "stream",
          "text": [
            "100%|██████████| 782/782 [00:11<00:00, 70.22it/s]\n",
            "100%|██████████| 98/98 [00:00<00:00, 127.46it/s]\n",
            "  0%|          | 0/782 [00:00<?, ?it/s]"
          ],
          "name": "stderr"
        },
        {
          "output_type": "stream",
          "text": [
            "epoch: 10 validation: auc: 0.7906955315955162\n"
          ],
          "name": "stdout"
        },
        {
          "output_type": "stream",
          "text": [
            "100%|██████████| 782/782 [00:10<00:00, 71.10it/s]\n",
            "100%|██████████| 98/98 [00:00<00:00, 133.91it/s]\n",
            "  0%|          | 0/782 [00:00<?, ?it/s]"
          ],
          "name": "stderr"
        },
        {
          "output_type": "stream",
          "text": [
            "epoch: 11 validation: auc: 0.7917302567117663\n"
          ],
          "name": "stdout"
        },
        {
          "output_type": "stream",
          "text": [
            "100%|██████████| 782/782 [00:10<00:00, 71.30it/s]\n",
            "100%|██████████| 98/98 [00:00<00:00, 131.54it/s]\n",
            "  0%|          | 0/782 [00:00<?, ?it/s]"
          ],
          "name": "stderr"
        },
        {
          "output_type": "stream",
          "text": [
            "epoch: 12 validation: auc: 0.7926483608969332\n"
          ],
          "name": "stdout"
        },
        {
          "output_type": "stream",
          "text": [
            "100%|██████████| 782/782 [00:11<00:00, 70.35it/s]\n",
            "100%|██████████| 98/98 [00:00<00:00, 132.52it/s]\n",
            "  0%|          | 0/782 [00:00<?, ?it/s]"
          ],
          "name": "stderr"
        },
        {
          "output_type": "stream",
          "text": [
            "epoch: 13 validation: auc: 0.7940326421934557\n"
          ],
          "name": "stdout"
        },
        {
          "output_type": "stream",
          "text": [
            "100%|██████████| 782/782 [00:11<00:00, 70.04it/s]\n",
            "100%|██████████| 98/98 [00:00<00:00, 130.59it/s]\n",
            "  0%|          | 0/782 [00:00<?, ?it/s]"
          ],
          "name": "stderr"
        },
        {
          "output_type": "stream",
          "text": [
            "epoch: 14 validation: auc: 0.7946201672711859\n"
          ],
          "name": "stdout"
        },
        {
          "output_type": "stream",
          "text": [
            "100%|██████████| 782/782 [00:11<00:00, 69.75it/s]\n",
            "100%|██████████| 98/98 [00:00<00:00, 126.73it/s]\n",
            "  0%|          | 0/782 [00:00<?, ?it/s]"
          ],
          "name": "stderr"
        },
        {
          "output_type": "stream",
          "text": [
            "epoch: 15 validation: auc: 0.7955742406972006\n"
          ],
          "name": "stdout"
        },
        {
          "output_type": "stream",
          "text": [
            "100%|██████████| 782/782 [00:11<00:00, 69.45it/s]\n",
            "100%|██████████| 98/98 [00:00<00:00, 132.46it/s]\n",
            "  0%|          | 0/782 [00:00<?, ?it/s]"
          ],
          "name": "stderr"
        },
        {
          "output_type": "stream",
          "text": [
            "epoch: 16 validation: auc: 0.7966615604730996\n"
          ],
          "name": "stdout"
        },
        {
          "output_type": "stream",
          "text": [
            "100%|██████████| 782/782 [00:11<00:00, 70.23it/s]\n",
            "100%|██████████| 98/98 [00:00<00:00, 133.39it/s]\n",
            "  0%|          | 0/782 [00:00<?, ?it/s]"
          ],
          "name": "stderr"
        },
        {
          "output_type": "stream",
          "text": [
            "epoch: 17 validation: auc: 0.7974244002648122\n"
          ],
          "name": "stdout"
        },
        {
          "output_type": "stream",
          "text": [
            "100%|██████████| 782/782 [00:11<00:00, 70.04it/s]\n",
            "100%|██████████| 98/98 [00:00<00:00, 130.10it/s]\n",
            "  0%|          | 0/782 [00:00<?, ?it/s]"
          ],
          "name": "stderr"
        },
        {
          "output_type": "stream",
          "text": [
            "epoch: 18 validation: auc: 0.798029130032825\n"
          ],
          "name": "stdout"
        },
        {
          "output_type": "stream",
          "text": [
            "100%|██████████| 782/782 [00:11<00:00, 69.81it/s]\n",
            "100%|██████████| 98/98 [00:00<00:00, 131.32it/s]\n",
            "  0%|          | 0/782 [00:00<?, ?it/s]"
          ],
          "name": "stderr"
        },
        {
          "output_type": "stream",
          "text": [
            "epoch: 19 validation: auc: 0.7984395606503991\n"
          ],
          "name": "stdout"
        },
        {
          "output_type": "stream",
          "text": [
            "100%|██████████| 782/782 [00:11<00:00, 70.79it/s]\n",
            "100%|██████████| 98/98 [00:00<00:00, 127.56it/s]\n",
            "  0%|          | 0/782 [00:00<?, ?it/s]"
          ],
          "name": "stderr"
        },
        {
          "output_type": "stream",
          "text": [
            "epoch: 20 validation: auc: 0.7994671064411757\n"
          ],
          "name": "stdout"
        },
        {
          "output_type": "stream",
          "text": [
            "100%|██████████| 782/782 [00:11<00:00, 70.29it/s]\n",
            "100%|██████████| 98/98 [00:00<00:00, 127.79it/s]\n",
            "  0%|          | 0/782 [00:00<?, ?it/s]"
          ],
          "name": "stderr"
        },
        {
          "output_type": "stream",
          "text": [
            "epoch: 21 validation: auc: 0.8000660387898348\n"
          ],
          "name": "stdout"
        },
        {
          "output_type": "stream",
          "text": [
            "100%|██████████| 782/782 [00:11<00:00, 69.56it/s]\n",
            "100%|██████████| 98/98 [00:00<00:00, 129.02it/s]\n",
            "  0%|          | 0/782 [00:00<?, ?it/s]"
          ],
          "name": "stderr"
        },
        {
          "output_type": "stream",
          "text": [
            "epoch: 22 validation: auc: 0.8003462973690969\n"
          ],
          "name": "stdout"
        },
        {
          "output_type": "stream",
          "text": [
            "100%|██████████| 782/782 [00:11<00:00, 69.38it/s]\n",
            "100%|██████████| 98/98 [00:00<00:00, 128.76it/s]\n",
            "  0%|          | 0/782 [00:00<?, ?it/s]"
          ],
          "name": "stderr"
        },
        {
          "output_type": "stream",
          "text": [
            "epoch: 23 validation: auc: 0.8010842495552271\n"
          ],
          "name": "stdout"
        },
        {
          "output_type": "stream",
          "text": [
            "100%|██████████| 782/782 [00:11<00:00, 68.89it/s]\n",
            "100%|██████████| 98/98 [00:00<00:00, 128.73it/s]\n",
            "  0%|          | 0/782 [00:00<?, ?it/s]"
          ],
          "name": "stderr"
        },
        {
          "output_type": "stream",
          "text": [
            "epoch: 24 validation: auc: 0.8014987530731355\n"
          ],
          "name": "stdout"
        },
        {
          "output_type": "stream",
          "text": [
            "100%|██████████| 782/782 [00:11<00:00, 69.09it/s]\n",
            "100%|██████████| 98/98 [00:00<00:00, 116.75it/s]\n",
            "  0%|          | 0/782 [00:00<?, ?it/s]"
          ],
          "name": "stderr"
        },
        {
          "output_type": "stream",
          "text": [
            "epoch: 25 validation: auc: 0.8018333279674359\n"
          ],
          "name": "stdout"
        },
        {
          "output_type": "stream",
          "text": [
            "100%|██████████| 782/782 [00:11<00:00, 69.14it/s]\n",
            "100%|██████████| 98/98 [00:00<00:00, 124.28it/s]\n",
            "  0%|          | 0/782 [00:00<?, ?it/s]"
          ],
          "name": "stderr"
        },
        {
          "output_type": "stream",
          "text": [
            "epoch: 26 validation: auc: 0.8019651969111903\n"
          ],
          "name": "stdout"
        },
        {
          "output_type": "stream",
          "text": [
            "100%|██████████| 782/782 [00:11<00:00, 68.78it/s]\n",
            "100%|██████████| 98/98 [00:00<00:00, 113.41it/s]\n",
            "  0%|          | 0/782 [00:00<?, ?it/s]"
          ],
          "name": "stderr"
        },
        {
          "output_type": "stream",
          "text": [
            "epoch: 27 validation: auc: 0.8026649382476556\n"
          ],
          "name": "stdout"
        },
        {
          "output_type": "stream",
          "text": [
            "100%|██████████| 782/782 [00:11<00:00, 66.86it/s]\n",
            "100%|██████████| 98/98 [00:00<00:00, 120.97it/s]\n",
            "  0%|          | 0/782 [00:00<?, ?it/s]"
          ],
          "name": "stderr"
        },
        {
          "output_type": "stream",
          "text": [
            "epoch: 28 validation: auc: 0.8031312213133286\n"
          ],
          "name": "stdout"
        },
        {
          "output_type": "stream",
          "text": [
            "100%|██████████| 782/782 [00:11<00:00, 67.25it/s]\n",
            "100%|██████████| 98/98 [00:00<00:00, 121.08it/s]\n",
            "  0%|          | 0/782 [00:00<?, ?it/s]"
          ],
          "name": "stderr"
        },
        {
          "output_type": "stream",
          "text": [
            "epoch: 29 validation: auc: 0.8033924050472383\n"
          ],
          "name": "stdout"
        },
        {
          "output_type": "stream",
          "text": [
            "100%|██████████| 782/782 [00:11<00:00, 67.94it/s]\n",
            "100%|██████████| 98/98 [00:00<00:00, 122.03it/s]\n",
            "  0%|          | 0/782 [00:00<?, ?it/s]"
          ],
          "name": "stderr"
        },
        {
          "output_type": "stream",
          "text": [
            "epoch: 30 validation: auc: 0.8036318726460192\n"
          ],
          "name": "stdout"
        },
        {
          "output_type": "stream",
          "text": [
            "100%|██████████| 782/782 [00:11<00:00, 67.74it/s]\n",
            "100%|██████████| 98/98 [00:00<00:00, 121.75it/s]\n",
            "  0%|          | 0/782 [00:00<?, ?it/s]"
          ],
          "name": "stderr"
        },
        {
          "output_type": "stream",
          "text": [
            "epoch: 31 validation: auc: 0.8042754522623232\n"
          ],
          "name": "stdout"
        },
        {
          "output_type": "stream",
          "text": [
            "100%|██████████| 782/782 [00:11<00:00, 68.61it/s]\n",
            "100%|██████████| 98/98 [00:00<00:00, 124.42it/s]\n",
            "  0%|          | 0/782 [00:00<?, ?it/s]"
          ],
          "name": "stderr"
        },
        {
          "output_type": "stream",
          "text": [
            "epoch: 32 validation: auc: 0.8047613303313217\n"
          ],
          "name": "stdout"
        },
        {
          "output_type": "stream",
          "text": [
            "100%|██████████| 782/782 [00:11<00:00, 69.39it/s]\n",
            "100%|██████████| 98/98 [00:00<00:00, 123.03it/s]\n",
            "  0%|          | 0/782 [00:00<?, ?it/s]"
          ],
          "name": "stderr"
        },
        {
          "output_type": "stream",
          "text": [
            "epoch: 33 validation: auc: 0.8051315617171424\n"
          ],
          "name": "stdout"
        },
        {
          "output_type": "stream",
          "text": [
            "100%|██████████| 782/782 [00:11<00:00, 68.68it/s]\n",
            "100%|██████████| 98/98 [00:00<00:00, 123.18it/s]\n",
            "  0%|          | 0/782 [00:00<?, ?it/s]"
          ],
          "name": "stderr"
        },
        {
          "output_type": "stream",
          "text": [
            "epoch: 34 validation: auc: 0.8054745108888924\n"
          ],
          "name": "stdout"
        },
        {
          "output_type": "stream",
          "text": [
            "100%|██████████| 782/782 [00:11<00:00, 68.30it/s]\n",
            "100%|██████████| 98/98 [00:00<00:00, 118.50it/s]\n",
            "  0%|          | 0/782 [00:00<?, ?it/s]"
          ],
          "name": "stderr"
        },
        {
          "output_type": "stream",
          "text": [
            "epoch: 35 validation: auc: 0.8056877658394852\n"
          ],
          "name": "stdout"
        },
        {
          "output_type": "stream",
          "text": [
            "100%|██████████| 782/782 [00:11<00:00, 69.02it/s]\n",
            "100%|██████████| 98/98 [00:00<00:00, 125.88it/s]\n",
            "  0%|          | 0/782 [00:00<?, ?it/s]"
          ],
          "name": "stderr"
        },
        {
          "output_type": "stream",
          "text": [
            "epoch: 36 validation: auc: 0.8062184783348171\n"
          ],
          "name": "stdout"
        },
        {
          "output_type": "stream",
          "text": [
            "100%|██████████| 782/782 [00:11<00:00, 68.89it/s]\n",
            "100%|██████████| 98/98 [00:00<00:00, 123.77it/s]\n",
            "  0%|          | 0/782 [00:00<?, ?it/s]"
          ],
          "name": "stderr"
        },
        {
          "output_type": "stream",
          "text": [
            "epoch: 37 validation: auc: 0.8065600010096342\n"
          ],
          "name": "stdout"
        },
        {
          "output_type": "stream",
          "text": [
            "100%|██████████| 782/782 [00:11<00:00, 69.13it/s]\n",
            "100%|██████████| 98/98 [00:00<00:00, 125.66it/s]\n",
            "  0%|          | 0/782 [00:00<?, ?it/s]"
          ],
          "name": "stderr"
        },
        {
          "output_type": "stream",
          "text": [
            "epoch: 38 validation: auc: 0.806859152798276\n"
          ],
          "name": "stdout"
        },
        {
          "output_type": "stream",
          "text": [
            "100%|██████████| 782/782 [00:11<00:00, 68.23it/s]\n",
            "100%|██████████| 98/98 [00:00<00:00, 122.47it/s]\n",
            "  0%|          | 0/782 [00:00<?, ?it/s]"
          ],
          "name": "stderr"
        },
        {
          "output_type": "stream",
          "text": [
            "epoch: 39 validation: auc: 0.8071212451211411\n"
          ],
          "name": "stdout"
        },
        {
          "output_type": "stream",
          "text": [
            "100%|██████████| 782/782 [00:11<00:00, 68.81it/s]\n",
            "100%|██████████| 98/98 [00:00<00:00, 126.27it/s]\n",
            "  0%|          | 0/782 [00:00<?, ?it/s]"
          ],
          "name": "stderr"
        },
        {
          "output_type": "stream",
          "text": [
            "epoch: 40 validation: auc: 0.8073905018376937\n"
          ],
          "name": "stdout"
        },
        {
          "output_type": "stream",
          "text": [
            "100%|██████████| 782/782 [00:11<00:00, 69.29it/s]\n",
            "100%|██████████| 98/98 [00:00<00:00, 122.70it/s]\n",
            "  0%|          | 0/782 [00:00<?, ?it/s]"
          ],
          "name": "stderr"
        },
        {
          "output_type": "stream",
          "text": [
            "epoch: 41 validation: auc: 0.8077463980952442\n"
          ],
          "name": "stdout"
        },
        {
          "output_type": "stream",
          "text": [
            "100%|██████████| 782/782 [00:11<00:00, 67.99it/s]\n",
            "100%|██████████| 98/98 [00:00<00:00, 123.17it/s]\n",
            "  0%|          | 0/782 [00:00<?, ?it/s]"
          ],
          "name": "stderr"
        },
        {
          "output_type": "stream",
          "text": [
            "epoch: 42 validation: auc: 0.8079427848321035\n"
          ],
          "name": "stdout"
        },
        {
          "output_type": "stream",
          "text": [
            "100%|██████████| 782/782 [00:11<00:00, 66.99it/s]\n",
            "100%|██████████| 98/98 [00:00<00:00, 125.12it/s]\n",
            "  0%|          | 0/782 [00:00<?, ?it/s]"
          ],
          "name": "stderr"
        },
        {
          "output_type": "stream",
          "text": [
            "epoch: 43 validation: auc: 0.8079047683002027\n"
          ],
          "name": "stdout"
        },
        {
          "output_type": "stream",
          "text": [
            "100%|██████████| 782/782 [00:11<00:00, 67.61it/s]\n",
            "100%|██████████| 98/98 [00:00<00:00, 122.49it/s]\n",
            "  0%|          | 0/782 [00:00<?, ?it/s]"
          ],
          "name": "stderr"
        },
        {
          "output_type": "stream",
          "text": [
            "epoch: 44 validation: auc: 0.8080551990904129\n"
          ],
          "name": "stdout"
        },
        {
          "output_type": "stream",
          "text": [
            "100%|██████████| 782/782 [00:11<00:00, 68.57it/s]\n",
            "100%|██████████| 98/98 [00:00<00:00, 123.00it/s]\n",
            "  0%|          | 0/782 [00:00<?, ?it/s]"
          ],
          "name": "stderr"
        },
        {
          "output_type": "stream",
          "text": [
            "epoch: 45 validation: auc: 0.8085682736691208\n"
          ],
          "name": "stdout"
        },
        {
          "output_type": "stream",
          "text": [
            "100%|██████████| 782/782 [00:11<00:00, 68.06it/s]\n",
            "100%|██████████| 98/98 [00:00<00:00, 117.67it/s]\n",
            "  0%|          | 0/782 [00:00<?, ?it/s]"
          ],
          "name": "stderr"
        },
        {
          "output_type": "stream",
          "text": [
            "epoch: 46 validation: auc: 0.8084670766594215\n"
          ],
          "name": "stdout"
        },
        {
          "output_type": "stream",
          "text": [
            "100%|██████████| 782/782 [00:11<00:00, 67.67it/s]\n",
            "100%|██████████| 98/98 [00:00<00:00, 118.11it/s]\n",
            "  0%|          | 0/782 [00:00<?, ?it/s]"
          ],
          "name": "stderr"
        },
        {
          "output_type": "stream",
          "text": [
            "epoch: 47 validation: auc: 0.8086058755882766\n"
          ],
          "name": "stdout"
        },
        {
          "output_type": "stream",
          "text": [
            "100%|██████████| 782/782 [00:11<00:00, 66.75it/s]\n",
            "100%|██████████| 98/98 [00:00<00:00, 117.72it/s]\n",
            "  0%|          | 0/782 [00:00<?, ?it/s]"
          ],
          "name": "stderr"
        },
        {
          "output_type": "stream",
          "text": [
            "epoch: 48 validation: auc: 0.8085337669251283\n"
          ],
          "name": "stdout"
        },
        {
          "output_type": "stream",
          "text": [
            "100%|██████████| 782/782 [00:11<00:00, 67.32it/s]\n",
            "100%|██████████| 98/98 [00:00<00:00, 119.04it/s]\n",
            "  0%|          | 0/98 [00:00<?, ?it/s]"
          ],
          "name": "stderr"
        },
        {
          "output_type": "stream",
          "text": [
            "epoch: 49 validation: auc: 0.8084627167824316\n"
          ],
          "name": "stdout"
        },
        {
          "output_type": "stream",
          "text": [
            "\r100%|██████████| 98/98 [00:00<00:00, 116.16it/s]"
          ],
          "name": "stderr"
        },
        {
          "output_type": "stream",
          "text": [
            "test auc: 0.8052888356141205\n"
          ],
          "name": "stdout"
        },
        {
          "output_type": "stream",
          "text": [
            "\n"
          ],
          "name": "stderr"
        }
      ]
    },
    {
      "cell_type": "code",
      "metadata": {
        "id": "xh7WUSfR2DtX",
        "colab": {
          "base_uri": "https://localhost:8080/",
          "height": 621
        },
        "outputId": "f75aae12-d6c6-4fea-a45d-08cb21eca72e"
      },
      "source": [
        "import matplotlib.pyplot as plt\n",
        "plt.figure(figsize=(10, 10))\n",
        "plt.plot( valid_losses, 'r', label='Validation loss')\n",
        "plt.title('Validation loss')\n",
        "plt.xlabel('Epochs')\n",
        "plt.ylabel('Loss')\n",
        "plt.legend()\n",
        "plt.show()"
      ],
      "execution_count": 9,
      "outputs": [
        {
          "output_type": "display_data",
          "data": {
            "image/png": "[encoded data removed]",
            "text/plain": [
              "<Figure size 720x720 with 1 Axes>"
            ]
          },
          "metadata": {
            "tags": [],
            "needs_background": "light"
          }
        }
      ]
    }
  ]
}