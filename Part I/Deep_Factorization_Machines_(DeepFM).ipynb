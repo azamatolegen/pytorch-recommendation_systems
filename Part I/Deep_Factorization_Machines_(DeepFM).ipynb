{
  "nbformat": 4,
  "nbformat_minor": 0,
  "metadata": {
    "colab": {
      "name": "[GitHub] Deep Factorization Machines (DeepFM).ipynb",
      "provenance": [],
      "collapsed_sections": []
    },
    "kernelspec": {
      "name": "python3",
      "display_name": "Python 3"
    },
    "accelerator": "GPU"
  },
  "cells": [
    {
      "cell_type": "markdown",
      "metadata": {
        "id": "x-MKRhCyaxNU"
      },
      "source": [
        "# Deep Factorization Machines\n",
        "\n",
        "For real-world data where inherent feature crossing structures are usually very complex and nonlinear, second-order feature interactions  generally used in factorization machines in practice are often insufficient. Modeling higher degrees of feature combinations with factorization machines is possible theoretically but it is usually not adopted due to numerical instability and high computational complexity. One effective solution is using deep neural networks. \n",
        "\n",
        "Deep neural networks are powerful in feature representation learning and have the potential to learn sophisticated feature interactions. As such, it is natural to integrate deep neural networks to factorization machines. Adding nonlinear transformation layers to factorization machines gives it the capability to model both low-order feature combinations and high-order feature combinations. Moreover, non-linear inherent structures from inputs can also be captured with deep neural networks. As such, we will train a representative model named deep factorization machines (DeepFM) [Guo et al., 2017] which combine FM and deep neural networks.\n",
        "\n",
        "DeepFM consists of an FM component and a deep component which are integrated in a parallel structure. The FM component is the same as the 2-way factorization machines which is used to model the low-order feature interactions. The deep component is a multi-layered perceptron that is used to capture high-order feature interactions and nonlinearities. These two components share the same inputs/embeddings and their outputs are summed up as the final prediction. It is worth pointing out that the spirit of DeepFM resembles that of the Wide & Deep architecture which can capture both memorization and generalization. The advantages of DeepFM over the Wide & Deep model is that it reduces the effort of hand-crafted feature engineering by identifying feature combinations automatically.\n",
        "\n",
        "![](https://drive.google.com/uc?id=1KXC_8TRNC5Dj1w_NyDfyagzxAnbQDABb)\n",
        "\n",
        "\n",
        "\n",
        "* Integrating neural networks to FM enables it to model complex and high-order \n",
        "interactions.\n",
        "\n",
        "* DeepFM outperforms the original FM on the advertising dataset.\n"
      ]
    },
    {
      "cell_type": "markdown",
      "metadata": {
        "id": "4rrT4wFPfn13"
      },
      "source": [
        "# Model implementation in PyTorch"
      ]
    },
    {
      "cell_type": "code",
      "metadata": {
        "id": "HEtvOeO2fo-0"
      },
      "source": [
        "# import all necessary libraries\n",
        "import numpy as np\n",
        "import pandas as pd\n",
        "import tqdm\n",
        "from sklearn.metrics import roc_auc_score\n",
        "\n",
        "import torch\n",
        "import torch.nn as nn\n",
        "from torch.utils.data import Dataset, DataLoader\n",
        "torch.manual_seed(2020)\n",
        "\n",
        "import warnings\n",
        "warnings.filterwarnings('ignore')"
      ],
      "execution_count": 1,
      "outputs": []
    },
    {
      "cell_type": "code",
      "metadata": {
        "id": "bpvQfBdWha-v"
      },
      "source": [
        "class MovieLensDataset(Dataset):\n",
        "    \"\"\"\n",
        "        MovieLens 1M Dataset\n",
        "        Data preparation: treat samples with a rating less than 3 as negative samples\n",
        "        :param dataset_path: MovieLens dataset path\n",
        "    \"\"\"\n",
        "\n",
        "    def __init__(self, dataset_path, sep='::', engine='python', header=None):\n",
        "        # Read the data into a Pandas dataframe\n",
        "        data = pd.read_csv(dataset_path, sep=sep, engine=engine, header=header).to_numpy()[:, :3]\n",
        "\n",
        "        # Retrieve the items and ratings data\n",
        "        self.items = data[:, :2].astype(np.int) - 1  # -1 because ID begins from 1\n",
        "        self.targets = self.__preprocess_target(data[:, 2]).astype(np.float32)\n",
        "\n",
        "        # Get the range of the items ([6040, 3952])\n",
        "        self.field_dims = np.max(self.items, axis=0) + 1 \n",
        "\n",
        "        # Initialize NumPy arrays to store user and item indices\n",
        "        self.user_field_idx = np.array((0,), dtype=np.long)\n",
        "        self.item_field_idx = np.array((1,), dtype=np.long)\n",
        "\n",
        "    def __len__(self):\n",
        "        \"\"\"\n",
        "        :return: number of total ratings\n",
        "        \"\"\"\n",
        "        return self.targets.shape[0]\n",
        "\n",
        "    def __getitem__(self, index):\n",
        "        \"\"\"\n",
        "        :param index: current index\n",
        "        :return: the items and ratings at current index\n",
        "        \"\"\"\n",
        "        return self.items[index], self.targets[index]\n",
        "\n",
        "    def __preprocess_target(self, target):\n",
        "        \"\"\"\n",
        "        Preprocess the ratings into negative and positive samples\n",
        "        :param target: ratings\n",
        "        :return: binary ratings (0 or 1)\n",
        "        \"\"\"\n",
        "        target[target <= 3] = 0  # ratings less than or equal to 3 classified as 0\n",
        "        target[target > 3] = 1  # ratings bigger than 3 classified as 1\n",
        "        return target"
      ],
      "execution_count": 2,
      "outputs": []
    },
    {
      "cell_type": "code",
      "metadata": {
        "id": "WMRAINuohbBU"
      },
      "source": [
        "class DeepFM(nn.Module):\n",
        "  \"\"\"\n",
        "  A Pytorch implementation of Deep Factorization Model\n",
        "  \"\"\"\n",
        "\n",
        "  def __init__(self, field_dims, embed_dim, mlp_dims, dropout):\n",
        "    super(DeepFM, self).__init__()\n",
        "    self.embedding = FeaturesEmbedding(field_dims, embed_dim)\n",
        "    self.linear = FeaturesLinear(field_dims)\n",
        "    self.fm = FactorizationMachine(reduce_sum=True)\n",
        "    self.embed_output_dim = len(field_dims) * embed_dim\n",
        "    self.mlp = MultiLayerPerceptron(self.embed_output_dim, mlp_dims, dropout)\n",
        "\n",
        "  def forward(self, x):\n",
        "    \"\"\"\n",
        "    :param x: Long tensor of size (batch_size, num_fields)\n",
        "    \"\"\"\n",
        "    embed_x = self.embedding(x)\n",
        "    x = self.linear(x) + self.fm(embed_x) + self.mlp(embed_x.view(-1, self.embed_output_dim))\n",
        "    return torch.sigmoid(x.squeeze(1))"
      ],
      "execution_count": 3,
      "outputs": []
    },
    {
      "cell_type": "code",
      "metadata": {
        "id": "9IBUI7MMn34w"
      },
      "source": [
        "class FeaturesEmbedding(torch.nn.Module):\n",
        "    \"\"\"\n",
        "    Class to get feature embeddings\n",
        "    \"\"\"\n",
        "\n",
        "    def __init__(self, field_dims, embed_dim):\n",
        "        super().__init__()\n",
        "        self.embedding = torch.nn.Embedding(sum(field_dims), embed_dim)\n",
        "        self.offsets = np.array((0, *np.cumsum(field_dims)[:-1]), dtype=np.long)\n",
        "        torch.nn.init.xavier_uniform_(self.embedding.weight.data)\n",
        "\n",
        "    def forward(self, x):\n",
        "        \"\"\"\n",
        "        :param x: Long tensor of size ``(batch_size, num_fields)``\n",
        "        \"\"\"\n",
        "        x = x + x.new_tensor(self.offsets).unsqueeze(0)\n",
        "        return self.embedding(x)\n",
        "\n",
        "\n",
        "class FeaturesLinear(torch.nn.Module):\n",
        "    \"\"\"\n",
        "    Class to perform a linear transformation on the features\n",
        "    \"\"\"\n",
        "\n",
        "    def __init__(self, field_dims, output_dim=1):\n",
        "        super().__init__()\n",
        "        self.fc = torch.nn.Embedding(sum(field_dims), output_dim)\n",
        "        self.bias = torch.nn.Parameter(torch.zeros((output_dim,)))\n",
        "        self.offsets = np.array((0, *np.cumsum(field_dims)[:-1]), dtype=np.long)\n",
        "\n",
        "    def forward(self, x):\n",
        "        \"\"\"\n",
        "        :param x: Long tensor of size ``(batch_size, num_fields)``\n",
        "        \"\"\"\n",
        "        x = x + x.new_tensor(self.offsets).unsqueeze(0)\n",
        "        return torch.sum(self.fc(x), dim=1) + self.bias\n",
        "\n",
        "\n",
        "class MultiLayerPerceptron(torch.nn.Module):\n",
        "    \"\"\"\n",
        "    Class to instantiate a Multilayer Perceptron model\n",
        "    \"\"\"\n",
        "\n",
        "    def __init__(self, input_dim, embed_dims, dropout, output_layer=True):\n",
        "        super().__init__()\n",
        "        layers = list()\n",
        "        for embed_dim in embed_dims:\n",
        "            layers.append(torch.nn.Linear(input_dim, embed_dim))\n",
        "            layers.append(torch.nn.BatchNorm1d(embed_dim))\n",
        "            layers.append(torch.nn.ReLU())\n",
        "            layers.append(torch.nn.Dropout(p=dropout))\n",
        "            input_dim = embed_dim\n",
        "        if output_layer:\n",
        "            layers.append(torch.nn.Linear(input_dim, 1))\n",
        "        self.mlp = torch.nn.Sequential(*layers)\n",
        "\n",
        "    def forward(self, x):\n",
        "        \"\"\"\n",
        "        :param x: Float tensor of size ``(batch_size, num_fields, embed_dim)``\n",
        "        \"\"\"\n",
        "        return self.mlp(x)\n",
        "\n",
        "\n",
        "class FactorizationMachine(torch.nn.Module):\n",
        "    \"\"\"\n",
        "        Class to instantiate a Factorization Machine model\n",
        "    \"\"\"\n",
        "\n",
        "    def __init__(self, reduce_sum=True):\n",
        "        super().__init__()\n",
        "        self.reduce_sum = reduce_sum\n",
        "\n",
        "    def forward(self, x):\n",
        "        \"\"\"\n",
        "        :param x: Float tensor of size ``(batch_size, num_fields, embed_dim)``\n",
        "        \"\"\"\n",
        "        square_of_sum = torch.sum(x, dim=1) ** 2\n",
        "        sum_of_square = torch.sum(x ** 2, dim=1)\n",
        "        ix = square_of_sum - sum_of_square\n",
        "        if self.reduce_sum:\n",
        "            ix = torch.sum(ix, dim=1, keepdim=True)\n",
        "        return 0.5 * ix"
      ],
      "execution_count": 4,
      "outputs": []
    },
    {
      "cell_type": "code",
      "metadata": {
        "id": "VJlQjuVohbJO"
      },
      "source": [
        "def fit(model, optimizer, data_loader, criterion, device, log_interval=1000):\n",
        "    \"\"\"\n",
        "    Train the model\n",
        "    :param model: choice of model\n",
        "    :param optimizer: choice of optimizer\n",
        "    :param data_loader: data loader class\n",
        "    :param criterion: choice of loss function\n",
        "    :param device: choice of device\n",
        "    :return: loss being logged\n",
        "    \"\"\"\n",
        "    # Step into train mode\n",
        "    model.train()\n",
        "    total_loss = 0\n",
        "    for i, (fields, target) in enumerate(data_loader):\n",
        "        fields, target = fields.to(device), target.to(device)\n",
        "        y = model(fields)\n",
        "        loss = criterion(y, target.float())\n",
        "        model.zero_grad()\n",
        "        loss.backward()\n",
        "        optimizer.step()\n",
        "        total_loss += loss.item()\n",
        "\n",
        "        # Log the total loss for every 1000 runs\n",
        "        #if (i + 1) % log_interval == 0:\n",
        "        #    print('    - loss:', total_loss / log_interval)\n",
        "        #    total_loss = 0\n",
        "\n",
        "def test(model, data_loader, device):\n",
        "    \"\"\"\n",
        "    Evaluate the model\n",
        "    :param model: choice of model\n",
        "    :param data_loader: data loader class\n",
        "    :param device: choice of device\n",
        "    :return: AUC score\n",
        "    \"\"\"\n",
        "    # Step into evaluation mode\n",
        "    model.eval()\n",
        "    targets, predicts = list(), list()\n",
        "    with torch.no_grad():\n",
        "        for fields, target in data_loader:\n",
        "            fields, target = fields.to(device), target.to(device)\n",
        "            y = model(fields)\n",
        "            targets.extend(target.tolist())\n",
        "            predicts.extend(y.tolist())\n",
        "\n",
        "    # Return AUC score between predicted ratings and actual ratings\n",
        "    return roc_auc_score(targets, predicts)"
      ],
      "execution_count": 5,
      "outputs": []
    },
    {
      "cell_type": "code",
      "metadata": {
        "colab": {
          "base_uri": "https://localhost:8080/"
        },
        "id": "CVt7V-Amqjxz",
        "outputId": "aa09dd2d-1855-4725-9c4c-e1b445267700"
      },
      "source": [
        "# get the data\n",
        "!wget http://files.grouplens.org/datasets/movielens/ml-1m.zip\n",
        "!unzip ml-1m.zip"
      ],
      "execution_count": 6,
      "outputs": [
        {
          "output_type": "stream",
          "name": "stdout",
          "text": [
            "--2021-08-31 09:51:31--  http://files.grouplens.org/datasets/movielens/ml-1m.zip\n",
            "Resolving files.grouplens.org (files.grouplens.org)... 128.101.65.152\n",
            "Connecting to files.grouplens.org (files.grouplens.org)|128.101.65.152|:80... connected.\n",
            "HTTP request sent, awaiting response... 200 OK\n",
            "Length: 5917549 (5.6M) [application/zip]\n",
            "Saving to: ‘ml-1m.zip’\n",
            "\n",
            "ml-1m.zip           100%[===================>]   5.64M  33.1MB/s    in 0.2s    \n",
            "\n",
            "2021-08-31 09:51:31 (33.1 MB/s) - ‘ml-1m.zip’ saved [5917549/5917549]\n",
            "\n",
            "Archive:  ml-1m.zip\n",
            "   creating: ml-1m/\n",
            "  inflating: ml-1m/movies.dat        \n",
            "  inflating: ml-1m/ratings.dat       \n",
            "  inflating: ml-1m/README            \n",
            "  inflating: ml-1m/users.dat         \n"
          ]
        }
      ]
    },
    {
      "cell_type": "code",
      "metadata": {
        "id": "t2JJParYhbL8"
      },
      "source": [
        "# Get the dataset\n",
        "dataset = MovieLensDataset('./ml-1m/ratings.dat')\n",
        "\n",
        "# Split the data into 80% train, 10% validation, and 10% test\n",
        "train_length = int(len(dataset) * 0.8)\n",
        "valid_length = int(len(dataset) * 0.1)\n",
        "test_length = len(dataset) - train_length - valid_length\n",
        "train_dataset, valid_dataset, test_dataset = torch.utils.data.random_split(dataset, (train_length, valid_length, test_length))\n",
        "\n",
        "# Instantiate data loader classes for train, validation, and test sets\n",
        "train_data_loader = DataLoader(train_dataset, batch_size=1024, num_workers=8)\n",
        "valid_data_loader = DataLoader(valid_dataset, batch_size=1024, num_workers=8)\n",
        "test_data_loader = DataLoader(test_dataset, batch_size=1024, num_workers=8)"
      ],
      "execution_count": 7,
      "outputs": []
    },
    {
      "cell_type": "code",
      "metadata": {
        "colab": {
          "base_uri": "https://localhost:8080/"
        },
        "id": "kmBYa9qWq929",
        "outputId": "477e791c-a9ac-431b-e968-09019435bfd9"
      },
      "source": [
        "# Get the model\n",
        "field_dims = dataset.field_dims\n",
        "learning_rate=0.001\n",
        "weight_decay=1e-6\n",
        "epoch=50\n",
        "device='cpu'\n",
        "\n",
        "model = DeepFM(field_dims, embed_dim=16, mlp_dims=(16, 16), dropout=0.5)\n",
        "# Use binary cross entropy loss\n",
        "criterion = torch.nn.BCELoss()\n",
        "# Use Adam optimizer\n",
        "optimizer = torch.optim.Adam(params=model.parameters(), lr=learning_rate, weight_decay=weight_decay)\n",
        "\n",
        "valid_losses = []\n",
        "\n",
        "# Loop through pre-defined number of epochs\n",
        "for epoch_i in range(epoch):\n",
        "    # Perform training on the train set\n",
        "    train_auc = fit(model, optimizer, train_data_loader, criterion, device)\n",
        "    # Perform evaluation on the validation set\n",
        "    valid_auc = test(model, valid_data_loader, device)\n",
        "    # Log the epochs and AUC on the validation set\n",
        "    print('epoch:', epoch_i, 'validation: auc:', valid_auc)\n",
        "    valid_losses.append(valid_auc)\n",
        "\n",
        "# Perform evaluation on the test set\n",
        "test_auc = test(model, test_data_loader, device)\n",
        "# Log the final AUC on the test set\n",
        "print('test auc:', test_auc)\n",
        "\n",
        "# Save the model checkpoint\n",
        "torch.save(model.state_dict(), 'deepfm.pt')"
      ],
      "execution_count": 8,
      "outputs": [
        {
          "output_type": "stream",
          "name": "stdout",
          "text": [
            "epoch: 0 validation: auc: 0.7748855875414413\n",
            "epoch: 1 validation: auc: 0.7809107389282749\n",
            "epoch: 2 validation: auc: 0.7825578235461339\n",
            "epoch: 3 validation: auc: 0.784763771780618\n",
            "epoch: 4 validation: auc: 0.7854905713543625\n",
            "epoch: 5 validation: auc: 0.7859309643393357\n",
            "epoch: 6 validation: auc: 0.7872158641677103\n",
            "epoch: 7 validation: auc: 0.7883527151325715\n",
            "epoch: 8 validation: auc: 0.7899074102445225\n",
            "epoch: 9 validation: auc: 0.7905981871911703\n",
            "epoch: 10 validation: auc: 0.7914434526920313\n",
            "epoch: 11 validation: auc: 0.79235680468287\n",
            "epoch: 12 validation: auc: 0.7929104501516231\n",
            "epoch: 13 validation: auc: 0.794071345178426\n",
            "epoch: 14 validation: auc: 0.7947003129170545\n",
            "epoch: 15 validation: auc: 0.7956855767987371\n",
            "epoch: 16 validation: auc: 0.7961771596281977\n",
            "epoch: 17 validation: auc: 0.7972665811041233\n",
            "epoch: 18 validation: auc: 0.7982736429389404\n",
            "epoch: 19 validation: auc: 0.7986405588546166\n",
            "epoch: 20 validation: auc: 0.7992968384663428\n",
            "epoch: 21 validation: auc: 0.8000116600885672\n",
            "epoch: 22 validation: auc: 0.8003970617599536\n",
            "epoch: 23 validation: auc: 0.8009839482481477\n",
            "epoch: 24 validation: auc: 0.8012436396216294\n",
            "epoch: 25 validation: auc: 0.8017012863876888\n",
            "epoch: 26 validation: auc: 0.8022458148760435\n",
            "epoch: 27 validation: auc: 0.8031803581395027\n",
            "epoch: 28 validation: auc: 0.8034035646141544\n",
            "epoch: 29 validation: auc: 0.8039053143535742\n",
            "epoch: 30 validation: auc: 0.8039067467823126\n",
            "epoch: 31 validation: auc: 0.8047409821932519\n",
            "epoch: 32 validation: auc: 0.8049246012302893\n",
            "epoch: 33 validation: auc: 0.8054918777833718\n",
            "epoch: 34 validation: auc: 0.8057468640078789\n",
            "epoch: 35 validation: auc: 0.8059828572050387\n",
            "epoch: 36 validation: auc: 0.8063280330538198\n",
            "epoch: 37 validation: auc: 0.806608041883619\n",
            "epoch: 38 validation: auc: 0.8071806466297916\n",
            "epoch: 39 validation: auc: 0.8073388415396724\n",
            "epoch: 40 validation: auc: 0.8076000571826043\n",
            "epoch: 41 validation: auc: 0.8076645690439038\n",
            "epoch: 42 validation: auc: 0.8078620568465777\n",
            "epoch: 43 validation: auc: 0.8078736216171681\n",
            "epoch: 44 validation: auc: 0.8076747512947392\n",
            "epoch: 45 validation: auc: 0.8080290690784105\n",
            "epoch: 46 validation: auc: 0.8080873500894701\n",
            "epoch: 47 validation: auc: 0.8080370941975201\n",
            "epoch: 48 validation: auc: 0.8078567313125732\n",
            "epoch: 49 validation: auc: 0.8079080003159811\n",
            "test auc: 0.8051206073516692\n"
          ]
        }
      ]
    },
    {
      "cell_type": "code",
      "metadata": {
        "id": "xh7WUSfR2DtX",
        "colab": {
          "base_uri": "https://localhost:8080/",
          "height": 621
        },
        "outputId": "060a7821-729f-4ece-d373-82173d7442f3"
      },
      "source": [
        "import matplotlib.pyplot as plt\n",
        "plt.figure(figsize=(10, 10))\n",
        "plt.plot( valid_losses, 'r', label='Validation loss')\n",
        "plt.title('Validation loss')\n",
        "plt.xlabel('Epochs')\n",
        "plt.ylabel('Loss')\n",
        "plt.legend()\n",
        "plt.show()"
      ],
      "execution_count": 9,
      "outputs": [
        {
          "output_type": "display_data",
          "data": {
            "image/png": "[encoded data removed]",
            "text/plain": [
              "<Figure size 720x720 with 1 Axes>"
            ]
          },
          "metadata": {
            "needs_background": "light"
          }
        }
      ]
    }
  ]
}