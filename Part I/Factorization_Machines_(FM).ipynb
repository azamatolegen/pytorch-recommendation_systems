{
  "nbformat": 4,
  "nbformat_minor": 0,
  "metadata": {
    "colab": {
      "name": "Factorization Machines (FM).ipynb",
      "provenance": [],
      "collapsed_sections": []
    },
    "kernelspec": {
      "name": "python3",
      "display_name": "Python 3"
    }
  },
  "cells": [
    {
      "cell_type": "markdown",
      "metadata": {
        "id": "M8IxcFFpGx1L"
      },
      "source": [
        "# Factorization Machines \r\n",
        "\r\n",
        "Factorization machines (FM) is a supervised algorithm that can be used for classification, regression, and ranking tasks. Particularly, it is a generalization of the linear regression model and the matrix factorization model. \r\n",
        "\r\n",
        "FM is formulated as a linear model, with interactions between features as additional parameters (features). However, these user/item indicators can be augmented with arbitrary auxiliary features, for example, user or item attributes and/or contextual features relevant to the interaction itself. These feature interactions are done in their latent space representation instead of their plain format.\r\n",
        "\r\n",
        "![](https://drive.google.com/uc?id=1-1ywT0sOGrYs8lXJ-zljSrF2mF6gQxvS)\r\n",
        "\r\n",
        "* A linear model, given a vector *x* models its output *y* as: \r\n",
        "\r\n",
        "  ![](https://drive.google.com/uc?id=1U1HUGuROvvxHQ-abyJHx5HgoQvd7ExDD)\r\n",
        "  \r\n",
        "  where *w* are the learnable weights of the model.\r\n",
        "\r\n",
        "  The drawback of this model is that it does not handle feature interactions. To capture interactions, we could introduce a weight *wui* for each feature combination (that combines both user *u* and movie (item) *i* interaction).\r\n",
        "\r\n",
        "*  The resulting model for a factorization machine of degree two is defined as:\r\n",
        "![](https://drive.google.com/uc?id=1W_ndd8TORVF_3zFk40wNifBPZYtPP0jo)\r\n",
        "\r\n",
        "   Compared to our previous model, this formulation has the advantages that it can capture feature interactions at least for two features at a time. However, this introduces a large number of *w2* variables.\r\n",
        "\r\n",
        "* To solve this complexity issue, Factorization Machines takes inspiration from matrix factorization, and models the feature interaction using latent factors.Therefore previous equiation can be  re-formulation as low-rank re-formulation to reduce the number of additional parameters for the factorization machine.\r\n",
        "\r\n",
        "  ![](https://drive.google.com/uc?id=1L9cx5gghNPaf_FpTCWj6EwhS6--FhAMg)\r\n",
        "\r\n",
        "  The first two terms correspond to the linear regression model and the last term is an extension of the matrix factorization model. If the feature *i*  represents an item and the feature *j*  represents a user, the third term is exactly the dot product between user and item embeddings. \r\n",
        "-------------------------------\r\n",
        "**Advantages:** We'll now wrap up the theoretical section of factorization machine, with some of its advantages:\r\n",
        "\r\n",
        "* We can observe from the model equation that it can be computed in linear time.\r\n",
        "* By leveraging ideas from matrix factorization, we can estimate higher order interaction effects even under very sparse data.\r\n",
        "* Compared to traditional matrix factorization methods, which is restricted to modeling a user-item matrix, we can leverage other user or item specific features making factorization machine more flexible."
      ]
    },
    {
      "cell_type": "markdown",
      "metadata": {
        "id": "7palkAIRf4L9"
      },
      "source": [
        "# Model implementation in PyTorch"
      ]
    },
    {
      "cell_type": "code",
      "metadata": {
        "id": "3wjfQ9PYy0E5"
      },
      "source": [
        "# import libraries\r\n",
        "import pandas as pd\r\n",
        "\r\n",
        "from sklearn.model_selection import train_test_split\r\n",
        "from sklearn.preprocessing import LabelEncoder\r\n",
        "from sklearn.utils import shuffle\r\n",
        "\r\n",
        "import torch\r\n",
        "import torch.nn as nn\r\n",
        "from torch.utils.data import TensorDataset, DataLoader\r\n",
        "import torch.nn.functional as F\r\n",
        "from torch.autograd import Variable\r\n",
        "torch.manual_seed(2020)\r\n",
        "\r\n",
        "import warnings\r\n",
        "warnings.filterwarnings('ignore')"
      ],
      "execution_count": null,
      "outputs": []
    },
    {
      "cell_type": "code",
      "metadata": {
        "id": "mX7GzwMFOZC8"
      },
      "source": [
        "# Initialize a Loader class\r\n",
        "class Loader():\r\n",
        "    # Set the iterator\r\n",
        "    current = 0\r\n",
        "\r\n",
        "    def __init__(self, x, y, batchsize=1024, do_shuffle=True):\r\n",
        "        \"\"\"\r\n",
        "        :param x: features\r\n",
        "        :param y: target\r\n",
        "        :param batchsize: batch size = 1024\r\n",
        "        :param do_shuffle: shuffle mode turned on\r\n",
        "        \"\"\"\r\n",
        "        self.shuffle = shuffle\r\n",
        "        self.x = x\r\n",
        "        self.y = y\r\n",
        "        self.batchsize = batchsize\r\n",
        "        self.batches = range(0, len(self.y), batchsize)\r\n",
        "        if do_shuffle:\r\n",
        "            # Every epoch re-shuffle the dataset\r\n",
        "            self.x, self.y = shuffle(self.x, self.y)\r\n",
        "\r\n",
        "    def __iter__(self):\r\n",
        "        # Reset & return a new iterator\r\n",
        "        self.x, self.y = shuffle(self.x, self.y, random_state=0)\r\n",
        "        self.current = 0\r\n",
        "        return self\r\n",
        "\r\n",
        "    def __len__(self):\r\n",
        "        # Return the number of batches\r\n",
        "        return int(len(self.x) / self.batchsize)\r\n",
        "\r\n",
        "    def __next__(self):\r\n",
        "        # Update iterator and stop iteration until the batch size is out of range\r\n",
        "        n = self.batchsize\r\n",
        "        if self.current + n >= len(self.y):\r\n",
        "            raise StopIteration\r\n",
        "        i = self.current\r\n",
        "\r\n",
        "        # Transform NumPy arrays to PyTorch tensors\r\n",
        "        xs = torch.from_numpy(self.x[i:i + n])\r\n",
        "        ys = torch.from_numpy(self.y[i:i + n])\r\n",
        "        self.current += n\r\n",
        "        return xs, ys\r\n",
        "    \r\n",
        "def index_into(arr, idx):\r\n",
        "    new_shape = (idx.size()[0], idx.size()[1], arr.size()[1])\r\n",
        "    return arr[idx.resize(torch.numel(idx.data))].view(new_shape)"
      ],
      "execution_count": null,
      "outputs": []
    },
    {
      "cell_type": "markdown",
      "metadata": {
        "id": "MXU-FnjQgdoM"
      },
      "source": [
        "We can reorganize the third term of FM which could greatly reduce the computation cost, leading to a linear time complexity. The reformulation of the pairwise interaction term is as follows:\r\n"
      ]
    },
    {
      "cell_type": "code",
      "metadata": {
        "id": "IZAlHOSWggb6"
      },
      "source": [
        "def factorization_machine(v, x=None):\r\n",
        "    \"\"\"\r\n",
        "    Takes an input 2D matrix v of n vectors, each d-dimensional\r\n",
        "    :param v: (batchsize, n_features, dim)\r\n",
        "    :param x: (batchsize, n_features) functions as a weight array, assumed to be 1 if missing\r\n",
        "    :return: output that is d-dimensional\r\n",
        "    \"\"\"\r\n",
        "    batchsize = v.size()[0]\r\n",
        "    n_features = v.size()[1]\r\n",
        "    n_dim = v.size()[2]\r\n",
        "\r\n",
        "    if x is None:\r\n",
        "        x = Variable(torch.ones(v.size()))\r\n",
        "    else:\r\n",
        "        x = x.expand(batchsize, n_features, n_dim)\r\n",
        "\r\n",
        "    # Uses Rendle's trick for computing pairs of features in linear time\r\n",
        "    square_of_sum  = (v * x).sum(dim=1) ** 2.0\r\n",
        "    sum_of_square  = (v ** 2.0 * x ** 2.0).sum(dim=1)\r\n",
        "    return 0.5 * (square_of_sum  - sum_of_square )"
      ],
      "execution_count": null,
      "outputs": []
    },
    {
      "cell_type": "code",
      "metadata": {
        "id": "Z9pK5V9EOZO2"
      },
      "source": [
        "class FM(nn.Module):\r\n",
        "    # Iteration counter\r\n",
        "    itr = 0\r\n",
        "\r\n",
        "    def __init__(self, n_feat, k=10, c_feat=1.0, c_bias=1.0, writer=None):\r\n",
        "        \"\"\"\r\n",
        "        :param n_feat: Feature column\r\n",
        "        :param k: Dimensions constant\r\n",
        "        :param c_feat: Regularization constant for the features\r\n",
        "        :param c_bias: Regularization constant for the biases\r\n",
        "        :param writer: Log results via TensorBoard\r\n",
        "        \"\"\"\r\n",
        "        super(FM, self).__init__()\r\n",
        "\r\n",
        "        # This will hold the logging\r\n",
        "        self.writer = writer\r\n",
        "\r\n",
        "        # These are the hyper-parameters\r\n",
        "        self.k = k\r\n",
        "        self.n_feat = n_feat\r\n",
        "        self.c_feat = c_feat\r\n",
        "        self.c_bias = c_bias\r\n",
        "\r\n",
        "        # The embedding matrices for the features and the feature's biases\r\n",
        "        self.feat = nn.Embedding(n_feat, k)\r\n",
        "        self.bias_feat = nn.Embedding(n_feat, 1)\r\n",
        "\r\n",
        "    def __call__(self, train_x):\r\n",
        "        \"\"\"This is the most important function in this script\"\"\"\r\n",
        "        # Pull out biases\r\n",
        "        biases = index_into(self.bias_feat.weight, train_x).squeeze().sum(dim=1)\r\n",
        "\r\n",
        "        # Initialize vector features using the feature weights\r\n",
        "        vector_features = index_into(self.feat.weight, train_x)\r\n",
        "\r\n",
        "        # Use factorization machines to pull out the interactions\r\n",
        "        interactions = factorization_machine(vector_features).squeeze().sum(dim=1)\r\n",
        "\r\n",
        "        # Final prediction is the sum of biases and interactions\r\n",
        "        prediction = biases + interactions\r\n",
        "        return prediction\r\n",
        "\r\n",
        "    def loss(self, prediction, target):\r\n",
        "        \"\"\"\r\n",
        "        Function to calculate the loss metric\r\n",
        "        \"\"\"\r\n",
        "        # Calculate the Mean Squared Error between target and prediction\r\n",
        "        loss_mse = F.mse_loss(prediction.squeeze(), target.squeeze())\r\n",
        "\r\n",
        "        # Compute L2 regularization over feature matrices\r\n",
        "        prior_feat = l2_regularize(self.feat.weight) * self.c_feat\r\n",
        "\r\n",
        "        # Add the MSE loss and feature regularization to get total loss\r\n",
        "        total = (loss_mse + prior_feat)\r\n",
        "\r\n",
        "        # This logs all local variables to tensorboard\r\n",
        "        for name, var in locals().items():\r\n",
        "            if type(var) is torch.Tensor and var.nelement() == 1 and self.writer is not None:\r\n",
        "                self.writer.add_scalar(name, var, self.itr)\r\n",
        "        return total\r\n",
        "\r\n",
        "# FMs are prone to overfitting and for this reason L2 regularization is applied\r\n",
        "def l2_regularize(array):\r\n",
        "    \"\"\"\r\n",
        "    Function to do L2 regularization\r\n",
        "    \"\"\"\r\n",
        "    loss = torch.sum(array ** 2.0)\r\n",
        "    return loss"
      ],
      "execution_count": null,
      "outputs": []
    },
    {
      "cell_type": "code",
      "metadata": {
        "colab": {
          "base_uri": "https://localhost:8080/"
        },
        "id": "Ycxyv0vxg-BS",
        "outputId": "51dac20e-e784-4fb0-b8ca-ad08cb7b120d"
      },
      "source": [
        "# get the data\r\n",
        "!wget http://files.grouplens.org/datasets/movielens/ml-1m.zip\r\n",
        "!unzip ml-1m.zip"
      ],
      "execution_count": null,
      "outputs": [
        {
          "output_type": "stream",
          "text": [
            "--2021-02-09 09:26:42--  http://files.grouplens.org/datasets/movielens/ml-1m.zip\n",
            "Resolving files.grouplens.org (files.grouplens.org)... 128.101.65.152\n",
            "Connecting to files.grouplens.org (files.grouplens.org)|128.101.65.152|:80... connected.\n",
            "HTTP request sent, awaiting response... 200 OK\n",
            "Length: 5917549 (5.6M) [application/zip]\n",
            "Saving to: ‘ml-1m.zip.3’\n",
            "\n",
            "ml-1m.zip.3         100%[===================>]   5.64M  12.6MB/s    in 0.4s    \n",
            "\n",
            "2021-02-09 09:26:43 (12.6 MB/s) - ‘ml-1m.zip.3’ saved [5917549/5917549]\n",
            "\n",
            "Archive:  ml-1m.zip\n",
            "replace ml-1m/movies.dat? [y]es, [n]o, [A]ll, [N]one, [r]ename: N\n"
          ],
          "name": "stdout"
        }
      ]
    },
    {
      "cell_type": "code",
      "metadata": {
        "colab": {
          "base_uri": "https://localhost:8080/",
          "height": 330
        },
        "id": "uHMVxycaOZRA",
        "outputId": "2e62ae79-5afe-4ae4-9e6e-c2564dd243f1"
      },
      "source": [
        "# read the data\r\n",
        "ratings = pd.read_csv('./ml-1m/ratings.dat', sep='::', engine='python', \r\n",
        "                      names=('userId', 'movieId','ratings','timestamp'))\r\n",
        "\r\n",
        "# Create users dataframe\r\n",
        "users = pd.read_csv(\"./ml-1m/users.dat\", sep='::', engine='python',\r\n",
        "                    names=['userId', 'gender', 'age', 'occupation', 'zipcode'])\r\n",
        "\r\n",
        "# Create users dataframe\r\n",
        "movies = pd.read_csv(\"./ml-1m/movies.dat\", sep='::', engine='python',\r\n",
        "                    names=['movieId', 'title', 'genres_str'])\r\n",
        "\r\n",
        "# Is this rating the first rating ever for that user, or the nth?\r\n",
        "ratings['rank'] = ratings.groupby(\"userId\")[\"timestamp\"].rank(ascending=True).astype('int64')\r\n",
        "\r\n",
        "# Merge ratings & user features\r\n",
        "dataset = ratings.merge(users, on='userId')\r\n",
        "dataset = dataset.merge(movies, on='movieId')\r\n",
        "dataset = dataset.sample(frac=1)\r\n",
        "dataset.drop(columns=['timestamp', 'zipcode', 'title', 'genres_str'], inplace=True)\r\n",
        "dataset['gender'] = dataset['gender'].map({'M':0, 'F':1})\r\n",
        "assert len(ratings) == len(dataset)\r\n",
        "\r\n",
        "# Compute cardinalities\r\n",
        "n_user = dataset.userId.max() + 1\r\n",
        "n_item = dataset.movieId.max() + 1\r\n",
        "n_rank = dataset['rank'].max() + 1\r\n",
        "n_age = dataset['age'].max() + 1\r\n",
        "n_occu = dataset['occupation'].max() + 1\r\n",
        "n_gen = dataset['gender'].nunique()\r\n",
        "# n_feat = n_user + n_item + n_rank + n_age + n_occu + n_gen\r\n",
        "n_feat = n_user + n_item + n_occu + n_rank\r\n",
        "\r\n",
        "print('n_user', n_user)\r\n",
        "print('n_item', n_item)\r\n",
        "print('n_rank', n_rank)\r\n",
        "print('n_gen', n_gen)\r\n",
        "print('n_age', n_age)\r\n",
        "print('n_occu', n_occu)\r\n",
        "print('n_feat', n_feat)\r\n",
        "print('n_rows', len(dataset))\r\n",
        "\r\n",
        "display(dataset.head())"
      ],
      "execution_count": null,
      "outputs": [
        {
          "output_type": "stream",
          "text": [
            "n_user 6041\n",
            "n_item 3953\n",
            "n_rank 2315\n",
            "n_gen 2\n",
            "n_age 57\n",
            "n_occu 21\n",
            "n_feat 12330\n",
            "n_rows 1000209\n"
          ],
          "name": "stdout"
        },
        {
          "output_type": "display_data",
          "data": {
            "text/html": [
              "<div>\n",
              "<style scoped>\n",
              "    .dataframe tbody tr th:only-of-type {\n",
              "        vertical-align: middle;\n",
              "    }\n",
              "\n",
              "    .dataframe tbody tr th {\n",
              "        vertical-align: top;\n",
              "    }\n",
              "\n",
              "    .dataframe thead th {\n",
              "        text-align: right;\n",
              "    }\n",
              "</style>\n",
              "<table border=\"1\" class=\"dataframe\">\n",
              "  <thead>\n",
              "    <tr style=\"text-align: right;\">\n",
              "      <th></th>\n",
              "      <th>userId</th>\n",
              "      <th>movieId</th>\n",
              "      <th>ratings</th>\n",
              "      <th>rank</th>\n",
              "      <th>gender</th>\n",
              "      <th>age</th>\n",
              "      <th>occupation</th>\n",
              "    </tr>\n",
              "  </thead>\n",
              "  <tbody>\n",
              "    <tr>\n",
              "      <th>511229</th>\n",
              "      <td>329</td>\n",
              "      <td>1200</td>\n",
              "      <td>5</td>\n",
              "      <td>90</td>\n",
              "      <td>0</td>\n",
              "      <td>35</td>\n",
              "      <td>7</td>\n",
              "    </tr>\n",
              "    <tr>\n",
              "      <th>767023</th>\n",
              "      <td>3174</td>\n",
              "      <td>804</td>\n",
              "      <td>3</td>\n",
              "      <td>53</td>\n",
              "      <td>1</td>\n",
              "      <td>18</td>\n",
              "      <td>14</td>\n",
              "    </tr>\n",
              "    <tr>\n",
              "      <th>111551</th>\n",
              "      <td>5015</td>\n",
              "      <td>1225</td>\n",
              "      <td>4</td>\n",
              "      <td>66</td>\n",
              "      <td>0</td>\n",
              "      <td>35</td>\n",
              "      <td>6</td>\n",
              "    </tr>\n",
              "    <tr>\n",
              "      <th>341264</th>\n",
              "      <td>4379</td>\n",
              "      <td>1441</td>\n",
              "      <td>4</td>\n",
              "      <td>60</td>\n",
              "      <td>0</td>\n",
              "      <td>25</td>\n",
              "      <td>4</td>\n",
              "    </tr>\n",
              "    <tr>\n",
              "      <th>633718</th>\n",
              "      <td>3646</td>\n",
              "      <td>198</td>\n",
              "      <td>2</td>\n",
              "      <td>71</td>\n",
              "      <td>0</td>\n",
              "      <td>35</td>\n",
              "      <td>20</td>\n",
              "    </tr>\n",
              "  </tbody>\n",
              "</table>\n",
              "</div>"
            ],
            "text/plain": [
              "        userId  movieId  ratings  rank  gender  age  occupation\n",
              "511229     329     1200        5    90       0   35           7\n",
              "767023    3174      804        3    53       1   18          14\n",
              "111551    5015     1225        4    66       0   35           6\n",
              "341264    4379     1441        4    60       0   25           4\n",
              "633718    3646      198        2    71       0   35          20"
            ]
          },
          "metadata": {
            "tags": []
          }
        }
      ]
    },
    {
      "cell_type": "code",
      "metadata": {
        "id": "-vPCF1YwOZT7"
      },
      "source": [
        "from sklearn.model_selection import train_test_split\r\n",
        "from torch.utils.data import TensorDataset, DataLoader\r\n",
        "\r\n",
        "# split the dataset into training and testing datasets\r\n",
        "train_df, test_df = train_test_split(dataset, test_size=0.1, random_state=42, stratify=dataset.ratings)\r\n",
        "\r\n",
        "train_df.loc[:, 'movieId'] = n_user\r\n",
        "train_df.loc[:, 'rank'] = n_user + n_item\r\n",
        "train_df.loc[:, 'occupation'] = n_user + n_item + n_occu\r\n",
        "# train_df.loc[:, 'gender'] = n_user + n_item + n_rank\r\n",
        "# train_df.loc[:, 'age'] = n_user + n_item + n_rank + n_gen\r\n",
        "# train_df.loc[:, 'occupation'] = n_user + n_item + n_rank + n_gen + n_age\r\n",
        "\r\n",
        "test_df.loc[:, 'movieId'] = n_user\r\n",
        "test_df.loc[:, 'rank'] = n_user + n_item\r\n",
        "test_df.loc[:, 'occupation'] = n_user + n_item + n_occu\r\n",
        "# test_df.loc[:, 'gender'] = n_user + n_item + n_rank\r\n",
        "# test_df.loc[:, 'age'] = n_user + n_item + n_rank + n_gen\r\n",
        "# test_df.loc[:, 'occupation'] = n_user + n_item + n_rank + n_gen + n_age\r\n",
        "\r\n",
        "train_X = torch.tensor(train_df[['userId', 'movieId', 'rank', 'occupation']].values)\r\n",
        "train_y = torch.FloatTensor(train_df['ratings'].values)\r\n",
        "test_x = torch.tensor(test_df[['userId', 'movieId', 'rank', 'occupation']].values)\r\n",
        "test_y = torch.FloatTensor(test_df['ratings'].values)\r\n",
        "\r\n",
        "train_loader = DataLoader(TensorDataset(train_X, train_y), batch_size=1024)\r\n",
        "test_loader = DataLoader(TensorDataset(test_x, test_y), batch_size=1024)"
      ],
      "execution_count": null,
      "outputs": []
    },
    {
      "cell_type": "code",
      "metadata": {
        "id": "RZsfaz-thnO_"
      },
      "source": [
        "losses = []\r\n",
        "\r\n",
        "# fit the model to the input data and label.\r\n",
        "def fit(model, dataloader, optimizer):\r\n",
        "    model.train()\r\n",
        "    # for epoch in range(epochs):\r\n",
        "    for batch in dataloader:\r\n",
        "        optimizer.zero_grad()\r\n",
        "        x, y = batch[0], batch[1]\r\n",
        "        y_pred = model(x)\r\n",
        "        loss = model.loss(y_pred, y)\r\n",
        "        loss.backward()\r\n",
        "        optimizer.step()\r\n",
        "    # print(f\"epoch {epoch}'s training loss %.3f\" % loss.item())\r\n",
        "    # losses.append(loss.item())\r\n",
        "    return loss.item()\r\n",
        "\r\n",
        "# evaluate the model on unseen data\r\n",
        "def evaluate(model, dataloader):\r\n",
        "    model.eval()\r\n",
        "    for batch in dataloader:\r\n",
        "        with torch.no_grad():\r\n",
        "            x, y = batch[0], batch[1]\r\n",
        "            y_pred = model(x)\r\n",
        "            loss = model.loss(y_pred, y)\r\n",
        "    # print(\"test loss %.3f \" % loss.item())\r\n",
        "    # return y_pred, y\r\n",
        "    return loss.item()"
      ],
      "execution_count": null,
      "outputs": []
    },
    {
      "cell_type": "code",
      "metadata": {
        "id": "vcBY--uvhnSN"
      },
      "source": [
        "# Define the Hyper-parameters\r\n",
        "lr = 1e-2  # Learning rate\r\n",
        "k = 10  # Number of dimensions per user and item\r\n",
        "c_bias = 1e-5  # Bias constant\r\n",
        "c_feat = 1e-5  # Regularization constant\r\n",
        "epochs = 10\r\n",
        "# Instantiate the model class object\r\n",
        "model = FM(n_feat, k=k, c_bias=c_bias, c_feat=c_feat)\r\n",
        "\r\n",
        "# Use Adam optimizer\r\n",
        "optimizer = torch.optim.Adam(model.parameters(), lr=lr)\r\n",
        "\r\n",
        "# fit(model, epochs=10, dataloader=train_loader, optimizer=optimizer)\r\n",
        "# evaluate(model, test_loader)"
      ],
      "execution_count": null,
      "outputs": []
    },
    {
      "cell_type": "code",
      "metadata": {
        "colab": {
          "base_uri": "https://localhost:8080/"
        },
        "id": "FeHaZCAwWyfd",
        "outputId": "672edb65-da4f-42fc-b11b-77ec77e5ef94"
      },
      "source": [
        "# Loop through pre-defined number of epochs\r\n",
        "train_losses = []\r\n",
        "test_losses = []\r\n",
        "\r\n",
        "for epoch in range(epochs):\r\n",
        "    # Perform training on the train set\r\n",
        "    train_loss = fit(model, dataloader=train_loader, optimizer=optimizer)\r\n",
        "    # Perform evaluation on the validation set\r\n",
        "    # valid_auc = test(model, valid_data_loader, device)\r\n",
        "    # Log the epochs and AUC on the validation set\r\n",
        "    print('epoch:', epoch, 'training loss:', train_loss)\r\n",
        "    train_losses.append(train_loss)\r\n",
        "\r\n",
        "    # Perform evaluation on the test set\r\n",
        "    test_loss = evaluate(model, test_loader)\r\n",
        "    # Log the final MSE loss on the test set\r\n",
        "    print('epoch:', epoch, 'testing  loss:', test_loss)\r\n",
        "    test_losses.append(test_loss)\r\n",
        "\r\n",
        "# Save the model checkpoint\r\n",
        "torch.save(model.state_dict(), 'mf.pt')"
      ],
      "execution_count": null,
      "outputs": [
        {
          "output_type": "stream",
          "text": [
            "epoch: 0 training loss: 1.5841721296310425\n",
            "epoch: 0 testing  loss: 1.5758739709854126\n",
            "epoch: 1 training loss: 1.4656462669372559\n",
            "epoch: 1 testing  loss: 1.4520232677459717\n",
            "epoch: 2 training loss: 1.389354944229126\n",
            "epoch: 2 testing  loss: 1.3434208631515503\n",
            "epoch: 3 training loss: 1.3236620426177979\n",
            "epoch: 3 testing  loss: 1.2623251676559448\n",
            "epoch: 4 training loss: 1.2694118022918701\n",
            "epoch: 4 testing  loss: 1.208667278289795\n",
            "epoch: 5 training loss: 1.2306150197982788\n",
            "epoch: 5 testing  loss: 1.1725738048553467\n",
            "epoch: 6 training loss: 1.2054029703140259\n",
            "epoch: 6 testing  loss: 1.1478619575500488\n",
            "epoch: 7 training loss: 1.1735032796859741\n",
            "epoch: 7 testing  loss: 1.1339900493621826\n",
            "epoch: 8 training loss: 1.1250455379486084\n",
            "epoch: 8 testing  loss: 1.1278533935546875\n",
            "epoch: 9 training loss: 1.0620251893997192\n",
            "epoch: 9 testing  loss: 1.1209110021591187\n"
          ],
          "name": "stdout"
        }
      ]
    },
    {
      "cell_type": "code",
      "metadata": {
        "colab": {
          "base_uri": "https://localhost:8080/",
          "height": 621
        },
        "id": "WHirNA8QhnVU",
        "outputId": "5f6706a7-d2e7-4bed-a177-e7623e0de55c"
      },
      "source": [
        "import matplotlib.pyplot as plt\r\n",
        "plt.figure(figsize=(10, 10))\r\n",
        "plt.plot( train_losses, 'b', label='Training loss')\r\n",
        "plt.plot( test_losses, 'r', label='Testing loss')\r\n",
        "plt.title('Training and Test loss')\r\n",
        "plt.xlabel('Epochs')\r\n",
        "plt.ylabel('Loss')\r\n",
        "plt.legend()\r\n",
        "plt.show()"
      ],
      "execution_count": null,
      "outputs": [
        {
          "output_type": "display_data",
          "data": {
            "image/png": "[encoded data removed]",
            "text/plain": [
              "<Figure size 720x720 with 1 Axes>"
            ]
          },
          "metadata": {
            "tags": [],
            "needs_background": "light"
          }
        }
      ]
    },
    {
      "cell_type": "markdown",
      "metadata": {
        "id": "HAsQaITYdwA1"
      },
      "source": [
        "# Undertanding Embeddings"
      ]
    },
    {
      "cell_type": "code",
      "metadata": {
        "colab": {
          "base_uri": "https://localhost:8080/"
        },
        "id": "s1iTnjPqty3w",
        "outputId": "bfb2ff43-91a7-46ca-cadb-f105c806ad11"
      },
      "source": [
        "# explore the features embedding matrix weights\r\n",
        "feat_weight = model.feat.weight\r\n",
        "print(feat_weight.size())\r\n",
        "print(feat_weight[0])"
      ],
      "execution_count": null,
      "outputs": [
        {
          "output_type": "stream",
          "text": [
            "torch.Size([12330, 10])\n",
            "tensor([ 5.8606e-38, -2.2490e-39, -3.5130e-40, -6.5776e-38,  3.3245e-39,\n",
            "         3.6953e-39, -1.6310e-39,  8.6407e-40, -1.6005e-39,  1.6225e-39],\n",
            "       grad_fn=<SelectBackward>)\n"
          ],
          "name": "stdout"
        }
      ]
    },
    {
      "cell_type": "code",
      "metadata": {
        "colab": {
          "base_uri": "https://localhost:8080/"
        },
        "id": "xP_i-Kf8uWpH",
        "outputId": "a248bffe-257f-4f86-cfd5-b657df3c90d8"
      },
      "source": [
        "# explore the biases embedding matrix weights\r\n",
        "bias_weight = model.bias_feat.weight\r\n",
        "print(bias_weight.size())\r\n",
        "print(bias_weight[0])"
      ],
      "execution_count": null,
      "outputs": [
        {
          "output_type": "stream",
          "text": [
            "torch.Size([12330, 1])\n",
            "tensor([-0.7479], grad_fn=<SelectBackward>)\n"
          ],
          "name": "stdout"
        }
      ]
    },
    {
      "cell_type": "code",
      "metadata": {
        "colab": {
          "base_uri": "https://localhost:8080/"
        },
        "id": "aKbGxysIngET",
        "outputId": "9bb871ab-ce4f-4fc4-8495-b938f6a9f5aa"
      },
      "source": [
        "# one batch of train loader looks like\r\n",
        "next(iter(train_loader))"
      ],
      "execution_count": null,
      "outputs": [
        {
          "output_type": "execute_result",
          "data": {
            "text/plain": [
              "[tensor([[ 3553,  6041,  9994, 10015],\n",
              "         [ 5394,  6041,  9994, 10015],\n",
              "         [ 1733,  6041,  9994, 10015],\n",
              "         ...,\n",
              "         [ 3724,  6041,  9994, 10015],\n",
              "         [ 6016,  6041,  9994, 10015],\n",
              "         [  319,  6041,  9994, 10015]]),\n",
              " tensor([5., 3., 4.,  ..., 4., 4., 4.])]"
            ]
          },
          "metadata": {
            "tags": []
          },
          "execution_count": 14
        }
      ]
    },
    {
      "cell_type": "code",
      "metadata": {
        "colab": {
          "base_uri": "https://localhost:8080/"
        },
        "id": "Mq-cu-hVKkPf",
        "outputId": "f75b99d4-24c6-45e6-a308-6464b50c220a"
      },
      "source": [
        "for i, batch in enumerate(train_loader):\r\n",
        "  if i == 0:\r\n",
        "    x, y = batch[0], batch[1]\r\n",
        "    print(x)\r\n",
        "    print(x.size())\r\n",
        "    print(x[0])"
      ],
      "execution_count": null,
      "outputs": [
        {
          "output_type": "stream",
          "text": [
            "tensor([[ 3553,  6041,  9994, 10015],\n",
            "        [ 5394,  6041,  9994, 10015],\n",
            "        [ 1733,  6041,  9994, 10015],\n",
            "        ...,\n",
            "        [ 3724,  6041,  9994, 10015],\n",
            "        [ 6016,  6041,  9994, 10015],\n",
            "        [  319,  6041,  9994, 10015]])\n",
            "torch.Size([1024, 4])\n",
            "tensor([ 3553,  6041,  9994, 10015])\n"
          ],
          "name": "stdout"
        }
      ]
    },
    {
      "cell_type": "code",
      "metadata": {
        "colab": {
          "base_uri": "https://localhost:8080/"
        },
        "id": "sCdLjCqMtm0A",
        "outputId": "aba561c8-6f08-4409-f2df-d6bd687a529f"
      },
      "source": [
        "# get vector features using the index from 2-dimensonal (number of features, k-factor) feature weights matrix\r\n",
        "vector_features = index_into(feat_weight, train_X)\r\n",
        "print(len(vector_features))\r\n",
        "print(vector_features[0])\r\n",
        "print(vector_features.size())"
      ],
      "execution_count": null,
      "outputs": [
        {
          "output_type": "stream",
          "text": [
            "900188\n",
            "tensor([[-0.0216, -0.1484, -0.0029,  0.0098, -0.0145,  0.0557, -0.0784, -0.0334,\n",
            "         -0.0185,  0.0893],\n",
            "        [-0.3381,  0.2245,  0.0861, -0.0604,  0.1734, -0.0088,  0.0145,  0.0521,\n",
            "          0.1075,  0.0337],\n",
            "        [ 0.2059,  0.4398,  0.0466, -0.1078,  0.1676, -0.0954,  0.0074,  0.1455,\n",
            "          0.1521, -0.0092],\n",
            "        [ 0.2095, -0.4076,  0.0744,  0.0286, -0.0101,  0.1766,  0.0030,  0.1543,\n",
            "         -0.0262,  0.0357]], grad_fn=<SelectBackward>)\n",
            "torch.Size([900188, 4, 10])\n"
          ],
          "name": "stdout"
        }
      ]
    },
    {
      "cell_type": "code",
      "metadata": {
        "colab": {
          "base_uri": "https://localhost:8080/"
        },
        "id": "BREv15DUvhkv",
        "outputId": "c1e2489d-bbcd-420b-9093-57f1b7bd13d1"
      },
      "source": [
        "# compute interactions using usign Rendle's trick \r\n",
        "interactions = factorization_machine(vector_features).squeeze().sum(dim=1)\r\n",
        "print(len(interactions))\r\n",
        "print(interactions)"
      ],
      "execution_count": null,
      "outputs": [
        {
          "output_type": "stream",
          "text": [
            "900188\n",
            "tensor([-0.2525, -0.7502, -0.1460,  ..., -0.4911,  0.3138,  0.1202],\n",
            "       grad_fn=<SumBackward1>)\n"
          ],
          "name": "stdout"
        }
      ]
    },
    {
      "cell_type": "code",
      "metadata": {
        "colab": {
          "base_uri": "https://localhost:8080/"
        },
        "id": "P9vL-kcSvmLk",
        "outputId": "5ce795a5-5ab2-4eb1-ef64-88369e5679c9"
      },
      "source": [
        "# get baiases from bias weights matrix\r\n",
        "biases = index_into(bias_weight, train_X).squeeze().sum(dim=1)\r\n",
        "print(len(biases))\r\n",
        "print(biases)"
      ],
      "execution_count": null,
      "outputs": [
        {
          "output_type": "stream",
          "text": [
            "900188\n",
            "tensor([4.3203, 4.2266, 3.8609,  ..., 3.4280, 3.9510, 4.0620],\n",
            "       grad_fn=<SumBackward1>)\n"
          ],
          "name": "stdout"
        }
      ]
    },
    {
      "cell_type": "code",
      "metadata": {
        "colab": {
          "base_uri": "https://localhost:8080/"
        },
        "id": "whdHQ6B_v3oq",
        "outputId": "4d47aade-b1d1-484d-ce88-eef670e30910"
      },
      "source": [
        "# compute final predictions by summing bias and interaction\r\n",
        "prediction = biases + interactions\r\n",
        "print(prediction)\r\n",
        "print(train_y)"
      ],
      "execution_count": null,
      "outputs": [
        {
          "output_type": "stream",
          "text": [
            "tensor([4.0678, 3.4764, 3.7149,  ..., 2.9370, 4.2648, 4.1822],\n",
            "       grad_fn=<AddBackward0>)\n",
            "tensor([5., 3., 4.,  ..., 4., 5., 5.])\n"
          ],
          "name": "stdout"
        }
      ]
    },
    {
      "cell_type": "code",
      "metadata": {
        "colab": {
          "base_uri": "https://localhost:8080/"
        },
        "id": "Y-vrHXCDzOe5",
        "outputId": "b7672ab1-84e1-4aa8-bdee-0a14e7d97dd2"
      },
      "source": [
        "print(len(prediction))\r\n",
        "print(len(train_y))"
      ],
      "execution_count": null,
      "outputs": [
        {
          "output_type": "stream",
          "text": [
            "900188\n",
            "900188\n"
          ],
          "name": "stdout"
        }
      ]
    },
    {
      "cell_type": "markdown",
      "metadata": {
        "id": "VEBmxUDklVh9"
      },
      "source": [
        "We can see that the model reconstructs original ratings nor that well. Things we can try to improve that:\r\n",
        "\r\n",
        "* Get more data\r\n",
        "* Tune hyper-patameters (especially k-factor)\r\n",
        "* Train the model for more epochs"
      ]
    },
    {
      "cell_type": "markdown",
      "metadata": {
        "id": "pd_SyyDpdxCk"
      },
      "source": [
        "# Make predictions"
      ]
    },
    {
      "cell_type": "code",
      "metadata": {
        "colab": {
          "base_uri": "https://localhost:8080/",
          "height": 639
        },
        "id": "yNhMQzkK58yj",
        "outputId": "b75202a0-c48c-4197-9300-b0015b37c5af"
      },
      "source": [
        "dataset[dataset.userId == 5533]"
      ],
      "execution_count": null,
      "outputs": [
        {
          "output_type": "execute_result",
          "data": {
            "text/html": [
              "<div>\n",
              "<style scoped>\n",
              "    .dataframe tbody tr th:only-of-type {\n",
              "        vertical-align: middle;\n",
              "    }\n",
              "\n",
              "    .dataframe tbody tr th {\n",
              "        vertical-align: top;\n",
              "    }\n",
              "\n",
              "    .dataframe thead th {\n",
              "        text-align: right;\n",
              "    }\n",
              "</style>\n",
              "<table border=\"1\" class=\"dataframe\">\n",
              "  <thead>\n",
              "    <tr style=\"text-align: right;\">\n",
              "      <th></th>\n",
              "      <th>userId</th>\n",
              "      <th>movieId</th>\n",
              "      <th>ratings</th>\n",
              "      <th>rank</th>\n",
              "      <th>gender</th>\n",
              "      <th>age</th>\n",
              "      <th>occupation</th>\n",
              "    </tr>\n",
              "  </thead>\n",
              "  <tbody>\n",
              "    <tr>\n",
              "      <th>340043</th>\n",
              "      <td>5533</td>\n",
              "      <td>266</td>\n",
              "      <td>4</td>\n",
              "      <td>5</td>\n",
              "      <td>1</td>\n",
              "      <td>50</td>\n",
              "      <td>2</td>\n",
              "    </tr>\n",
              "    <tr>\n",
              "      <th>516854</th>\n",
              "      <td>5533</td>\n",
              "      <td>969</td>\n",
              "      <td>5</td>\n",
              "      <td>18</td>\n",
              "      <td>1</td>\n",
              "      <td>50</td>\n",
              "      <td>2</td>\n",
              "    </tr>\n",
              "    <tr>\n",
              "      <th>633356</th>\n",
              "      <td>5533</td>\n",
              "      <td>2173</td>\n",
              "      <td>4</td>\n",
              "      <td>12</td>\n",
              "      <td>1</td>\n",
              "      <td>50</td>\n",
              "      <td>2</td>\n",
              "    </tr>\n",
              "    <tr>\n",
              "      <th>894409</th>\n",
              "      <td>5533</td>\n",
              "      <td>1913</td>\n",
              "      <td>5</td>\n",
              "      <td>2</td>\n",
              "      <td>1</td>\n",
              "      <td>50</td>\n",
              "      <td>2</td>\n",
              "    </tr>\n",
              "    <tr>\n",
              "      <th>679053</th>\n",
              "      <td>5533</td>\n",
              "      <td>2019</td>\n",
              "      <td>5</td>\n",
              "      <td>18</td>\n",
              "      <td>1</td>\n",
              "      <td>50</td>\n",
              "      <td>2</td>\n",
              "    </tr>\n",
              "    <tr>\n",
              "      <th>628529</th>\n",
              "      <td>5533</td>\n",
              "      <td>1185</td>\n",
              "      <td>5</td>\n",
              "      <td>5</td>\n",
              "      <td>1</td>\n",
              "      <td>50</td>\n",
              "      <td>2</td>\n",
              "    </tr>\n",
              "    <tr>\n",
              "      <th>30936</th>\n",
              "      <td>5533</td>\n",
              "      <td>1097</td>\n",
              "      <td>4</td>\n",
              "      <td>12</td>\n",
              "      <td>1</td>\n",
              "      <td>50</td>\n",
              "      <td>2</td>\n",
              "    </tr>\n",
              "    <tr>\n",
              "      <th>21527</th>\n",
              "      <td>5533</td>\n",
              "      <td>2797</td>\n",
              "      <td>4</td>\n",
              "      <td>12</td>\n",
              "      <td>1</td>\n",
              "      <td>50</td>\n",
              "      <td>2</td>\n",
              "    </tr>\n",
              "    <tr>\n",
              "      <th>79302</th>\n",
              "      <td>5533</td>\n",
              "      <td>1217</td>\n",
              "      <td>5</td>\n",
              "      <td>8</td>\n",
              "      <td>1</td>\n",
              "      <td>50</td>\n",
              "      <td>2</td>\n",
              "    </tr>\n",
              "    <tr>\n",
              "      <th>564107</th>\n",
              "      <td>5533</td>\n",
              "      <td>3101</td>\n",
              "      <td>2</td>\n",
              "      <td>1</td>\n",
              "      <td>1</td>\n",
              "      <td>50</td>\n",
              "      <td>2</td>\n",
              "    </tr>\n",
              "    <tr>\n",
              "      <th>86814</th>\n",
              "      <td>5533</td>\n",
              "      <td>902</td>\n",
              "      <td>3</td>\n",
              "      <td>5</td>\n",
              "      <td>1</td>\n",
              "      <td>50</td>\n",
              "      <td>2</td>\n",
              "    </tr>\n",
              "    <tr>\n",
              "      <th>205117</th>\n",
              "      <td>5533</td>\n",
              "      <td>1304</td>\n",
              "      <td>4</td>\n",
              "      <td>18</td>\n",
              "      <td>1</td>\n",
              "      <td>50</td>\n",
              "      <td>2</td>\n",
              "    </tr>\n",
              "    <tr>\n",
              "      <th>630697</th>\n",
              "      <td>5533</td>\n",
              "      <td>247</td>\n",
              "      <td>4</td>\n",
              "      <td>12</td>\n",
              "      <td>1</td>\n",
              "      <td>50</td>\n",
              "      <td>2</td>\n",
              "    </tr>\n",
              "    <tr>\n",
              "      <th>491029</th>\n",
              "      <td>5533</td>\n",
              "      <td>858</td>\n",
              "      <td>4</td>\n",
              "      <td>8</td>\n",
              "      <td>1</td>\n",
              "      <td>50</td>\n",
              "      <td>2</td>\n",
              "    </tr>\n",
              "    <tr>\n",
              "      <th>353658</th>\n",
              "      <td>5533</td>\n",
              "      <td>1221</td>\n",
              "      <td>4</td>\n",
              "      <td>8</td>\n",
              "      <td>1</td>\n",
              "      <td>50</td>\n",
              "      <td>2</td>\n",
              "    </tr>\n",
              "    <tr>\n",
              "      <th>135678</th>\n",
              "      <td>5533</td>\n",
              "      <td>1198</td>\n",
              "      <td>4</td>\n",
              "      <td>18</td>\n",
              "      <td>1</td>\n",
              "      <td>50</td>\n",
              "      <td>2</td>\n",
              "    </tr>\n",
              "    <tr>\n",
              "      <th>49466</th>\n",
              "      <td>5533</td>\n",
              "      <td>260</td>\n",
              "      <td>5</td>\n",
              "      <td>12</td>\n",
              "      <td>1</td>\n",
              "      <td>50</td>\n",
              "      <td>2</td>\n",
              "    </tr>\n",
              "    <tr>\n",
              "      <th>372121</th>\n",
              "      <td>5533</td>\n",
              "      <td>2442</td>\n",
              "      <td>4</td>\n",
              "      <td>2</td>\n",
              "      <td>1</td>\n",
              "      <td>50</td>\n",
              "      <td>2</td>\n",
              "    </tr>\n",
              "    <tr>\n",
              "      <th>54682</th>\n",
              "      <td>5533</td>\n",
              "      <td>2028</td>\n",
              "      <td>3</td>\n",
              "      <td>18</td>\n",
              "      <td>1</td>\n",
              "      <td>50</td>\n",
              "      <td>2</td>\n",
              "    </tr>\n",
              "    <tr>\n",
              "      <th>535785</th>\n",
              "      <td>5533</td>\n",
              "      <td>2453</td>\n",
              "      <td>2</td>\n",
              "      <td>12</td>\n",
              "      <td>1</td>\n",
              "      <td>50</td>\n",
              "      <td>2</td>\n",
              "    </tr>\n",
              "  </tbody>\n",
              "</table>\n",
              "</div>"
            ],
            "text/plain": [
              "        userId  movieId  ratings  rank  gender  age  occupation\n",
              "340043    5533      266        4     5       1   50           2\n",
              "516854    5533      969        5    18       1   50           2\n",
              "633356    5533     2173        4    12       1   50           2\n",
              "894409    5533     1913        5     2       1   50           2\n",
              "679053    5533     2019        5    18       1   50           2\n",
              "628529    5533     1185        5     5       1   50           2\n",
              "30936     5533     1097        4    12       1   50           2\n",
              "21527     5533     2797        4    12       1   50           2\n",
              "79302     5533     1217        5     8       1   50           2\n",
              "564107    5533     3101        2     1       1   50           2\n",
              "86814     5533      902        3     5       1   50           2\n",
              "205117    5533     1304        4    18       1   50           2\n",
              "630697    5533      247        4    12       1   50           2\n",
              "491029    5533      858        4     8       1   50           2\n",
              "353658    5533     1221        4     8       1   50           2\n",
              "135678    5533     1198        4    18       1   50           2\n",
              "49466     5533      260        5    12       1   50           2\n",
              "372121    5533     2442        4     2       1   50           2\n",
              "54682     5533     2028        3    18       1   50           2\n",
              "535785    5533     2453        2    12       1   50           2"
            ]
          },
          "metadata": {
            "tags": []
          },
          "execution_count": 21
        }
      ]
    },
    {
      "cell_type": "code",
      "metadata": {
        "colab": {
          "base_uri": "https://localhost:8080/"
        },
        "id": "-bpmsG-WmPwU",
        "outputId": "9d4f59bf-0941-4de6-d290-e6e77141ac2b"
      },
      "source": [
        "import numpy as np\r\n",
        "\r\n",
        "def make_predictions(user, n=10):\r\n",
        "  \"\"\"\r\n",
        "  Funtion to make top N recommendations to a given user\r\n",
        "  \"\"\"\r\n",
        "  # users's watched movies\r\n",
        "  watched_movies = dataset[dataset.userId == user]['movieId'].values\r\n",
        "\r\n",
        "  # construct samples matrix\r\n",
        "  samples = []\r\n",
        "  for movie in movie_ids:\r\n",
        "    sample = [user, movie, rank, occupation]\r\n",
        "    samples.append(sample)\r\n",
        "  samples = torch.tensor(samples)\r\n",
        "\r\n",
        "  # run the model for our samples\r\n",
        "  predictions = model(samples).detach().numpy()\r\n",
        "\r\n",
        "  normalized_predictions = [i/max(predictions)*5 for i in predictions]\r\n",
        "  normalized_predictions = {key:value for (key,value) in enumerate(normalized_predictions)}\r\n",
        "\r\n",
        "  # filter out movies the user haven't watched\r\n",
        "  unwatched_movies = {}\r\n",
        "  for i, movie in enumerate(movie_ids):\r\n",
        "    if movie not in watched_movies:\r\n",
        "      unwatched_movies[i] = movie\r\n",
        " \r\n",
        "  # get the indexes of top n ratings from sorted predictions\r\n",
        "  indexes = [idx for idx in sorted(normalized_predictions, key=normalized_predictions.get, reverse=True)][:n]\r\n",
        "  \r\n",
        "  # get the original movie indexes\r\n",
        "  recommendations = []\r\n",
        "  for idx in indexes:\r\n",
        "    recommendations.append(unwatched_movies.get(idx))\r\n",
        "\r\n",
        "  return recommendations\r\n",
        "\r\n",
        "user = 5533 # take userId == 5533 as an example\r\n",
        "rank = 1 + n_user + n_item\r\n",
        "occupation = dataset[dataset.userId == user]['occupation'].unique().item() + n_user + n_item + n_rank\r\n",
        "\r\n",
        "n = 10 # make 10 recommendations\r\n",
        "movie_ids = dataset['movieId'].unique()\r\n",
        "# run the function\r\n",
        "movies = make_predictions(user, n=10)\r\n",
        "\r\n",
        "# print out the recommended movies\r\n",
        "print(f'Top {n} recommended movie ids:')\r\n",
        "for idx in movies:\r\n",
        "  print(idx)"
      ],
      "execution_count": null,
      "outputs": [
        {
          "output_type": "stream",
          "text": [
            "Top 10 recommended movie ids:\n",
            "2339\n",
            "283\n",
            "3324\n",
            "1021\n",
            "3902\n",
            "1349\n",
            "682\n",
            "953\n",
            "640\n",
            "1940\n"
          ],
          "name": "stdout"
        }
      ]
    }
  ]
}