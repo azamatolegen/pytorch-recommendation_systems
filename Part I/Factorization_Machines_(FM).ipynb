{
  "nbformat": 4,
  "nbformat_minor": 0,
  "metadata": {
    "colab": {
      "name": "[GitHub] Factorization Machines (FM).ipynb",
      "provenance": [],
      "collapsed_sections": []
    },
    "kernelspec": {
      "name": "python3",
      "display_name": "Python 3"
    }
  },
  "cells": [
    {
      "cell_type": "markdown",
      "metadata": {
        "id": "M8IxcFFpGx1L"
      },
      "source": [
        "# Factorization Machines \n",
        "\n",
        "Factorization machines (FM) is a supervised algorithm that can be used for classification, regression, and ranking tasks. Particularly, it is a generalization of the linear regression model and the matrix factorization model. \n",
        "\n",
        "FM is formulated as a linear model, with interactions between features as additional parameters (features). However, these user/item indicators can be augmented with arbitrary auxiliary features, for example, user or item attributes and/or contextual features relevant to the interaction itself. These feature interactions are done in their latent space representation instead of their plain format.\n",
        "\n",
        "![](https://drive.google.com/uc?id=1-1ywT0sOGrYs8lXJ-zljSrF2mF6gQxvS)\n",
        "\n",
        "* A linear model, given a vector *x* models its output *y* as: \n",
        "\n",
        "  ![](https://drive.google.com/uc?id=1U1HUGuROvvxHQ-abyJHx5HgoQvd7ExDD)\n",
        "  \n",
        "  where *w* are the learnable weights of the model.\n",
        "\n",
        "  The drawback of this model is that it does not handle feature interactions. To capture interactions, we could introduce a weight *Wui* for each feature combination (that combines both user *u* and movie (item) *i* interaction).\n",
        "\n",
        "*  The resulting model for a factorization machine of degree two is defined as:\n",
        "![](https://drive.google.com/uc?id=1W_ndd8TORVF_3zFk40wNifBPZYtPP0jo)\n",
        "\n",
        "   Compared to our previous model, this formulation has the advantages that it can capture feature interactions at least for two features at a time. However, this introduces a large number of *w2* variables.\n",
        "\n",
        "* To solve this complexity issue, Factorization Machines takes inspiration from matrix factorization, and models the feature interaction using latent factors.Therefore previous equiation can be  re-formulation as low-rank re-formulation to reduce the number of additional parameters for the factorization machine.\n",
        "\n",
        "  ![](https://drive.google.com/uc?id=1L9cx5gghNPaf_FpTCWj6EwhS6--FhAMg)\n",
        "\n",
        "  The first two terms correspond to the linear regression model and the last term is an extension of the matrix factorization model. If the feature *i*  represents an item and the feature *j*  represents a user, the third term is exactly the dot product between user and item embeddings. \n",
        "\n",
        "-------------------------------\n",
        "**Advantages:** We'll now wrap up the theoretical section of factorization machine, with some of its advantages:\n",
        "\n",
        "* We can observe from the model equation that it can be computed in linear time.\n",
        "* By leveraging ideas from matrix factorization, we can estimate higher order interaction effects even under very sparse data.\n",
        "* Compared to traditional matrix factorization methods, which is restricted to modeling a user-item matrix, we can leverage other user or item specific features making factorization machine more flexible."
      ]
    },
    {
      "cell_type": "markdown",
      "metadata": {
        "id": "7palkAIRf4L9"
      },
      "source": [
        "# Model implementation in PyTorch"
      ]
    },
    {
      "cell_type": "code",
      "metadata": {
        "id": "3wjfQ9PYy0E5"
      },
      "source": [
        "# import libraries\n",
        "import pandas as pd\n",
        "\n",
        "from sklearn.model_selection import train_test_split\n",
        "from sklearn.preprocessing import LabelEncoder\n",
        "from sklearn.utils import shuffle\n",
        "\n",
        "import torch\n",
        "import torch.nn as nn\n",
        "from torch.utils.data import TensorDataset, DataLoader\n",
        "import torch.nn.functional as F\n",
        "from torch.autograd import Variable\n",
        "torch.manual_seed(2020)\n",
        "\n",
        "import warnings\n",
        "warnings.filterwarnings('ignore')"
      ],
      "execution_count": 1,
      "outputs": []
    },
    {
      "cell_type": "code",
      "metadata": {
        "id": "mX7GzwMFOZC8"
      },
      "source": [
        "# Initialize a Loader class\n",
        "class Loader():\n",
        "    # Set the iterator\n",
        "    current = 0\n",
        "\n",
        "    def __init__(self, x, y, batchsize=1024, do_shuffle=True):\n",
        "        \"\"\"\n",
        "        :param x: features\n",
        "        :param y: target\n",
        "        :param batchsize: batch size = 1024\n",
        "        :param do_shuffle: shuffle mode turned on\n",
        "        \"\"\"\n",
        "        self.shuffle = shuffle\n",
        "        self.x = x\n",
        "        self.y = y\n",
        "        self.batchsize = batchsize\n",
        "        self.batches = range(0, len(self.y), batchsize)\n",
        "        if do_shuffle:\n",
        "            # Every epoch re-shuffle the dataset\n",
        "            self.x, self.y = shuffle(self.x, self.y)\n",
        "\n",
        "    def __iter__(self):\n",
        "        # Reset & return a new iterator\n",
        "        self.x, self.y = shuffle(self.x, self.y, random_state=0)\n",
        "        self.current = 0\n",
        "        return self\n",
        "\n",
        "    def __len__(self):\n",
        "        # Return the number of batches\n",
        "        return int(len(self.x) / self.batchsize)\n",
        "\n",
        "    def __next__(self):\n",
        "        # Update iterator and stop iteration until the batch size is out of range\n",
        "        n = self.batchsize\n",
        "        if self.current + n >= len(self.y):\n",
        "            raise StopIteration\n",
        "        i = self.current\n",
        "\n",
        "        # Transform NumPy arrays to PyTorch tensors\n",
        "        xs = torch.from_numpy(self.x[i:i + n])\n",
        "        ys = torch.from_numpy(self.y[i:i + n])\n",
        "        self.current += n\n",
        "        return xs, ys\n",
        "    \n",
        "def index_into(arr, idx):\n",
        "    # 2D array indexing\n",
        "    new_shape = (idx.size()[0], idx.size()[1], arr.size()[1])\n",
        "    return arr[idx.resize(torch.numel(idx.data))].view(new_shape)"
      ],
      "execution_count": 2,
      "outputs": []
    },
    {
      "cell_type": "markdown",
      "metadata": {
        "id": "MXU-FnjQgdoM"
      },
      "source": [
        "We can reorganize the third term of FM which could greatly reduce the computation cost, leading to a linear time complexity. The reformulation of the pairwise interaction term is as follows:\n",
        "\n",
        "  ![](https://drive.google.com/uc?id=1_MElToR5G_6bDhv4S3nrZKS8KmT9Zc1c)\n"
      ]
    },
    {
      "cell_type": "code",
      "metadata": {
        "id": "IZAlHOSWggb6"
      },
      "source": [
        "def factorization_machine(v, x=None):\n",
        "    \"\"\"\n",
        "    Takes an input 2D matrix v of n vectors, each d-dimensional\n",
        "    :param v: (batchsize, n_features, dim)\n",
        "    :param x: (batchsize, n_features) functions as a weight array, assumed to be 1 if missing\n",
        "    :return: output that is d-dimensional\n",
        "    \"\"\"\n",
        "    batchsize = v.size()[0]\n",
        "    n_features = v.size()[1]\n",
        "    n_dim = v.size()[2]\n",
        "\n",
        "    if x is None:\n",
        "        x = Variable(torch.ones(v.size()))\n",
        "    else:\n",
        "        x = x.expand(batchsize, n_features, n_dim)\n",
        "\n",
        "    # Uses Rendle's trick for computing pairs of features in linear time\n",
        "    square_of_sum  = (v * x).sum(dim=1) ** 2.0\n",
        "    sum_of_square  = (v ** 2.0 * x ** 2.0).sum(dim=1)\n",
        "    return 0.5 * (square_of_sum  - sum_of_square )"
      ],
      "execution_count": 3,
      "outputs": []
    },
    {
      "cell_type": "code",
      "metadata": {
        "id": "Z9pK5V9EOZO2"
      },
      "source": [
        "class FM(nn.Module):\n",
        "    \"\"\"\n",
        "    Factorization Machines model class\n",
        "    \"\"\"\n",
        "    # Iteration counter\n",
        "    itr = 0\n",
        "\n",
        "    def __init__(self, n_feat, k=10, c_feat=1.0, c_bias=1.0):\n",
        "        \"\"\"\n",
        "        :param n_feat: Feature column\n",
        "        :param k: Dimensions constant\n",
        "        :param c_feat: Regularization constant for the features\n",
        "        :param c_bias: Regularization constant for the biases\n",
        "        \"\"\"\n",
        "        super(FM, self).__init__()\n",
        "\n",
        "        # These are the hyper-parameters\n",
        "        self.k = k\n",
        "        self.n_feat = n_feat\n",
        "        self.c_feat = c_feat\n",
        "        self.c_bias = c_bias\n",
        "\n",
        "        # The embedding matrices for the features and the feature's biases\n",
        "        self.feat = nn.Embedding(n_feat, k)\n",
        "        self.bias_feat = nn.Embedding(n_feat, 1)\n",
        "\n",
        "    def __call__(self, train_x):\n",
        "        \"\"\"This is the most important function in this script\"\"\"\n",
        "        # Pull out biases\n",
        "        biases = index_into(self.bias_feat.weight, train_x).squeeze().sum(dim=1)\n",
        "\n",
        "        # Initialize vector features using the feature weights\n",
        "        vector_features = index_into(self.feat.weight, train_x)\n",
        "\n",
        "        # Use factorization machines to pull out the interactions\n",
        "        interactions = factorization_machine(vector_features).squeeze().sum(dim=1)\n",
        "\n",
        "        # Final prediction is the sum of biases and interactions\n",
        "        prediction = biases + interactions\n",
        "        return prediction\n",
        "\n",
        "    def loss(self, prediction, target):\n",
        "        \"\"\"\n",
        "        Function to calculate the loss metric\n",
        "        \"\"\"\n",
        "        # Calculate the Mean Squared Error between target and prediction\n",
        "        loss_mse = F.mse_loss(prediction.squeeze(), target.squeeze())\n",
        "\n",
        "        # Compute L2 regularization over feature matrices\n",
        "        prior_feat = l2_regularize(self.feat.weight) * self.c_feat\n",
        "\n",
        "        # Add the MSE loss and feature regularization to get total loss\n",
        "        total = (loss_mse + prior_feat)\n",
        "        \n",
        "        return total\n",
        "\n",
        "# FMs are prone to overfitting and for this reason L2 regularization is applied\n",
        "def l2_regularize(array):\n",
        "    \"\"\"\n",
        "    Function to do L2 regularization\n",
        "    \"\"\"\n",
        "    loss = torch.sum(array ** 2.0)\n",
        "    return loss"
      ],
      "execution_count": 4,
      "outputs": []
    },
    {
      "cell_type": "code",
      "metadata": {
        "colab": {
          "base_uri": "https://localhost:8080/"
        },
        "id": "Ycxyv0vxg-BS",
        "outputId": "5420afed-60e5-4148-8172-e178f98d8a9d"
      },
      "source": [
        "# get the data\n",
        "!wget http://files.grouplens.org/datasets/movielens/ml-1m.zip\n",
        "!unzip ml-1m.zip"
      ],
      "execution_count": 5,
      "outputs": [
        {
          "output_type": "stream",
          "name": "stdout",
          "text": [
            "--2021-08-31 09:26:13--  http://files.grouplens.org/datasets/movielens/ml-1m.zip\n",
            "Resolving files.grouplens.org (files.grouplens.org)... 128.101.65.152\n",
            "Connecting to files.grouplens.org (files.grouplens.org)|128.101.65.152|:80... connected.\n",
            "HTTP request sent, awaiting response... 200 OK\n",
            "Length: 5917549 (5.6M) [application/zip]\n",
            "Saving to: ‘ml-1m.zip’\n",
            "\n",
            "ml-1m.zip           100%[===================>]   5.64M  29.6MB/s    in 0.2s    \n",
            "\n",
            "2021-08-31 09:26:14 (29.6 MB/s) - ‘ml-1m.zip’ saved [5917549/5917549]\n",
            "\n",
            "Archive:  ml-1m.zip\n",
            "   creating: ml-1m/\n",
            "  inflating: ml-1m/movies.dat        \n",
            "  inflating: ml-1m/ratings.dat       \n",
            "  inflating: ml-1m/README            \n",
            "  inflating: ml-1m/users.dat         \n"
          ]
        }
      ]
    },
    {
      "cell_type": "code",
      "metadata": {
        "colab": {
          "base_uri": "https://localhost:8080/",
          "height": 340
        },
        "id": "uHMVxycaOZRA",
        "outputId": "df4afccc-b174-40f0-8c00-73e02bd29b05"
      },
      "source": [
        "# read the data\n",
        "ratings = pd.read_csv('./ml-1m/ratings.dat', sep='::', engine='python', names=('userId', 'movieId','ratings','timestamp'))\n",
        "\n",
        "# Create users dataframe\n",
        "users = pd.read_csv(\"./ml-1m/users.dat\", sep='::', engine='python', names=['userId', 'gender', 'age', 'occupation', 'zipcode'])\n",
        "\n",
        "# Create users dataframe\n",
        "movies = pd.read_csv(\"./ml-1m/movies.dat\", sep='::', engine='python', names=['movieId', 'title', 'genres_str'])\n",
        "\n",
        "# Is this rating the first rating ever for that user, or the nth?\n",
        "ratings['rank'] = ratings.groupby(\"userId\")[\"timestamp\"].rank(ascending=True).astype('int64')\n",
        "\n",
        "# Merge ratings & user features\n",
        "dataset = ratings.merge(users, on='userId')\n",
        "dataset = dataset.merge(movies, on='movieId')\n",
        "dataset = dataset.sample(frac=1)\n",
        "dataset.drop(columns=['timestamp', 'zipcode', 'title', 'genres_str'], inplace=True)\n",
        "dataset['gender'] = dataset['gender'].map({'M':0, 'F':1})\n",
        "assert len(ratings) == len(dataset)\n",
        "\n",
        "# Compute cardinalities\n",
        "n_user = dataset.userId.max() + 1\n",
        "n_item = dataset.movieId.max() + 1\n",
        "n_rank = dataset['rank'].max() + 1\n",
        "n_age = dataset['age'].max() + 1\n",
        "n_occu = dataset['occupation'].max() + 1\n",
        "n_gen = dataset['gender'].nunique()\n",
        "# n_feat = n_user + n_item + n_rank + n_age + n_occu + n_gen\n",
        "n_feat = n_user + n_item + n_occu + n_rank\n",
        "\n",
        "print('n_user', n_user)\n",
        "print('n_item', n_item)\n",
        "print('n_rank', n_rank)\n",
        "print('n_gen', n_gen)\n",
        "print('n_age', n_age)\n",
        "print('n_occu', n_occu)\n",
        "print('n_feat', n_feat)\n",
        "print('n_rows', len(dataset))\n",
        "\n",
        "display(dataset.head())"
      ],
      "execution_count": 6,
      "outputs": [
        {
          "output_type": "stream",
          "name": "stdout",
          "text": [
            "n_user 6041\n",
            "n_item 3953\n",
            "n_rank 2315\n",
            "n_gen 2\n",
            "n_age 57\n",
            "n_occu 21\n",
            "n_feat 12330\n",
            "n_rows 1000209\n"
          ]
        },
        {
          "output_type": "display_data",
          "data": {
            "text/html": [
              "<div>\n",
              "<style scoped>\n",
              "    .dataframe tbody tr th:only-of-type {\n",
              "        vertical-align: middle;\n",
              "    }\n",
              "\n",
              "    .dataframe tbody tr th {\n",
              "        vertical-align: top;\n",
              "    }\n",
              "\n",
              "    .dataframe thead th {\n",
              "        text-align: right;\n",
              "    }\n",
              "</style>\n",
              "<table border=\"1\" class=\"dataframe\">\n",
              "  <thead>\n",
              "    <tr style=\"text-align: right;\">\n",
              "      <th></th>\n",
              "      <th>userId</th>\n",
              "      <th>movieId</th>\n",
              "      <th>ratings</th>\n",
              "      <th>rank</th>\n",
              "      <th>gender</th>\n",
              "      <th>age</th>\n",
              "      <th>occupation</th>\n",
              "    </tr>\n",
              "  </thead>\n",
              "  <tbody>\n",
              "    <tr>\n",
              "      <th>51418</th>\n",
              "      <td>564</td>\n",
              "      <td>1207</td>\n",
              "      <td>5</td>\n",
              "      <td>15</td>\n",
              "      <td>0</td>\n",
              "      <td>45</td>\n",
              "      <td>1</td>\n",
              "    </tr>\n",
              "    <tr>\n",
              "      <th>252092</th>\n",
              "      <td>5848</td>\n",
              "      <td>50</td>\n",
              "      <td>3</td>\n",
              "      <td>324</td>\n",
              "      <td>0</td>\n",
              "      <td>50</td>\n",
              "      <td>20</td>\n",
              "    </tr>\n",
              "    <tr>\n",
              "      <th>786551</th>\n",
              "      <td>1978</td>\n",
              "      <td>609</td>\n",
              "      <td>3</td>\n",
              "      <td>3</td>\n",
              "      <td>0</td>\n",
              "      <td>1</td>\n",
              "      <td>10</td>\n",
              "    </tr>\n",
              "    <tr>\n",
              "      <th>487045</th>\n",
              "      <td>5287</td>\n",
              "      <td>3703</td>\n",
              "      <td>4</td>\n",
              "      <td>36</td>\n",
              "      <td>0</td>\n",
              "      <td>25</td>\n",
              "      <td>8</td>\n",
              "    </tr>\n",
              "    <tr>\n",
              "      <th>670138</th>\n",
              "      <td>5048</td>\n",
              "      <td>3635</td>\n",
              "      <td>3</td>\n",
              "      <td>10</td>\n",
              "      <td>1</td>\n",
              "      <td>35</td>\n",
              "      <td>7</td>\n",
              "    </tr>\n",
              "  </tbody>\n",
              "</table>\n",
              "</div>"
            ],
            "text/plain": [
              "        userId  movieId  ratings  rank  gender  age  occupation\n",
              "51418      564     1207        5    15       0   45           1\n",
              "252092    5848       50        3   324       0   50          20\n",
              "786551    1978      609        3     3       0    1          10\n",
              "487045    5287     3703        4    36       0   25           8\n",
              "670138    5048     3635        3    10       1   35           7"
            ]
          },
          "metadata": {}
        }
      ]
    },
    {
      "cell_type": "code",
      "metadata": {
        "id": "-vPCF1YwOZT7"
      },
      "source": [
        "from sklearn.model_selection import train_test_split\n",
        "from torch.utils.data import TensorDataset, DataLoader\n",
        "\n",
        "# split the dataset into training and testing datasets\n",
        "train_df, test_df = train_test_split(dataset, test_size=0.1, random_state=42, stratify=dataset.ratings)\n",
        "\n",
        "train_df.loc[:, 'movieId'] = train_df.loc[:, 'movieId'] + n_user - 1\n",
        "train_df.loc[:, 'rank'] = train_df.loc[:, 'rank'] + n_user + n_item - 2\n",
        "train_df.loc[:, 'occupation'] = train_df.loc[:, 'occupation'] + n_user + n_item + n_rank - 3\n",
        "\n",
        "test_df.loc[:, 'movieId'] = test_df.loc[:, 'movieId'] + n_user - 1\n",
        "test_df.loc[:, 'rank'] = test_df.loc[:, 'rank'] + n_user + n_item - 2\n",
        "test_df.loc[:, 'occupation'] = test_df.loc[:, 'occupation'] + n_user + n_item + n_rank - 3\n",
        "\n",
        "train_X = torch.tensor(train_df[['userId', 'movieId', 'rank', 'occupation']].values)\n",
        "train_y = torch.FloatTensor(train_df['ratings'].values)\n",
        "test_x = torch.tensor(test_df[['userId', 'movieId', 'rank', 'occupation']].values)\n",
        "test_y = torch.FloatTensor(test_df['ratings'].values)\n",
        "\n",
        "train_loader = DataLoader(TensorDataset(train_X, train_y), batch_size=1024)\n",
        "test_loader = DataLoader(TensorDataset(test_x, test_y), batch_size=1024)"
      ],
      "execution_count": 7,
      "outputs": []
    },
    {
      "cell_type": "code",
      "metadata": {
        "id": "RZsfaz-thnO_"
      },
      "source": [
        "# fit the model to the input data and label.\n",
        "def fit(model, dataloader, optimizer):\n",
        "    model.train()\n",
        "    # for epoch in range(epochs):\n",
        "    for batch in dataloader:\n",
        "        optimizer.zero_grad()\n",
        "        x, y = batch[0], batch[1]\n",
        "        y_pred = model(x)\n",
        "        loss = model.loss(y_pred, y)\n",
        "        loss.backward()\n",
        "        optimizer.step()\n",
        "    return loss.item()\n",
        "\n",
        "# evaluate the model on unseen data\n",
        "def evaluate(model, dataloader):\n",
        "    model.eval()\n",
        "    for batch in dataloader:\n",
        "        with torch.no_grad():\n",
        "            x, y = batch[0], batch[1]\n",
        "            y_pred = model(x)\n",
        "            loss = model.loss(y_pred, y)\n",
        "    return loss.item()"
      ],
      "execution_count": 8,
      "outputs": []
    },
    {
      "cell_type": "code",
      "metadata": {
        "colab": {
          "base_uri": "https://localhost:8080/"
        },
        "id": "FeHaZCAwWyfd",
        "outputId": "5e1db876-f805-4e1c-d90c-293c003d4a4b"
      },
      "source": [
        "# Define the Hyper-parameters\n",
        "lr = 1e-2  # Learning rate\n",
        "k = 10  # Number of dimensions per user and item\n",
        "c_bias = 1e-5  # Bias constant\n",
        "c_feat = 1e-5  # Regularization constant\n",
        "epochs = 10\n",
        "\n",
        "# Instantiate the model class object\n",
        "model = FM(n_feat, k=k, c_bias=c_bias, c_feat=c_feat)\n",
        "\n",
        "# Use Adam optimizer\n",
        "optimizer = torch.optim.Adam(model.parameters(), lr=lr)\n",
        "\n",
        "# Loop through pre-defined number of epochs\n",
        "train_losses = []\n",
        "test_losses = []\n",
        "\n",
        "for epoch in range(epochs):\n",
        "    # Perform training on the train set\n",
        "    train_loss = fit(model, dataloader=train_loader, optimizer=optimizer)\n",
        "    print('epoch:', epoch, 'training loss:', train_loss)\n",
        "    train_losses.append(train_loss)\n",
        "\n",
        "    # Perform evaluation on the test set\n",
        "    test_loss = evaluate(model, test_loader)\n",
        "    print('epoch:', epoch, 'testing  loss:', test_loss)\n",
        "    test_losses.append(test_loss)\n",
        "\n",
        "# Save the model checkpoint\n",
        "torch.save(model.state_dict(), 'mf.pt')"
      ],
      "execution_count": 9,
      "outputs": [
        {
          "output_type": "stream",
          "name": "stdout",
          "text": [
            "epoch: 0 training loss: 2.4446353912353516\n",
            "epoch: 0 testing  loss: 2.3055500984191895\n",
            "epoch: 1 training loss: 0.9909727573394775\n",
            "epoch: 1 testing  loss: 1.2814478874206543\n",
            "epoch: 2 training loss: 0.8524733781814575\n",
            "epoch: 2 testing  loss: 1.0710121393203735\n",
            "epoch: 3 training loss: 0.7751405239105225\n",
            "epoch: 3 testing  loss: 0.9822860360145569\n",
            "epoch: 4 training loss: 0.7207872867584229\n",
            "epoch: 4 testing  loss: 0.9182935357093811\n",
            "epoch: 5 training loss: 0.7187595963478088\n",
            "epoch: 5 testing  loss: 0.8716986179351807\n",
            "epoch: 6 training loss: 0.6828450560569763\n",
            "epoch: 6 testing  loss: 0.8555312752723694\n",
            "epoch: 7 training loss: 0.6469877362251282\n",
            "epoch: 7 testing  loss: 0.8636407256126404\n",
            "epoch: 8 training loss: 0.6267709136009216\n",
            "epoch: 8 testing  loss: 0.8690025806427002\n",
            "epoch: 9 training loss: 0.6135601997375488\n",
            "epoch: 9 testing  loss: 0.8690454959869385\n"
          ]
        }
      ]
    },
    {
      "cell_type": "code",
      "metadata": {
        "colab": {
          "base_uri": "https://localhost:8080/",
          "height": 621
        },
        "id": "WHirNA8QhnVU",
        "outputId": "c3ad8220-c3e5-4c93-b28d-13cedf6182c1"
      },
      "source": [
        "import matplotlib.pyplot as plt\n",
        "plt.figure(figsize=(10, 10))\n",
        "plt.plot( train_losses, 'b', label='Training loss')\n",
        "plt.plot( test_losses, 'r', label='Testing loss')\n",
        "plt.title('Training and Test loss')\n",
        "plt.xlabel('Epochs')\n",
        "plt.ylabel('Loss')\n",
        "plt.legend()\n",
        "plt.show()"
      ],
      "execution_count": 10,
      "outputs": [
        {
          "output_type": "display_data",
          "data": {
            "image/png": "[encoded data removed]",
            "text/plain": [
              "<Figure size 720x720 with 1 Axes>"
            ]
          },
          "metadata": {
            "needs_background": "light"
          }
        }
      ]
    },
    {
      "cell_type": "markdown",
      "metadata": {
        "id": "HAsQaITYdwA1"
      },
      "source": [
        "# Undertanding Model Outputs"
      ]
    },
    {
      "cell_type": "code",
      "metadata": {
        "colab": {
          "base_uri": "https://localhost:8080/"
        },
        "id": "s1iTnjPqty3w",
        "outputId": "52c62c8f-b650-4f2f-819d-4844720d4f2e"
      },
      "source": [
        "# explore the features embedding matrix weights\n",
        "feat_weight = model.feat.weight\n",
        "print(feat_weight.size())\n",
        "print(feat_weight[0])"
      ],
      "execution_count": 11,
      "outputs": [
        {
          "output_type": "stream",
          "name": "stdout",
          "text": [
            "torch.Size([12330, 10])\n",
            "tensor([ 1.2774e-38, -4.4778e-40, -2.0292e-40, -6.5776e-38, -3.6661e-39,\n",
            "         3.7298e-39, -1.6310e-39,  8.6407e-40, -1.5546e-39,  1.6225e-39],\n",
            "       grad_fn=<SelectBackward>)\n"
          ]
        }
      ]
    },
    {
      "cell_type": "code",
      "metadata": {
        "colab": {
          "base_uri": "https://localhost:8080/"
        },
        "id": "xP_i-Kf8uWpH",
        "outputId": "95909385-135c-434f-f0ec-7af28521b105"
      },
      "source": [
        "# explore the biases embedding matrix weights\n",
        "bias_weight = model.bias_feat.weight\n",
        "print(bias_weight.size())\n",
        "print(bias_weight[0])"
      ],
      "execution_count": 12,
      "outputs": [
        {
          "output_type": "stream",
          "name": "stdout",
          "text": [
            "torch.Size([12330, 1])\n",
            "tensor([-0.7479], grad_fn=<SelectBackward>)\n"
          ]
        }
      ]
    },
    {
      "cell_type": "code",
      "metadata": {
        "colab": {
          "base_uri": "https://localhost:8080/"
        },
        "id": "aKbGxysIngET",
        "outputId": "4ad456a2-864d-4015-e56a-acf6ad678f9b"
      },
      "source": [
        "# one batch of train loader looks like\n",
        "next(iter(train_loader))"
      ],
      "execution_count": 13,
      "outputs": [
        {
          "output_type": "execute_result",
          "data": {
            "text/plain": [
              "[tensor([[ 3191,  6627, 10244, 12318],\n",
              "         [ 4973,  9113, 10108, 12308],\n",
              "         [ 1950,  7431, 10030, 12318],\n",
              "         ...,\n",
              "         [ 3345,  9403, 10021, 12313],\n",
              "         [ 3526,  7993, 10588, 12308],\n",
              "         [ 5306,  8129, 10223, 12323]]),\n",
              " tensor([5., 3., 4.,  ..., 4., 4., 4.])]"
            ]
          },
          "metadata": {},
          "execution_count": 13
        }
      ]
    },
    {
      "cell_type": "code",
      "metadata": {
        "colab": {
          "base_uri": "https://localhost:8080/"
        },
        "id": "sCdLjCqMtm0A",
        "outputId": "c780a0b2-6e7a-4e10-c670-c1f9c200f3bf"
      },
      "source": [
        "# get vector features using the index from 2-dimensonal (number of features, k-factor) feature weights matrix\n",
        "vector_features = index_into(feat_weight, train_X)\n",
        "print(len(vector_features))\n",
        "print(vector_features[0])\n",
        "print(vector_features.size())"
      ],
      "execution_count": 14,
      "outputs": [
        {
          "output_type": "stream",
          "name": "stdout",
          "text": [
            "900188\n",
            "tensor([[-0.0388,  0.1005,  0.0890,  0.0713,  0.1999, -0.0274,  0.4738,  0.0937,\n",
            "          0.3804, -0.3489],\n",
            "        [ 0.3164,  0.9788,  0.1159, -0.1089, -0.1467,  0.1934, -0.1138,  0.3784,\n",
            "         -0.0131, -0.7459],\n",
            "        [ 0.1862,  0.0786,  0.1279, -0.0417,  0.2084, -0.0909,  0.0780, -0.0385,\n",
            "         -0.0795,  0.0134],\n",
            "        [-0.0483,  0.0544,  0.0186,  0.0017, -0.0850,  0.0189,  0.0341, -0.0486,\n",
            "         -0.0106,  0.0574]], grad_fn=<SelectBackward>)\n",
            "torch.Size([900188, 4, 10])\n"
          ]
        }
      ]
    },
    {
      "cell_type": "code",
      "metadata": {
        "colab": {
          "base_uri": "https://localhost:8080/"
        },
        "id": "BREv15DUvhkv",
        "outputId": "633c59b0-eb21-4df0-94d4-7bae02246648"
      },
      "source": [
        "# compute interactions using usign Rendle's trick \n",
        "interactions = factorization_machine(vector_features).squeeze().sum(dim=1)\n",
        "print(len(interactions))\n",
        "print(interactions)"
      ],
      "execution_count": 15,
      "outputs": [
        {
          "output_type": "stream",
          "name": "stdout",
          "text": [
            "900188\n",
            "tensor([ 0.3719,  0.0140, -0.1061,  ...,  0.1586,  0.5374,  0.8604],\n",
            "       grad_fn=<SumBackward1>)\n"
          ]
        }
      ]
    },
    {
      "cell_type": "code",
      "metadata": {
        "colab": {
          "base_uri": "https://localhost:8080/"
        },
        "id": "P9vL-kcSvmLk",
        "outputId": "64c83935-d3ab-4d4a-dbe3-e18179f1fad7"
      },
      "source": [
        "# get baiases from bias weights matrix\n",
        "biases = index_into(bias_weight, train_X).squeeze().sum(dim=1)\n",
        "print(len(biases))\n",
        "print(biases)"
      ],
      "execution_count": 16,
      "outputs": [
        {
          "output_type": "stream",
          "name": "stdout",
          "text": [
            "900188\n",
            "tensor([3.4634, 2.9233, 3.0283,  ..., 3.7219, 4.1200, 3.6828],\n",
            "       grad_fn=<SumBackward1>)\n"
          ]
        }
      ]
    },
    {
      "cell_type": "code",
      "metadata": {
        "colab": {
          "base_uri": "https://localhost:8080/"
        },
        "id": "whdHQ6B_v3oq",
        "outputId": "e47d7529-1261-41b4-b86f-4a6d6006d6f8"
      },
      "source": [
        "# compute final predictions by summing bias and interaction\n",
        "prediction = biases + interactions\n",
        "print(prediction.detach()[:10])\n",
        "print(train_y[:10])"
      ],
      "execution_count": 17,
      "outputs": [
        {
          "output_type": "stream",
          "name": "stdout",
          "text": [
            "tensor([3.8353, 2.9372, 2.9222, 3.6963, 3.6009, 3.6175, 2.9777, 2.6884, 4.2625,\n",
            "        3.1748])\n",
            "tensor([5., 3., 4., 4., 4., 4., 4., 3., 4., 3.])\n"
          ]
        }
      ]
    },
    {
      "cell_type": "markdown",
      "metadata": {
        "id": "VEBmxUDklVh9"
      },
      "source": [
        "We can see that the model reconstructs original ratings nor that well. Things we can try to improve that:\n",
        "\n",
        "* Get more data\n",
        "* Tune hyper-patameters (especially k-factor)\n",
        "* Train the model for more epochs"
      ]
    },
    {
      "cell_type": "markdown",
      "metadata": {
        "id": "pd_SyyDpdxCk"
      },
      "source": [
        "# Make predictions"
      ]
    },
    {
      "cell_type": "code",
      "metadata": {
        "colab": {
          "base_uri": "https://localhost:8080/",
          "height": 669
        },
        "id": "yNhMQzkK58yj",
        "outputId": "a274304f-f4fa-443c-be9c-36be9f5caaf5"
      },
      "source": [
        "dataset[dataset.userId == 5533]"
      ],
      "execution_count": 18,
      "outputs": [
        {
          "output_type": "execute_result",
          "data": {
            "text/html": [
              "<div>\n",
              "<style scoped>\n",
              "    .dataframe tbody tr th:only-of-type {\n",
              "        vertical-align: middle;\n",
              "    }\n",
              "\n",
              "    .dataframe tbody tr th {\n",
              "        vertical-align: top;\n",
              "    }\n",
              "\n",
              "    .dataframe thead th {\n",
              "        text-align: right;\n",
              "    }\n",
              "</style>\n",
              "<table border=\"1\" class=\"dataframe\">\n",
              "  <thead>\n",
              "    <tr style=\"text-align: right;\">\n",
              "      <th></th>\n",
              "      <th>userId</th>\n",
              "      <th>movieId</th>\n",
              "      <th>ratings</th>\n",
              "      <th>rank</th>\n",
              "      <th>gender</th>\n",
              "      <th>age</th>\n",
              "      <th>occupation</th>\n",
              "    </tr>\n",
              "  </thead>\n",
              "  <tbody>\n",
              "    <tr>\n",
              "      <th>535785</th>\n",
              "      <td>5533</td>\n",
              "      <td>2453</td>\n",
              "      <td>2</td>\n",
              "      <td>12</td>\n",
              "      <td>1</td>\n",
              "      <td>50</td>\n",
              "      <td>2</td>\n",
              "    </tr>\n",
              "    <tr>\n",
              "      <th>630697</th>\n",
              "      <td>5533</td>\n",
              "      <td>247</td>\n",
              "      <td>4</td>\n",
              "      <td>12</td>\n",
              "      <td>1</td>\n",
              "      <td>50</td>\n",
              "      <td>2</td>\n",
              "    </tr>\n",
              "    <tr>\n",
              "      <th>491029</th>\n",
              "      <td>5533</td>\n",
              "      <td>858</td>\n",
              "      <td>4</td>\n",
              "      <td>8</td>\n",
              "      <td>1</td>\n",
              "      <td>50</td>\n",
              "      <td>2</td>\n",
              "    </tr>\n",
              "    <tr>\n",
              "      <th>372121</th>\n",
              "      <td>5533</td>\n",
              "      <td>2442</td>\n",
              "      <td>4</td>\n",
              "      <td>2</td>\n",
              "      <td>1</td>\n",
              "      <td>50</td>\n",
              "      <td>2</td>\n",
              "    </tr>\n",
              "    <tr>\n",
              "      <th>353658</th>\n",
              "      <td>5533</td>\n",
              "      <td>1221</td>\n",
              "      <td>4</td>\n",
              "      <td>8</td>\n",
              "      <td>1</td>\n",
              "      <td>50</td>\n",
              "      <td>2</td>\n",
              "    </tr>\n",
              "    <tr>\n",
              "      <th>894409</th>\n",
              "      <td>5533</td>\n",
              "      <td>1913</td>\n",
              "      <td>5</td>\n",
              "      <td>2</td>\n",
              "      <td>1</td>\n",
              "      <td>50</td>\n",
              "      <td>2</td>\n",
              "    </tr>\n",
              "    <tr>\n",
              "      <th>49466</th>\n",
              "      <td>5533</td>\n",
              "      <td>260</td>\n",
              "      <td>5</td>\n",
              "      <td>12</td>\n",
              "      <td>1</td>\n",
              "      <td>50</td>\n",
              "      <td>2</td>\n",
              "    </tr>\n",
              "    <tr>\n",
              "      <th>679053</th>\n",
              "      <td>5533</td>\n",
              "      <td>2019</td>\n",
              "      <td>5</td>\n",
              "      <td>18</td>\n",
              "      <td>1</td>\n",
              "      <td>50</td>\n",
              "      <td>2</td>\n",
              "    </tr>\n",
              "    <tr>\n",
              "      <th>516854</th>\n",
              "      <td>5533</td>\n",
              "      <td>969</td>\n",
              "      <td>5</td>\n",
              "      <td>18</td>\n",
              "      <td>1</td>\n",
              "      <td>50</td>\n",
              "      <td>2</td>\n",
              "    </tr>\n",
              "    <tr>\n",
              "      <th>340043</th>\n",
              "      <td>5533</td>\n",
              "      <td>266</td>\n",
              "      <td>4</td>\n",
              "      <td>5</td>\n",
              "      <td>1</td>\n",
              "      <td>50</td>\n",
              "      <td>2</td>\n",
              "    </tr>\n",
              "    <tr>\n",
              "      <th>633356</th>\n",
              "      <td>5533</td>\n",
              "      <td>2173</td>\n",
              "      <td>4</td>\n",
              "      <td>12</td>\n",
              "      <td>1</td>\n",
              "      <td>50</td>\n",
              "      <td>2</td>\n",
              "    </tr>\n",
              "    <tr>\n",
              "      <th>54682</th>\n",
              "      <td>5533</td>\n",
              "      <td>2028</td>\n",
              "      <td>3</td>\n",
              "      <td>18</td>\n",
              "      <td>1</td>\n",
              "      <td>50</td>\n",
              "      <td>2</td>\n",
              "    </tr>\n",
              "    <tr>\n",
              "      <th>628529</th>\n",
              "      <td>5533</td>\n",
              "      <td>1185</td>\n",
              "      <td>5</td>\n",
              "      <td>5</td>\n",
              "      <td>1</td>\n",
              "      <td>50</td>\n",
              "      <td>2</td>\n",
              "    </tr>\n",
              "    <tr>\n",
              "      <th>564107</th>\n",
              "      <td>5533</td>\n",
              "      <td>3101</td>\n",
              "      <td>2</td>\n",
              "      <td>1</td>\n",
              "      <td>1</td>\n",
              "      <td>50</td>\n",
              "      <td>2</td>\n",
              "    </tr>\n",
              "    <tr>\n",
              "      <th>79302</th>\n",
              "      <td>5533</td>\n",
              "      <td>1217</td>\n",
              "      <td>5</td>\n",
              "      <td>8</td>\n",
              "      <td>1</td>\n",
              "      <td>50</td>\n",
              "      <td>2</td>\n",
              "    </tr>\n",
              "    <tr>\n",
              "      <th>30936</th>\n",
              "      <td>5533</td>\n",
              "      <td>1097</td>\n",
              "      <td>4</td>\n",
              "      <td>12</td>\n",
              "      <td>1</td>\n",
              "      <td>50</td>\n",
              "      <td>2</td>\n",
              "    </tr>\n",
              "    <tr>\n",
              "      <th>21527</th>\n",
              "      <td>5533</td>\n",
              "      <td>2797</td>\n",
              "      <td>4</td>\n",
              "      <td>12</td>\n",
              "      <td>1</td>\n",
              "      <td>50</td>\n",
              "      <td>2</td>\n",
              "    </tr>\n",
              "    <tr>\n",
              "      <th>135678</th>\n",
              "      <td>5533</td>\n",
              "      <td>1198</td>\n",
              "      <td>4</td>\n",
              "      <td>18</td>\n",
              "      <td>1</td>\n",
              "      <td>50</td>\n",
              "      <td>2</td>\n",
              "    </tr>\n",
              "    <tr>\n",
              "      <th>86814</th>\n",
              "      <td>5533</td>\n",
              "      <td>902</td>\n",
              "      <td>3</td>\n",
              "      <td>5</td>\n",
              "      <td>1</td>\n",
              "      <td>50</td>\n",
              "      <td>2</td>\n",
              "    </tr>\n",
              "    <tr>\n",
              "      <th>205117</th>\n",
              "      <td>5533</td>\n",
              "      <td>1304</td>\n",
              "      <td>4</td>\n",
              "      <td>18</td>\n",
              "      <td>1</td>\n",
              "      <td>50</td>\n",
              "      <td>2</td>\n",
              "    </tr>\n",
              "  </tbody>\n",
              "</table>\n",
              "</div>"
            ],
            "text/plain": [
              "        userId  movieId  ratings  rank  gender  age  occupation\n",
              "535785    5533     2453        2    12       1   50           2\n",
              "630697    5533      247        4    12       1   50           2\n",
              "491029    5533      858        4     8       1   50           2\n",
              "372121    5533     2442        4     2       1   50           2\n",
              "353658    5533     1221        4     8       1   50           2\n",
              "894409    5533     1913        5     2       1   50           2\n",
              "49466     5533      260        5    12       1   50           2\n",
              "679053    5533     2019        5    18       1   50           2\n",
              "516854    5533      969        5    18       1   50           2\n",
              "340043    5533      266        4     5       1   50           2\n",
              "633356    5533     2173        4    12       1   50           2\n",
              "54682     5533     2028        3    18       1   50           2\n",
              "628529    5533     1185        5     5       1   50           2\n",
              "564107    5533     3101        2     1       1   50           2\n",
              "79302     5533     1217        5     8       1   50           2\n",
              "30936     5533     1097        4    12       1   50           2\n",
              "21527     5533     2797        4    12       1   50           2\n",
              "135678    5533     1198        4    18       1   50           2\n",
              "86814     5533      902        3     5       1   50           2\n",
              "205117    5533     1304        4    18       1   50           2"
            ]
          },
          "metadata": {},
          "execution_count": 18
        }
      ]
    },
    {
      "cell_type": "code",
      "metadata": {
        "colab": {
          "base_uri": "https://localhost:8080/"
        },
        "id": "-bpmsG-WmPwU",
        "outputId": "9df9596c-4ea1-40ee-f9d7-11113e1a796d"
      },
      "source": [
        "import numpy as np\n",
        "\n",
        "def make_predictions(user, n=10):\n",
        "  \"\"\"\n",
        "  Funtion to make top N recommendations to a given user\n",
        "  \"\"\"\n",
        "  # users's watched movies\n",
        "  watched_movies = dataset[dataset.userId == user]['movieId'].values\n",
        "\n",
        "  # construct samples matrix\n",
        "  samples = []\n",
        "  for movie in movie_ids:\n",
        "    sample = [user, movie, rank, occupation]\n",
        "    samples.append(sample)\n",
        "  samples = torch.tensor(samples)\n",
        "\n",
        "  # run the model for our samples\n",
        "  predictions = model(samples).detach().numpy()\n",
        "\n",
        "  normalized_predictions = [i/max(predictions)*5 for i in predictions]\n",
        "  normalized_predictions = {key:value for (key,value) in enumerate(normalized_predictions)}\n",
        "\n",
        "  # filter out movies the user haven't watched\n",
        "  unwatched_movies = {}\n",
        "  for i, movie in enumerate(movie_ids):\n",
        "    if movie not in watched_movies:\n",
        "      unwatched_movies[i] = movie\n",
        " \n",
        "  # get the indexes of top n ratings from sorted predictions\n",
        "  indexes = [idx for idx in sorted(normalized_predictions, key=normalized_predictions.get, reverse=True)][:n]\n",
        "  \n",
        "  # get the original movie indexes\n",
        "  recommendations = []\n",
        "  for idx in indexes:\n",
        "    recommendations.append(unwatched_movies.get(idx))\n",
        "\n",
        "  return recommendations\n",
        "\n",
        "user = 5533 # take userId == 5533 as an example\n",
        "rank = 1 + n_user + n_item\n",
        "occupation = dataset[dataset.userId == user]['occupation'].unique().item() + n_user + n_item + n_rank\n",
        "\n",
        "n = 10 # make 10 recommendations\n",
        "movie_ids = dataset['movieId'].unique()\n",
        "# run the function\n",
        "movies = make_predictions(user, n=10)\n",
        "\n",
        "# print out the recommended movies\n",
        "print(f'Top {n} recommended movie ids:')\n",
        "for idx in movies:\n",
        "  print(idx)"
      ],
      "execution_count": 19,
      "outputs": [
        {
          "output_type": "stream",
          "name": "stdout",
          "text": [
            "Top 10 recommended movie ids:\n",
            "3902\n",
            "597\n",
            "1171\n",
            "2852\n",
            "3801\n",
            "1940\n",
            "567\n",
            "1132\n",
            "195\n",
            "2867\n"
          ]
        }
      ]
    }
  ]
}