{
  "nbformat": 4,
  "nbformat_minor": 0,
  "metadata": {
    "colab": {
      "name": "Factorization Machines (FM).ipynb",
      "provenance": [],
      "collapsed_sections": []
    },
    "kernelspec": {
      "name": "python3",
      "display_name": "Python 3"
    }
  },
  "cells": [
    {
      "cell_type": "markdown",
      "metadata": {
        "id": "M8IxcFFpGx1L"
      },
      "source": [
        "# Factorization Machines \r\n",
        "\r\n",
        "A downside of MF is that it is simply a matrix decomposition framework. As such, we can only represent the matrix as a *user-item* matrix and unable to incorporate side features such as movie genre, language, etc. The factorization process has to learn all these from existing interactions. Hence, factorization machines are introduced as an improved version of MF.\r\n",
        "\r\n",
        "Factorization machines (FM) is a supervised algorithm that can be used for classification, regression, and ranking tasks. Particularly, it is a generalization of the linear regression model and the matrix factorization model. Moreover, it is reminiscent of support vector machines with a polynomial kernel.\r\n",
        "\r\n",
        "FM is formulated as a linear model, with interactions between features as additional parameters (features). However, these user/item indicators can be augmented with arbitrary auxiliary features, for example, user or item attributes and/or contextual features relevant to the interaction itself. These feature interactions are done in their latent space representation instead of their plain format.\r\n",
        "\r\n",
        "![](https://drive.google.com/uc?id=1-1ywT0sOGrYs8lXJ-zljSrF2mF6gQxvS)\r\n",
        "\r\n",
        "* A linear model, given a vector *x* models its output *y* as: \r\n",
        "\r\n",
        "  ![](https://drive.google.com/uc?id=1U1HUGuROvvxHQ-abyJHx5HgoQvd7ExDD)\r\n",
        "  \r\n",
        "  where *w* are the learnable weights of the model.\r\n",
        "\r\n",
        "* The model for a factorization machine of degree two is defined as:\r\n",
        "![](https://drive.google.com/uc?id=1W_ndd8TORVF_3zFk40wNifBPZYtPP0jo)\r\n",
        "\r\n",
        "* However, this introduces a large number of *w2* variables. This equiation can be  re-formulation as low-rank re-formulation to reduce the number of additional parameters for the factorization machine.\r\n",
        "\r\n",
        "  ![](https://drive.google.com/uc?id=1L9cx5gghNPaf_FpTCWj6EwhS6--FhAMg)\r\n",
        "\r\n",
        "  The first two terms correspond to the linear regression model and the last term is an extension of the matrix factorization model. If the feature *i*  represents an item and the feature *j*  represents a user, the third term is exactly the dot product between user and item embeddings. "
      ]
    },
    {
      "cell_type": "markdown",
      "metadata": {
        "id": "7palkAIRf4L9"
      },
      "source": [
        "# Model implementation in PyTorch"
      ]
    },
    {
      "cell_type": "code",
      "metadata": {
        "id": "3wjfQ9PYy0E5"
      },
      "source": [
        "# import libraries\r\n",
        "import pandas as pd\r\n",
        "\r\n",
        "from sklearn.model_selection import train_test_split\r\n",
        "from sklearn.preprocessing import LabelEncoder\r\n",
        "from sklearn.utils import shuffle\r\n",
        "\r\n",
        "import torch\r\n",
        "import torch.nn as nn\r\n",
        "from torch.utils.data import TensorDataset, DataLoader\r\n",
        "import torch.nn.functional as F\r\n",
        "from torch.autograd import Variable"
      ],
      "execution_count": 1,
      "outputs": []
    },
    {
      "cell_type": "code",
      "metadata": {
        "id": "mX7GzwMFOZC8"
      },
      "source": [
        "# Initialize a Loader class\r\n",
        "class Loader():\r\n",
        "    # Set the iterator\r\n",
        "    current = 0\r\n",
        "\r\n",
        "    def __init__(self, x, y, batchsize=1024, do_shuffle=True):\r\n",
        "        \"\"\"\r\n",
        "        :param x: features\r\n",
        "        :param y: target\r\n",
        "        :param batchsize: batch size = 1024\r\n",
        "        :param do_shuffle: shuffle mode turned on\r\n",
        "        \"\"\"\r\n",
        "        self.shuffle = shuffle\r\n",
        "        self.x = x\r\n",
        "        self.y = y\r\n",
        "        self.batchsize = batchsize\r\n",
        "        self.batches = range(0, len(self.y), batchsize)\r\n",
        "        if do_shuffle:\r\n",
        "            # Every epoch re-shuffle the dataset\r\n",
        "            self.x, self.y = shuffle(self.x, self.y)\r\n",
        "\r\n",
        "    def __iter__(self):\r\n",
        "        # Reset & return a new iterator\r\n",
        "        self.x, self.y = shuffle(self.x, self.y, random_state=0)\r\n",
        "        self.current = 0\r\n",
        "        return self\r\n",
        "\r\n",
        "    def __len__(self):\r\n",
        "        # Return the number of batches\r\n",
        "        return int(len(self.x) / self.batchsize)\r\n",
        "\r\n",
        "    def __next__(self):\r\n",
        "        # Update iterator and stop iteration until the batch size is out of range\r\n",
        "        n = self.batchsize\r\n",
        "        if self.current + n >= len(self.y):\r\n",
        "            raise StopIteration\r\n",
        "        i = self.current\r\n",
        "\r\n",
        "        # Transform NumPy arrays to PyTorch tensors\r\n",
        "        xs = torch.from_numpy(self.x[i:i + n])\r\n",
        "        ys = torch.from_numpy(self.y[i:i + n])\r\n",
        "        self.current += n\r\n",
        "        return xs, ys\r\n",
        "    \r\n",
        "def index_into(arr, idx):\r\n",
        "    new_shape = (idx.size()[0], idx.size()[1], arr.size()[1])\r\n",
        "    return arr[idx.resize(torch.numel(idx.data))].view(new_shape)"
      ],
      "execution_count": 3,
      "outputs": []
    },
    {
      "cell_type": "markdown",
      "metadata": {
        "id": "MXU-FnjQgdoM"
      },
      "source": [
        "We can reorganize the third term of FM which could greatly reduce the computation cost, leading to a linear time complexity. The reformulation of the pairwise interaction term is as follows:\r\n"
      ]
    },
    {
      "cell_type": "code",
      "metadata": {
        "id": "IZAlHOSWggb6"
      },
      "source": [
        "def factorization_machine(v, x=None):\r\n",
        "    \"\"\"\r\n",
        "    Takes an input 2D matrix v of n vectors, each d-dimensional\r\n",
        "    :param v: (batchsize, n_features, dim)\r\n",
        "    :param x: (batchsize, n_features) functions as a weight array, assumed to be 1 if missing\r\n",
        "    :return: output that is d-dimensional\r\n",
        "    \"\"\"\r\n",
        "    batchsize = v.size()[0]\r\n",
        "    n_features = v.size()[1]\r\n",
        "    n_dim = v.size()[2]\r\n",
        "\r\n",
        "    if x is None:\r\n",
        "        x = Variable(torch.ones(v.size()))\r\n",
        "    else:\r\n",
        "        x = x.expand(batchsize, n_features, n_dim)\r\n",
        "\r\n",
        "    # Uses Rendle's trick for computing pairs of features in linear time\r\n",
        "    t0 = (v * x).sum(dim=1) ** 2.0\r\n",
        "    t1 = (v ** 2.0 * x ** 2.0).sum(dim=1)\r\n",
        "    return 0.5 * (t0 - t1)"
      ],
      "execution_count": 4,
      "outputs": []
    },
    {
      "cell_type": "code",
      "metadata": {
        "id": "Z9pK5V9EOZO2"
      },
      "source": [
        "class FM(nn.Module):\r\n",
        "    # Iteration counter\r\n",
        "    itr = 0\r\n",
        "\r\n",
        "    def __init__(self, n_feat, k=10, c_feat=1.0, c_bias=1.0, writer=None):\r\n",
        "        \"\"\"\r\n",
        "        :param n_feat: Feature column\r\n",
        "        :param k: Dimensions constant\r\n",
        "        :param c_feat: Regularization constant for the features\r\n",
        "        :param c_bias: Regularization constant for the biases\r\n",
        "        :param writer: Log results via TensorBoard\r\n",
        "        \"\"\"\r\n",
        "        super(FM, self).__init__()\r\n",
        "\r\n",
        "        # This will hold the logging\r\n",
        "        self.writer = writer\r\n",
        "\r\n",
        "        # These are the hyper-parameters\r\n",
        "        self.k = k\r\n",
        "        self.n_feat = n_feat\r\n",
        "        self.c_feat = c_feat\r\n",
        "        self.c_bias = c_bias\r\n",
        "\r\n",
        "        # The embedding matrices for the features and the feature's biases\r\n",
        "        self.feat = nn.Embedding(n_feat, k)\r\n",
        "        self.bias_feat = nn.Embedding(n_feat, 1)\r\n",
        "\r\n",
        "    def __call__(self, train_x):\r\n",
        "        \"\"\"This is the most important function in this script\"\"\"\r\n",
        "        # Pull out biases\r\n",
        "        biases = index_into(self.bias_feat.weight, train_x).squeeze().sum(dim=1)\r\n",
        "\r\n",
        "        # Initialize vector features using the feature weights\r\n",
        "        vector_features = index_into(self.feat.weight, train_x)\r\n",
        "\r\n",
        "        # Use factorization machines to pull out the interactions\r\n",
        "        interactions = factorization_machine(vector_features).squeeze().sum(dim=1)\r\n",
        "\r\n",
        "        # Final prediction is the sum of biases and interactions\r\n",
        "        prediction = biases + interactions\r\n",
        "        return prediction\r\n",
        "\r\n",
        "    def loss(self, prediction, target):\r\n",
        "        \"\"\"\r\n",
        "        Function to calculate the loss metric\r\n",
        "        \"\"\"\r\n",
        "        # Calculate the Mean Squared Error between target and prediction\r\n",
        "        loss_mse = F.mse_loss(prediction.squeeze(), target.squeeze())\r\n",
        "\r\n",
        "        # Compute L2 regularization over feature matrices\r\n",
        "        prior_feat = l2_regularize(self.feat.weight) * self.c_feat\r\n",
        "\r\n",
        "        # Add the MSE loss and feature regularization to get total loss\r\n",
        "        total = (loss_mse + prior_feat)\r\n",
        "\r\n",
        "        # This logs all local variables to tensorboard\r\n",
        "        for name, var in locals().items():\r\n",
        "            if type(var) is torch.Tensor and var.nelement() == 1 and self.writer is not None:\r\n",
        "                self.writer.add_scalar(name, var, self.itr)\r\n",
        "        return total\r\n",
        "\r\n",
        "def l2_regularize(array):\r\n",
        "    \"\"\"\r\n",
        "    Function to do L2 regularization\r\n",
        "    \"\"\"\r\n",
        "    loss = torch.sum(array ** 2.0)\r\n",
        "    return loss"
      ],
      "execution_count": 6,
      "outputs": []
    },
    {
      "cell_type": "code",
      "metadata": {
        "id": "Ycxyv0vxg-BS"
      },
      "source": [
        "# get the data\r\n",
        "!wget http://files.grouplens.org/datasets/movielens/ml-1m.zip\r\n",
        "!unzip ml-1m.zip"
      ],
      "execution_count": null,
      "outputs": []
    },
    {
      "cell_type": "code",
      "metadata": {
        "colab": {
          "base_uri": "https://localhost:8080/",
          "height": 330
        },
        "id": "uHMVxycaOZRA",
        "outputId": "54caae41-72b7-4ffe-ff45-b783fd9c6e17"
      },
      "source": [
        "# read the data\r\n",
        "ratings = pd.read_csv('./ml-1m/ratings.dat', sep='::', engine='python', \r\n",
        "                      names=('userId', 'movieId','ratings','timestamp'))\r\n",
        "\r\n",
        "# Create users dataframe\r\n",
        "users = pd.read_csv(\"./ml-1m/users.dat\", sep='::', engine='python',\r\n",
        "                    names=['userId', 'gender', 'age', 'occupation', 'zipcode'])\r\n",
        "\r\n",
        "# Create users dataframe\r\n",
        "movies = pd.read_csv(\"./ml-1m/movies.dat\", sep='::', engine='python',\r\n",
        "                    names=['movieId', 'title', 'genres_str'])\r\n",
        "\r\n",
        "# Is this rating the first rating ever for that user, or the nth?\r\n",
        "ratings['rank'] = ratings.groupby(\"userId\")[\"timestamp\"].rank(ascending=True).astype('int64')\r\n",
        "\r\n",
        "# Merge ratings & user features\r\n",
        "dataset = ratings.merge(users, on='userId')\r\n",
        "dataset = dataset.merge(movies, on='movieId')\r\n",
        "dataset = dataset.sample(frac=1)\r\n",
        "dataset.drop(columns=['timestamp', 'zipcode', 'title', 'genres_str'], inplace=True)\r\n",
        "dataset['gender'] = dataset['gender'].map({'M':0, 'F':1})\r\n",
        "assert len(ratings) == len(dataset)\r\n",
        "\r\n",
        "# Compute cardinalities\r\n",
        "n_user = dataset.userId.max() + 1\r\n",
        "n_item = dataset.movieId.max() + 1\r\n",
        "n_rank = dataset['rank'].max() + 1\r\n",
        "n_age = dataset['age'].max() + 1\r\n",
        "n_occu = dataset['occupation'].max() + 1\r\n",
        "n_gen = dataset['gender'].nunique()\r\n",
        "n_feat = n_user + n_item + n_rank + n_age + n_occu + n_gen\r\n",
        "\r\n",
        "print('n_user', n_user)\r\n",
        "print('n_item', n_item)\r\n",
        "print('n_rank', n_rank)\r\n",
        "print('n_gen', n_gen)\r\n",
        "print('n_age', n_age)\r\n",
        "print('n_occu', n_occu)\r\n",
        "print('n_feat', n_feat)\r\n",
        "print('n_rows', len(dataset))\r\n",
        "\r\n",
        "display(dataset.head())"
      ],
      "execution_count": 10,
      "outputs": [
        {
          "output_type": "stream",
          "text": [
            "n_user 6041\n",
            "n_item 3953\n",
            "n_rank 2315\n",
            "n_gen 2\n",
            "n_age 57\n",
            "n_occu 21\n",
            "n_feat 12389\n",
            "n_rows 1000209\n"
          ],
          "name": "stdout"
        },
        {
          "output_type": "display_data",
          "data": {
            "text/html": [
              "<div>\n",
              "<style scoped>\n",
              "    .dataframe tbody tr th:only-of-type {\n",
              "        vertical-align: middle;\n",
              "    }\n",
              "\n",
              "    .dataframe tbody tr th {\n",
              "        vertical-align: top;\n",
              "    }\n",
              "\n",
              "    .dataframe thead th {\n",
              "        text-align: right;\n",
              "    }\n",
              "</style>\n",
              "<table border=\"1\" class=\"dataframe\">\n",
              "  <thead>\n",
              "    <tr style=\"text-align: right;\">\n",
              "      <th></th>\n",
              "      <th>userId</th>\n",
              "      <th>movieId</th>\n",
              "      <th>ratings</th>\n",
              "      <th>rank</th>\n",
              "      <th>gender</th>\n",
              "      <th>age</th>\n",
              "      <th>occupation</th>\n",
              "    </tr>\n",
              "  </thead>\n",
              "  <tbody>\n",
              "    <tr>\n",
              "      <th>403484</th>\n",
              "      <td>3540</td>\n",
              "      <td>1356</td>\n",
              "      <td>4</td>\n",
              "      <td>182</td>\n",
              "      <td>0</td>\n",
              "      <td>18</td>\n",
              "      <td>17</td>\n",
              "    </tr>\n",
              "    <tr>\n",
              "      <th>68098</th>\n",
              "      <td>3182</td>\n",
              "      <td>1103</td>\n",
              "      <td>4</td>\n",
              "      <td>555</td>\n",
              "      <td>0</td>\n",
              "      <td>25</td>\n",
              "      <td>12</td>\n",
              "    </tr>\n",
              "    <tr>\n",
              "      <th>719345</th>\n",
              "      <td>5468</td>\n",
              "      <td>3052</td>\n",
              "      <td>3</td>\n",
              "      <td>10</td>\n",
              "      <td>0</td>\n",
              "      <td>25</td>\n",
              "      <td>12</td>\n",
              "    </tr>\n",
              "    <tr>\n",
              "      <th>115605</th>\n",
              "      <td>5511</td>\n",
              "      <td>1084</td>\n",
              "      <td>5</td>\n",
              "      <td>69</td>\n",
              "      <td>0</td>\n",
              "      <td>45</td>\n",
              "      <td>1</td>\n",
              "    </tr>\n",
              "    <tr>\n",
              "      <th>924253</th>\n",
              "      <td>1926</td>\n",
              "      <td>2929</td>\n",
              "      <td>4</td>\n",
              "      <td>361</td>\n",
              "      <td>1</td>\n",
              "      <td>1</td>\n",
              "      <td>0</td>\n",
              "    </tr>\n",
              "  </tbody>\n",
              "</table>\n",
              "</div>"
            ],
            "text/plain": [
              "        userId  movieId  ratings  rank  gender  age  occupation\n",
              "403484    3540     1356        4   182       0   18          17\n",
              "68098     3182     1103        4   555       0   25          12\n",
              "719345    5468     3052        3    10       0   25          12\n",
              "115605    5511     1084        5    69       0   45           1\n",
              "924253    1926     2929        4   361       1    1           0"
            ]
          },
          "metadata": {
            "tags": []
          }
        }
      ]
    },
    {
      "cell_type": "code",
      "metadata": {
        "colab": {
          "base_uri": "https://localhost:8080/"
        },
        "id": "-vPCF1YwOZT7",
        "outputId": "559b1b3c-737d-4ee1-9aeb-cadcfa972cd7"
      },
      "source": [
        "from sklearn.model_selection import train_test_split\r\n",
        "from torch.utils.data import TensorDataset, DataLoader\r\n",
        "\r\n",
        "# split the dataset into training and testing datasets\r\n",
        "train_df, test_df = train_test_split(dataset, test_size=0.1)\r\n",
        "\r\n",
        "train_df.loc[:, 'movieId'] = n_user\r\n",
        "train_df.loc[:, 'rank'] = n_user + n_item\r\n",
        "train_df.loc[:, 'gender'] = n_user + n_item + n_rank\r\n",
        "train_df.loc[:, 'age'] = n_user + n_item + n_rank + n_gen\r\n",
        "train_df.loc[:, 'occupation'] = n_user + n_item + n_rank + n_gen + n_age\r\n",
        "\r\n",
        "test_df.loc[:, 'movieId'] = n_user\r\n",
        "test_df.loc[:, 'rank'] = n_user + n_item\r\n",
        "test_df.loc[:, 'gender'] = n_user + n_item + n_rank\r\n",
        "test_df.loc[:, 'age'] = n_user + n_item + n_rank + n_gen\r\n",
        "test_df.loc[:, 'occupation'] = n_user + n_item + n_rank + n_gen + n_age\r\n",
        "\r\n",
        "train_X = torch.tensor(train_df[['userId', 'movieId', 'rank', 'gender', 'age', 'occupation']].values)\r\n",
        "train_y = torch.FloatTensor(train_df['ratings'].values)\r\n",
        "test_x = torch.tensor(test_df[['userId', 'movieId', 'rank', 'gender', 'age', 'occupation']].values)\r\n",
        "test_y = torch.FloatTensor(test_df['ratings'].values)\r\n",
        "\r\n",
        "train_loader = DataLoader(TensorDataset(train_X, train_y), batch_size=1024)\r\n",
        "test_loader = DataLoader(TensorDataset(test_x, test_y), batch_size=1024)"
      ],
      "execution_count": 11,
      "outputs": [
        {
          "output_type": "stream",
          "text": [
            "/usr/local/lib/python3.6/dist-packages/pandas/core/indexing.py:1781: SettingWithCopyWarning: \n",
            "A value is trying to be set on a copy of a slice from a DataFrame.\n",
            "Try using .loc[row_indexer,col_indexer] = value instead\n",
            "\n",
            "See the caveats in the documentation: https://pandas.pydata.org/pandas-docs/stable/user_guide/indexing.html#returning-a-view-versus-a-copy\n",
            "  self.obj[item_labels[indexer[info_axis]]] = value\n"
          ],
          "name": "stderr"
        }
      ]
    },
    {
      "cell_type": "code",
      "metadata": {
        "id": "RZsfaz-thnO_"
      },
      "source": [
        "losses = []\r\n",
        "\r\n",
        "def fit(model, epochs, dataloader, optimizer):\r\n",
        "    model.train()\r\n",
        "    for epoch in range(epochs):\r\n",
        "        for batch in dataloader:\r\n",
        "            optimizer.zero_grad()\r\n",
        "            x, y = batch[0], batch[1]\r\n",
        "            y_pred = model(x)\r\n",
        "            loss = model.loss(y_pred, y)\r\n",
        "            loss.backward()\r\n",
        "            optimizer.step()\r\n",
        "        print(f\"epoch {epoch}'s training loss %.3f\" % loss.item())\r\n",
        "        losses.append(loss.data.numpy())\r\n",
        "\r\n",
        "def evaluate(model, dataloader):\r\n",
        "    model.eval()\r\n",
        "    for batch in dataloader:\r\n",
        "        with torch.no_grad():\r\n",
        "            x, y = batch[0], batch[1]\r\n",
        "            y_pred = model(x)\r\n",
        "            loss = model.loss(y_pred, y)\r\n",
        "    print(\"test loss %.3f \" % loss.item())\r\n",
        "    # return y_pred, y"
      ],
      "execution_count": 12,
      "outputs": []
    },
    {
      "cell_type": "code",
      "metadata": {
        "colab": {
          "base_uri": "https://localhost:8080/"
        },
        "id": "vcBY--uvhnSN",
        "outputId": "9c4e4229-2409-4f24-c50a-794c395d4e59"
      },
      "source": [
        "# Define the Hyper-parameters\r\n",
        "lr = 1e-2  # Learning rate\r\n",
        "k = 10  # Number of dimensions per user and item\r\n",
        "c_bias = 1e-6  # Bias constant\r\n",
        "c_feat = 1e-6  # Regularization constant\r\n",
        "\r\n",
        "# Instantiate the model class object\r\n",
        "model = FM(n_feat, k=k, c_bias=c_bias, c_feat=c_feat)\r\n",
        "\r\n",
        "# Use Adam optimizer\r\n",
        "optimizer = torch.optim.Adam(model.parameters(), lr=lr)\r\n",
        "\r\n",
        "fit(model, epochs=10, dataloader=train_loader, optimizer=optimizer)\r\n",
        "evaluate(model, test_loader)"
      ],
      "execution_count": 13,
      "outputs": [
        {
          "output_type": "stream",
          "text": [
            "/usr/local/lib/python3.6/dist-packages/torch/tensor.py:447: UserWarning: non-inplace resize is deprecated\n",
            "  warnings.warn(\"non-inplace resize is deprecated\")\n"
          ],
          "name": "stderr"
        },
        {
          "output_type": "stream",
          "text": [
            "epoch 0's training loss 1.345\n",
            "epoch 1's training loss 1.155\n",
            "epoch 2's training loss 1.121\n",
            "epoch 3's training loss 1.086\n",
            "epoch 4's training loss 1.057\n",
            "epoch 5's training loss 1.035\n",
            "epoch 6's training loss 1.016\n",
            "epoch 7's training loss 0.998\n",
            "epoch 8's training loss 0.989\n",
            "epoch 9's training loss 0.957\n",
            "test loss 1.053 \n"
          ],
          "name": "stdout"
        }
      ]
    },
    {
      "cell_type": "code",
      "metadata": {
        "colab": {
          "base_uri": "https://localhost:8080/",
          "height": 717
        },
        "id": "WHirNA8QhnVU",
        "outputId": "2d1af35f-fa06-475a-ccef-c011694482ef"
      },
      "source": [
        "import numpy as np\r\n",
        "import matplotlib.pyplot as plt\r\n",
        "%matplotlib inline\r\n",
        "n = len(losses)\r\n",
        "smooth = np.convolve(losses, np.ones((n,))/n, mode='valid')\r\n",
        "plt.figure(figsize=(12, 12))\r\n",
        "plt.plot(losses)\r\n",
        "plt.plot(smooth, c='r')"
      ],
      "execution_count": 18,
      "outputs": [
        {
          "output_type": "execute_result",
          "data": {
            "text/plain": [
              "[<matplotlib.lines.Line2D at 0x7fe7b2058ba8>]"
            ]
          },
          "metadata": {
            "tags": []
          },
          "execution_count": 18
        },
        {
          "output_type": "display_data",
          "data": {
            "image/png": "[encoded data removed]",
            "text/plain": [
              "<Figure size 864x864 with 1 Axes>"
            ]
          },
          "metadata": {
            "tags": [],
            "needs_background": "light"
          }
        }
      ]
    },
    {
      "cell_type": "markdown",
      "metadata": {
        "id": "Vxq4ff7jf_eu"
      },
      "source": [
        "# Make predictions"
      ]
    },
    {
      "cell_type": "code",
      "metadata": {
        "id": "8Qvatk5OjRbc"
      },
      "source": [
        ""
      ],
      "execution_count": null,
      "outputs": []
    }
  ]
}