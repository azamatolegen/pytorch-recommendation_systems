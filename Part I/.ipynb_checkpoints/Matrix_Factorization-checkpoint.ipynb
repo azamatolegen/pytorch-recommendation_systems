{
 "cells": [
  {
   "cell_type": "markdown",
   "metadata": {
    "id": "FlcZ96-kuYyX"
   },
   "source": [
    "# Matrix Factorization\n",
    "Matrix Factorization is a class of the collaborative filtering algorithm. The end goal of matrix factorization is basically to build a matrix of users and items filled with known and predicted ratings.\n",
    "\n",
    "Starting with our sparse (and high-dimensional) original matrix of only known ratings, we want to determine the two factor matrices that are much lower in dimensions that would produce our original matrix. One being the matrix that quantitatively represents the users (user matrix) where each row of the matrix is a vector of size *k* that represents a single user, and the other being the item matrix where each column is a vector of size *k* that represents a single item.\n",
    "\n",
    "![](https://drive.google.com/uc?id=1ZyzVuhcrOA4iYaw69EaBsqPPdLdDqvFW)\n",
    "\n",
    "The model is learned by fitting the previously observed ratings. However, the goal is to generalize those previous ratings in a way that predicts future/unknown ratings. \n",
    "\n",
    "* Accordingly, each item *i* is associated with a vector *q_i*, and each user *u* is associated with a vector *p_u*.\n",
    "* For a given item *i*, the elements of *q_i* measure the extent to which the item possesses those factors, positive or negative.\n",
    "* For a given user *u*, the elements of *p_u* measure the extent of interest the user has in items that are high on the corresponding factors, positive or negative.\n",
    "* The resulting dot product (*q_i* * *p_u*) captures the interaction between user *u* and item *i*, which is the user’s overall interest in the item’s characteristics:\n",
    "\n",
    "  ![](https://drive.google.com/uc?id=1--ADw7Bmz6fOOwbLAN2Krd4hcfEdH-7d)\n",
    "\n",
    "* Some users give high ratings than others, and some items received high ratings than others systematically. To capture these biases, user specific and item specific bias terms can be introduced. Thus, we can extend above equation as follows:\n",
    "\n",
    "  ![](https://drive.google.com/uc?id=1TZ8SmF-Fsrh93U2Ymx1sSgycn7GZEL4v)\n",
    "\n",
    "* The model is learned by minimizing a squared error function on the set of known ratings, in order to avoid overfitting the observed data we add an L2 regularization penalty to each element and optimize the learned parameters simultaneously with stochastic gradient descent, as seen in equation below:\n",
    "\n",
    "  ![](https://drive.google.com/uc?id=1C9D1Fd-FvA6hw12SFHN7m3csCeJpVRtX)\n",
    "\n"
   ]
  },
  {
   "cell_type": "markdown",
   "metadata": {
    "id": "b7kdjkpcvMBh"
   },
   "source": [
    "# Model implementation in PyTorch\n",
    "\n",
    "First, we implement the matrix factorization model described above. The user/item latent factors and the user/item biases can be created with the `nn.Embedding. `\n",
    "\n",
    "In the forward function, user and item ids are used to look up the embeddings."
   ]
  },
  {
   "cell_type": "code",
   "execution_count": 1,
   "metadata": {
    "id": "KgFu78zwvXTr"
   },
   "outputs": [],
   "source": [
    "import numpy as np\n",
    "import pandas as pd\n",
    "from sklearn.preprocessing import LabelEncoder\n",
    "from sklearn.model_selection import train_test_split\n",
    "import tqdm\n",
    "\n",
    "import torch\n",
    "import torch.nn as nn\n",
    "import torch.nn.functional as F\n",
    "from torch.utils.data import DataLoader, Dataset"
   ]
  },
  {
   "cell_type": "code",
   "execution_count": null,
   "metadata": {
    "id": "Jyhae0r8vYDb"
   },
   "outputs": [],
   "source": [
    "class MF(nn.Module):\n",
    "    \"\"\"\n",
    "        Build our Matrix Factorization Model class\n",
    "    \"\"\"\n",
    "\n",
    "    def __init__(self, num_users, num_movies, c_vector=1.0, emb_size=100):\n",
    "        super(MF, self).__init__()\n",
    "\n",
    "        # These are the hyper-parameters\n",
    "        self.num_users = num_users\n",
    "        self.num_movies = num_movies\n",
    "        self.c_vector = c_vector\n",
    "        self.emb_size = emb_size\n",
    "\n",
    "        # factor matrices and biases which learned and fit by PyTorch\n",
    "        self.user_emb = nn.Embedding(num_users, emb_size)\n",
    "        self.movie_emb = nn.Embedding(num_movies, emb_size)\n",
    "        self.user_bias = nn.Embedding(num_users, 1)\n",
    "        self.movie_bias = nn.Embedding(num_movies, 1)        \n",
    "        # self.bias = nn.Parameter(torch.ones(1))\n",
    "\n",
    "        # initializing our matrices and biases with a positive number generally will yield better results\n",
    "        self.user_emb.weight.data.uniform_(0, 0.5)\n",
    "        self.movie_emb.weight.data.uniform_(0, 0.5)\n",
    "        self.user_bias.weight.data.uniform_(-0.01,0.01)\n",
    "        self.movie_bias.weight.data.uniform_(-0.01,0.01)\n",
    "\n",
    "    def forward(self, user, movie):\n",
    "        # vector user\n",
    "        P = self.user_emb(user)\n",
    "        # vector movie\n",
    "        Q = self.movie_emb(movie)\n",
    "        # biases\n",
    "        bias_user = self.user_bias(user).squeeze()\n",
    "        bias_movie = self.movie_bias(movie).squeeze()\n",
    "        biases = (bias_user + bias_movie)\n",
    "        \n",
    "        # taking the dot product and adding biases to the prediction\n",
    "        prediction = (P * Q).sum(1) + biases\n",
    "        return prediction\n",
    "\n",
    "    def loss(self, prediction, target):\n",
    "        \"\"\"\n",
    "        Function to calculate the loss metric\n",
    "        \"\"\"\n",
    "        # Calculate the Mean Squared Error between target = R_ui and prediction = p_u * q_i\n",
    "        loss_mse = F.mse_loss(prediction, target.squeeze())\n",
    "\n",
    "        # Compute L2 regularization over user (P) and item (Q) matrices\n",
    "        reg_user  = l2_regularize(self.user_emb.weight) * self.c_vector\n",
    "        reg_movie  = l2_regularize(self.movie_emb.weight) * self.c_vector\n",
    "\n",
    "        # Add up the MSE loss + user & item regularization\n",
    "        total_loss = loss_mse + reg_user + reg_movie\n",
    "        return total_loss\n",
    "\n",
    "def l2_regularize(array):\n",
    "    \"\"\"\n",
    "    Function to do L2 regularization\n",
    "    \"\"\"\n",
    "    loss = torch.sum(array ** 2.0)\n",
    "    return loss"
   ]
  },
  {
   "cell_type": "code",
   "execution_count": null,
   "metadata": {
    "id": "vDwD-41FxBFj"
   },
   "outputs": [],
   "source": [
    "# keep track the losses\n",
    "losses = []\n",
    "\n",
    "# create the training function to train the model on training data\n",
    "def fit(model, epochs, lr, optimizer):\n",
    "    model.train()\n",
    "    for i in range(epochs):\n",
    "        users = torch.LongTensor(train_df.userId.values)\n",
    "        movies = torch.LongTensor(train_df.movieId.values)\n",
    "        ratings = torch.FloatTensor(train_df.ratings.values)\n",
    "        # compute a prediction for these features\n",
    "        y_hat = model(users, movies)\n",
    "        # compute a loss given what the true target outcome was\n",
    "        loss_mse = model.loss(y_hat, ratings)\n",
    "        # reset gradient\n",
    "        optimizer.zero_grad() \n",
    "        # backpropagate the loss\n",
    "        loss_mse.backward()\n",
    "        # take a step & update the model parameters\n",
    "        optimizer.step()\n",
    "        print(f\"epoch {i}'s training loss %.3f\" % loss_mse.item())\n",
    "        # record the loss per example\n",
    "        losses.append(loss_mse.data.numpy())\n",
    "\n",
    "# create the evaluating function to test the model performance on unseen data\n",
    "def evaluate(model):\n",
    "    model.eval()\n",
    "    users = torch.LongTensor(test_df.userId.values)\n",
    "    movies = torch.LongTensor(test_df.movieId.values)\n",
    "    ratings = torch.FloatTensor(test_df.ratings.values)\n",
    "    # compute a prediction\n",
    "    y_hat = model(users, movies)\n",
    "    # compute a loss\n",
    "    loss_mse = model.loss(y_hat, ratings)\n",
    "    print(\"test loss %.3f \" % loss_mse.item())"
   ]
  },
  {
   "cell_type": "code",
   "execution_count": null,
   "metadata": {
    "colab": {
     "base_uri": "https://localhost:8080/"
    },
    "id": "oxVVBB5zuIFf",
    "outputId": "285ce509-40af-4140-a9d9-84e2d89b4161"
   },
   "outputs": [
    {
     "name": "stdout",
     "output_type": "stream",
     "text": [
      "--2021-02-02 06:03:42--  http://files.grouplens.org/datasets/movielens/ml-1m.zip\n",
      "Resolving files.grouplens.org (files.grouplens.org)... 128.101.65.152\n",
      "Connecting to files.grouplens.org (files.grouplens.org)|128.101.65.152|:80... connected.\n",
      "HTTP request sent, awaiting response... 200 OK\n",
      "Length: 5917549 (5.6M) [application/zip]\n",
      "Saving to: ‘ml-1m.zip.1’\n",
      "\n",
      "ml-1m.zip.1         100%[===================>]   5.64M  18.9MB/s    in 0.3s    \n",
      "\n",
      "2021-02-02 06:03:43 (18.9 MB/s) - ‘ml-1m.zip.1’ saved [5917549/5917549]\n",
      "\n",
      "Archive:  ml-1m.zip\n",
      "replace ml-1m/movies.dat? [y]es, [n]o, [A]ll, [N]one, [r]ename: N\n"
     ]
    }
   ],
   "source": [
    "# get the data\n",
    "!wget http://files.grouplens.org/datasets/movielens/ml-1m.zip\n",
    "!unzip ml-1m.zip"
   ]
  },
  {
   "cell_type": "code",
   "execution_count": null,
   "metadata": {
    "colab": {
     "base_uri": "https://localhost:8080/"
    },
    "id": "fx_wj5qUvnyg",
    "outputId": "d7005ed5-2809-4f66-92dd-5ac77a8bdf42"
   },
   "outputs": [
    {
     "name": "stdout",
     "output_type": "stream",
     "text": [
      "The length of full dataset: 1000209\n",
      "The length of training data: 900188\n",
      "The length of training data: 100021\n",
      "Number of unique users: 6040\n",
      "Number of unique movies: 3706\n"
     ]
    },
    {
     "name": "stderr",
     "output_type": "stream",
     "text": [
      "/usr/local/lib/python3.6/dist-packages/ipykernel_launcher.py:10: SettingWithCopyWarning: \n",
      "A value is trying to be set on a copy of a slice from a DataFrame.\n",
      "Try using .loc[row_indexer,col_indexer] = value instead\n",
      "\n",
      "See the caveats in the documentation: https://pandas.pydata.org/pandas-docs/stable/user_guide/indexing.html#returning-a-view-versus-a-copy\n",
      "  # Remove the CWD from sys.path while we load stuff.\n",
      "/usr/local/lib/python3.6/dist-packages/ipykernel_launcher.py:11: SettingWithCopyWarning: \n",
      "A value is trying to be set on a copy of a slice from a DataFrame.\n",
      "Try using .loc[row_indexer,col_indexer] = value instead\n",
      "\n",
      "See the caveats in the documentation: https://pandas.pydata.org/pandas-docs/stable/user_guide/indexing.html#returning-a-view-versus-a-copy\n",
      "  # This is added back by InteractiveShellApp.init_path()\n",
      "/usr/local/lib/python3.6/dist-packages/ipykernel_launcher.py:12: SettingWithCopyWarning: \n",
      "A value is trying to be set on a copy of a slice from a DataFrame.\n",
      "Try using .loc[row_indexer,col_indexer] = value instead\n",
      "\n",
      "See the caveats in the documentation: https://pandas.pydata.org/pandas-docs/stable/user_guide/indexing.html#returning-a-view-versus-a-copy\n",
      "  if sys.path[0] == '':\n",
      "/usr/local/lib/python3.6/dist-packages/ipykernel_launcher.py:13: SettingWithCopyWarning: \n",
      "A value is trying to be set on a copy of a slice from a DataFrame.\n",
      "Try using .loc[row_indexer,col_indexer] = value instead\n",
      "\n",
      "See the caveats in the documentation: https://pandas.pydata.org/pandas-docs/stable/user_guide/indexing.html#returning-a-view-versus-a-copy\n",
      "  del sys.path[0]\n"
     ]
    }
   ],
   "source": [
    "# read the data\n",
    "dataset = pd.read_csv('./ml-1m/ratings.dat', sep='::', engine='python', names=('userId', 'movieId','ratings','timestamp'))\n",
    "print(f'The length of full dataset: {len(dataset)}')\n",
    "\n",
    "# split the dataset into training and testing datasets\n",
    "train_df, test_df = train_test_split(dataset, test_size=0.1)\n",
    "\n",
    "# enconde the data to have contiguous ids for users and movies\n",
    "lab_enc = LabelEncoder()\n",
    "train_df['userId'] = lab_enc.fit_transform(train_df['userId'])\n",
    "train_df['movieId'] =lab_enc.fit_transform(train_df['movieId'])\n",
    "test_df['userId'] = lab_enc.fit_transform(test_df['userId'])\n",
    "test_df['movieId'] = lab_enc.fit_transform(test_df['movieId'])\n",
    "\n",
    "print(f'The length of training data: {len(train_df)}')\n",
    "print(f'The length of training data: {len(test_df)}')\n",
    "\n",
    "num_users = dataset['userId'].nunique()\n",
    "num_movies = dataset['movieId'].nunique()\n",
    "print(f'Number of unique users: {num_users}')\n",
    "print(f'Number of unique movies: {num_movies}')"
   ]
  },
  {
   "cell_type": "markdown",
   "metadata": {
    "id": "iQNLOXuYS8zh"
   },
   "source": [
    "Now let's fit the model, check the loss changes and test the final score on unseen data."
   ]
  },
  {
   "cell_type": "code",
   "execution_count": null,
   "metadata": {
    "colab": {
     "base_uri": "https://localhost:8080/"
    },
    "id": "tzGiP4mmvn7H",
    "outputId": "261e7967-0468-4076-8fe7-039c05c35c43"
   },
   "outputs": [
    {
     "name": "stdout",
     "output_type": "stream",
     "text": [
      "MF(\n",
      "  (user_emb): Embedding(6040, 10)\n",
      "  (movie_emb): Embedding(3706, 10)\n",
      "  (user_bias): Embedding(6040, 1)\n",
      "  (movie_bias): Embedding(3706, 1)\n",
      ")\n",
      "epoch 0's training loss 10.031\n",
      "epoch 1's training loss 9.619\n",
      "epoch 2's training loss 9.206\n",
      "epoch 3's training loss 8.792\n",
      "epoch 4's training loss 8.379\n",
      "epoch 5's training loss 7.968\n",
      "epoch 6's training loss 7.560\n",
      "epoch 7's training loss 7.155\n",
      "epoch 8's training loss 6.756\n",
      "epoch 9's training loss 6.362\n",
      "epoch 10's training loss 5.975\n",
      "epoch 11's training loss 5.597\n",
      "epoch 12's training loss 5.228\n",
      "epoch 13's training loss 4.869\n",
      "epoch 14's training loss 4.523\n",
      "epoch 15's training loss 4.190\n",
      "epoch 16's training loss 3.871\n",
      "epoch 17's training loss 3.568\n",
      "epoch 18's training loss 3.281\n",
      "epoch 19's training loss 3.011\n",
      "epoch 20's training loss 2.760\n",
      "epoch 21's training loss 2.526\n",
      "epoch 22's training loss 2.312\n",
      "epoch 23's training loss 2.118\n",
      "epoch 24's training loss 1.942\n",
      "epoch 25's training loss 1.786\n",
      "epoch 26's training loss 1.648\n",
      "epoch 27's training loss 1.528\n",
      "epoch 28's training loss 1.425\n",
      "epoch 29's training loss 1.337\n",
      "epoch 30's training loss 1.265\n",
      "epoch 31's training loss 1.205\n",
      "epoch 32's training loss 1.157\n",
      "epoch 33's training loss 1.118\n",
      "epoch 34's training loss 1.088\n",
      "epoch 35's training loss 1.065\n",
      "epoch 36's training loss 1.047\n",
      "epoch 37's training loss 1.033\n",
      "epoch 38's training loss 1.022\n",
      "epoch 39's training loss 1.012\n",
      "epoch 40's training loss 1.004\n",
      "epoch 41's training loss 0.996\n",
      "epoch 42's training loss 0.988\n",
      "epoch 43's training loss 0.980\n",
      "epoch 44's training loss 0.971\n",
      "epoch 45's training loss 0.962\n",
      "epoch 46's training loss 0.952\n",
      "epoch 47's training loss 0.942\n",
      "epoch 48's training loss 0.932\n",
      "epoch 49's training loss 0.923\n",
      "test loss 1.887 \n"
     ]
    }
   ],
   "source": [
    "# Define the Hyper-parameters\n",
    "epochs = 50\n",
    "lr = 1e-2  # Learning Rate\n",
    "emb_size = 10  # Number of dimensions per user, item\n",
    "c_vector = 1e-6  # regularization constant\n",
    "\n",
    "# instantiate the model\n",
    "model = MF(num_users, num_movies, c_vector=c_vector, emb_size=emb_size)\n",
    "print(model)\n",
    "\n",
    "# initialize the optimizer\n",
    "optimizer = torch.optim.Adam(model.parameters(), lr=lr)\n",
    "\n",
    "# Start training the model on training data \n",
    "fit(model, epochs=epochs, lr=lr, optimizer=optimizer)\n",
    "\n",
    "# and evaluate on test data\n",
    "evaluate(model)"
   ]
  },
  {
   "cell_type": "code",
   "execution_count": null,
   "metadata": {
    "colab": {
     "base_uri": "https://localhost:8080/"
    },
    "id": "Gsd_lye4u25S",
    "outputId": "19b4cc72-8a51-458b-ee96-bdd1e00b7ebc"
   },
   "outputs": [
    {
     "data": {
      "text/plain": [
       "[array(10.030815, dtype=float32),\n",
       " array(9.618734, dtype=float32),\n",
       " array(9.205552, dtype=float32),\n",
       " array(8.792151, dtype=float32),\n",
       " array(8.37945, dtype=float32),\n",
       " array(7.968412, dtype=float32),\n",
       " array(7.5600476, dtype=float32),\n",
       " array(7.155411, dtype=float32),\n",
       " array(6.7555947, dtype=float32),\n",
       " array(6.361733, dtype=float32),\n",
       " array(5.9749894, dtype=float32),\n",
       " array(5.596561, dtype=float32),\n",
       " array(5.227657, dtype=float32),\n",
       " array(4.869497, dtype=float32),\n",
       " array(4.5232897, dtype=float32),\n",
       " array(4.190225, dtype=float32),\n",
       " array(3.8714507, dtype=float32),\n",
       " array(3.5680518, dtype=float32),\n",
       " array(3.2810318, dtype=float32),\n",
       " array(3.0112834, dtype=float32),\n",
       " array(2.7595673, dtype=float32),\n",
       " array(2.526486, dtype=float32),\n",
       " array(2.3124602, dtype=float32),\n",
       " array(2.1177068, dtype=float32),\n",
       " array(1.9422232, dtype=float32),\n",
       " array(1.7857753, dtype=float32),\n",
       " array(1.647891, dtype=float32),\n",
       " array(1.527865, dtype=float32),\n",
       " array(1.4247669, dtype=float32),\n",
       " array(1.3374642, dtype=float32),\n",
       " array(1.2646484, dtype=float32),\n",
       " array(1.204873, dtype=float32),\n",
       " array(1.1565939, dtype=float32),\n",
       " array(1.1182193, dtype=float32),\n",
       " array(1.0881544, dtype=float32),\n",
       " array(1.0648521, dtype=float32),\n",
       " array(1.0468559, dtype=float32),\n",
       " array(1.032837, dtype=float32),\n",
       " array(1.0216252, dtype=float32),\n",
       " array(1.0122284, dtype=float32),\n",
       " array(1.0038432, dtype=float32),\n",
       " array(0.9958555, dtype=float32),\n",
       " array(0.9878317, dtype=float32),\n",
       " array(0.97950274, dtype=float32),\n",
       " array(0.97074205, dtype=float32),\n",
       " array(0.96154034, dtype=float32),\n",
       " array(0.9519777, dtype=float32),\n",
       " array(0.9421973, dtype=float32),\n",
       " array(0.93237835, dtype=float32),\n",
       " array(0.9227146, dtype=float32)]"
      ]
     },
     "execution_count": 19,
     "metadata": {
      "tags": []
     },
     "output_type": "execute_result"
    }
   ],
   "source": [
    "losses"
   ]
  },
  {
   "cell_type": "code",
   "execution_count": null,
   "metadata": {
    "colab": {
     "base_uri": "https://localhost:8080/",
     "height": 717
    },
    "id": "9kDTlj27MVf2",
    "outputId": "e37d9b8d-d08c-46eb-8490-02cc5d45b48b"
   },
   "outputs": [
    {
     "data": {
      "text/plain": [
       "[<matplotlib.lines.Line2D at 0x7f584a34c908>]"
      ]
     },
     "execution_count": 26,
     "metadata": {
      "tags": []
     },
     "output_type": "execute_result"
    },
    {
     "data": {
      "image/png": "[encoded data removed]",
      "text/plain": [
       "<Figure size 864x864 with 1 Axes>"
      ]
     },
     "metadata": {
      "needs_background": "light",
      "tags": []
     },
     "output_type": "display_data"
    }
   ],
   "source": [
    "import numpy as np\n",
    "import matplotlib.pyplot as plt\n",
    "%matplotlib inline\n",
    "n = len(losses)\n",
    "smooth = np.convolve(losses, np.ones((n,))/n, mode='valid')\n",
    "plt.figure(figsize=(12, 12))\n",
    "plt.plot(losses[::])\n",
    "plt.plot(smooth, c='r')"
   ]
  },
  {
   "cell_type": "markdown",
   "metadata": {
    "id": "kauWk8J3fxho"
   },
   "source": [
    "# Make predictions\n",
    "\n",
    "Lets recommend top 10 movies to a user with these steps:\n",
    "\n"
   ]
  },
  {
   "cell_type": "code",
   "execution_count": null,
   "metadata": {
    "colab": {
     "base_uri": "https://localhost:8080/"
    },
    "id": "32ClsdI4XYM2",
    "outputId": "c29f466f-cbc3-4838-f350-cd036cc81a35"
   },
   "outputs": [
    {
     "name": "stdout",
     "output_type": "stream",
     "text": [
      "[4.399698351052156, 4.20910867577033, 4.051147832939778, 3.9810174514905246, 3.877565271856241, 4.161056803804264, 3.860821634582996, 4.27960428336365, 4.431425899631786, 4.338927558947339, 3.807601170051756, 4.33409527432714, 3.574006116306212, 3.73469758686197, 4.537557832381764, 4.515761543100808, 2.269817025986001, 3.577443633342512, 4.243876383909871, 4.260714540852365, 2.965182702504241, 4.318224538248656, 3.7706787883188895, 3.0367643491300598, 3.297038048102961, 3.4584013312653603, 4.127128794482751, 4.5857601860875405, 3.975603321994186, 3.2473868390705434, 4.294039016648422, 4.667898046425705, 3.4918428186632915, 4.550154385696588, 3.990811617104622, 4.151897767525741, 4.623335637149861, 4.59345028495672, 3.9176579450449256, 3.9594150212479144, 3.137865050760543, 4.111856504468772, 4.076309879281514, 4.206225959738798, 1.8456150263675069, 4.461091152198517, 4.373710529469733, 4.100169535619777, 3.59077893953965, 4.134024446160257, 4.42582273079695, 3.5473261322733425, 4.533871297519965, 4.528428249824536, 3.7275529173589628, 4.824781954101248, 4.490603513175613, 3.706430582773472, 4.720862263581673, 4.387995048775898, 4.079980348477151, 3.6551259489319596, 4.570906942199268, 3.5451859177795617, 4.352243586345084, 4.564240761786763, 4.250095403280888, 3.9633596778127043, 3.675164922095978, 4.337992001654549, 4.4422964648786865, 4.644673519423016, 4.058323294969593, 4.4625365266308235, 3.941130418828704, 3.3749693815179076, 4.223980662935791, 3.985438187295892, 2.925917678883963, 4.607550049102031, 4.270382323225994, 4.466654424629052, 3.3351444694319103, 3.051135623033496, 4.217760572520364, 4.6273611575676625, 4.276127673206357, 3.752551897189162, 4.642417364371772, 3.8095884929559016, 4.648707072673898, 3.972879388296548, 4.129516152474311, 4.234410493407668, 4.077312376849974, 4.117738412611505, 3.918642502619507, 4.486713212114669, 4.1394709747500205, 3.6419025668757454, 4.041638832900042, 3.9586837656764757, 4.295721895178811, 3.439640381844469, 4.6385455388269135, 3.992190051261257, 4.2319374518632475, 4.248363256707603, 4.4936573285517625, 3.961475978455299, 2.806960792598569, 4.147837973686795, 3.418135952165443, 4.470944760777411, 3.6488814922561885, 3.2833701826162853, 4.138978562082179, 3.7531698898141643, 4.173698876506545, 3.7573772200206905, 3.911923841030876, 4.276669621678196, 4.020239633334372, 2.9770544265140897, 4.68006029123197, 1.849089494435978, 2.5631064722035592, 4.224359544896093, 4.564841617701194, 4.7600014394836885, 4.061871932863509, 4.542485707715621, 4.213098851722577, 3.4387819397492536, 4.372636807447957, 4.103950322389723, 4.648224567166856, 4.228888188425844, 4.65898588588386, 4.33175771990068, 4.338535556693005, 4.392826530112789, 4.549990515901743, 4.298777049360474, 4.612925620999582, 4.545477670277051, 4.454412387014186, 4.1006638226153385, 4.181792223596372, 3.9581201285553185, 4.2660836864834515, 4.7457453028544085, 4.408638894270887, 4.2057391700541125, 3.8909822451896985, 4.272213809168376, 4.233871758069061, 4.649701001887073, 4.553161878401972, 2.9773835049092927, 4.195230617818045, 4.277480937819338, 4.476660389275375, 4.27408251390403, 4.298367910395568, 4.0743616494983605, 3.812688631002816, 4.091483900970806, 4.400692012504229, 4.521397914312377, 3.6170438938633547, 4.3926685510622026, 4.097085463239025, 4.085424467216991, 3.655649689648816, 3.050007813268976, 3.842614147361359, 4.365861112744454, 4.336165067650914, 3.1236766576902437, 4.0615599911788784, 3.713692799400558, 3.9833667874055028, 2.006715769768722, 4.165601513000176, 3.711640142787357, 3.630962115981043, 3.9709986343112718, 4.129143161258267, 3.172920869846576, 4.030897596265739, 4.315604228097757, 2.5431312261819805, 3.430633433872272, 3.150357712767524, 3.6760107794193675, 4.199881092649519, 3.8242545718333956, 4.536757762206935, 4.135500613119373, 4.347077403629834, 4.160114552483908, 4.314682058860103, 4.441151786164698, 4.3332622695366805, 4.355742152912796, 4.034159997540882, 2.370607660259572, 4.262236762721143, 4.402508771585963, 4.492601278762764, 3.697950053129158, 3.288095630556511, 3.702067951127387, 4.747231912496528, 3.6904519389706043, 2.9740362233645983, 4.367390831924107, 4.006518483388262, 2.1061289070495177, 3.9147262287316016, 3.4120968682554325, 3.268149302734023, 4.43156781301621, 4.0501394446270576, 4.0296977587645975, 4.306828625718283, 4.608162150982774, 2.4470874607368507, 4.203546742145308, 4.072951619531608, 3.661765888756401, 4.457570896981487, 4.090509786079229, 4.361455103799734, 4.149248003653547, 4.639792234521025, 3.9514293141213668, 2.797438136742596, 4.02544651573723, 4.547641715508969, 4.340251905361231, 3.7957171290311837, 4.512246910866934, 4.372566654039053, 3.6929943306406203, 3.6999604034881344, 4.449245668776731, 4.326428470673894, 4.089971318501725, 3.85261288245791, 4.064552489262512, 3.322676441446377, 4.041563056507982, 3.9066754556571013, 4.026010956141695, 3.6936254435596543, 4.681921230895647, 4.760389693082584, 2.331420019597971, 4.006469750867573, 2.0788760481374484, 3.856298078514196, 4.226886941944359, 3.3555625923173342, 4.415217516802812, 4.084033983810736, 3.9733771561864435, 4.45487909461617, 4.425468750619197, 3.882450037652566, 4.350419597713577, 4.498485596755421, 4.459497170354219, 4.159825638254108, 3.4643209937235726, 4.279394358659142, 4.470132909114063, 3.0137358232545375, 4.4346157376481, 3.9816124166606954, 4.453717814713815, 4.049243515977466, 4.106302068154626, 3.957212150656106, 4.161483615001948, 2.7275286582030596, 4.380154200405904, 4.1077897488411566, 3.8763648988328936, 4.332474784133677, 4.166880072265508, 3.9780340572843818, 3.5823147433226006, 4.41710737466558, 4.610416699467402, 4.073085500082953, 2.306388372913244, 2.7397524880629422, 4.429107624004718, 3.2419360263031374, 3.8247357385349243, 4.41254204786476, 4.180939940006518, 4.45742577046383, 4.130145123304524, 3.9210901068591717, 4.047661583382789, 3.679369574691478, 3.7192828479413613, 3.6003007921123147, 4.250264360536683, 3.9045649626457197, 2.1864453224866525, 3.9438607787928066, 4.136981867539439, 4.085868415125246, 3.985012714903722, 3.4299902717036175, 4.530833280048874, 4.065268482451098, 3.284021377618021, 3.6890943901799793, 4.245048106495231, 3.8568807266736433, 4.327650264585456, 2.9106579736418112, 4.586542584029592, 4.0803798480423605, 4.095512634521839, 4.411801420654728, 3.4350110601401074, 3.3575705328263865, 4.3658956539267, 3.4215156328035627, 4.608304599889404, 4.3775180923499475, 3.9465681113020783, 3.47446485533778, 3.9318768628809315, 4.111599721571295, 2.9386866703489174, 4.021638149573708, 3.1067913747936764, 4.421969113007074, 4.47243726116379, 4.121151295626358, 4.7684867888278495, 3.6508535527774804, 4.314721151981095, 3.641352853331928, 4.01234710707156, 4.506286013198909, 4.172918620653314, 4.215611521910195, 4.761460201971129, 3.1681167001421597, 4.114841505241531, 3.5071475077706946, 4.547115832703291, 4.517232087076767, 4.558634379818695, 3.818596244211407, 3.976640360744894, 4.045453089807824, 4.245956887677752, 4.752747255689683, 3.629472828727896, 2.657729764998933, 4.2403440794432194, 4.48166564756791, 4.207707481919967, 4.481862451978385, 3.494717501861743, 2.9409085519790166, 1.408011181917857, 4.3938638366245995, 4.794978536805531, 3.313934309204738, 2.9499885987322476, 4.680261647581191, 4.3357548576415965, 4.320207309214056, 3.345182297649454, 3.686027722270901, 4.1982520341007685, 4.395219511087506, 3.8721682790704746, 4.42468287178281, 2.8266915727333943, 3.4682726120770324, 3.459205685617834, 4.731077349649196, 3.8128525007976606, 5.0, 4.304800067604323, 2.50143278966048, 3.7051099850150178, 2.546205391401934, 4.006641117973293, 4.34307357186135, 2.611934315845213, 2.4811054377888677, 4.418807925428747, 3.6927046131275127, 2.490507601148631, 4.395685950928387, 4.240736081697555, 4.241927618604513, 3.455317258884608, 4.572848745715956, 4.513239769035699, 4.456529038530929, 4.1159904681331625, 3.1262664430754357, 3.953407800909124, 4.448375980715203, 4.268363672272835, 3.255627454766849, 4.466912814093146, 4.42347714353741, 3.3321059164386146, 4.52223118686394, 2.012350400533123, 2.2425659075210986, 4.322525317080021, 4.272637942755033, 4.2619336571529, 3.1971618179950667, 4.3171224335499945, 4.607773361861672, 4.294356313555106, 4.437500060246248, 3.8021187614742322, 4.110357310054826, 4.180584621023252, 4.356630584251513, 4.236168612807914, 4.303722864688212, 4.373607173684096, 4.4272367771802426, 4.005480641354246, 4.42106997122425, 4.1454618616615475, 3.623509521209946, 4.112137653626594, 4.746887036196267, 4.1231980614953, 3.4887349155444, 4.022422957365685, 4.3485284010452965, 3.787947237353402, 4.1395221171206344, 4.313701249940959, 3.965569777954286, 3.6612908805602333, 4.069419315064957, 2.2954680041012434, 3.5922481447100956, 4.359016335676457, 2.8315158245205123, 4.4470205740134, 4.070436271732964, 4.374160368122248, 3.081856925389226, 4.500539324413032, 4.796522982845832, 3.907867528086265, 3.819239941902267, 4.037164009351931, 4.580754124511698, 4.035851712187661, 3.74960143759865, 4.227812592076349, 4.275802075705489, 4.224837766225493, 3.5730780563242974, 4.0813041593688375, 4.14202059596981, 2.344949184833454, 3.727520518265538, 4.340126593165173, 4.36166502850424, 4.2440506963877205, 4.1697536844195495, 3.877181302434987, 4.616708549858349, 2.6503682090027496, 4.366758915721764, 4.012078542685565, 4.709096305207386, 4.536327202353813, 3.949698506353596, 3.6904259661436436, 4.2830573305439055, 3.066953342413648, 3.7318202260524913, 3.7513424202883225, 3.9149688202906363, 4.437250774659646, 4.269874112653094, 4.067157001508352, 3.8875431215867824, 4.455913723516955, 3.9399209419278645, 4.387802796304168, 3.7419769401996277, 4.592234114028314, 4.187851925111289, 4.756635146900702, 4.1057116549232004, 4.0641567383527395, 4.095231217602915, 4.526172094773292, 3.755089736920432, 4.355853006009308, 4.409638714228322, 3.872730309625015, 4.4236040623000825, 3.8516561720380076, 4.053018144242049, 4.287311518943402, 4.348152196696021, 3.661689309081032, 4.542273105400088, 3.3371767762013076, 3.566995327354549, 4.570584557831632, 3.8354062862381184, 4.11301403571569, 3.776873709190664, 3.516905793397033, 4.200067989899194, 3.9988808656952077, 4.650421814775508, 3.6155173878169338, 4.317248281268258, 3.2774668535853375, 3.2287289776741863, 4.196238470608559, 4.424534264370818, 3.80080726759327, 4.206218997950128, 4.527456812543987, 3.5110153168990137, 3.7795788996111144, 4.565620266987809, 4.221912208417531, 4.007410127860211, 4.3218556465622, 3.3815956655261115, 3.94733845999451, 4.080978026345765, 4.3297503149138326, 3.9712034715548277, 4.144583605244733, 3.4704923516183106, 4.736608758508511, 2.7804278094110746, 4.589292490554191, 3.738688030575319, 4.782853243031437, 4.510331883460514, 3.5402542937902663, 4.478449836724635, 3.7652817955331237, 4.454301801678777, 2.479618828146747, 4.611375284215022, 3.717955556155341, 4.271279590681099, 3.9288522334649754, 4.89410209045377, 3.1392164410458063, 4.536779718617355, 4.426538723985536, 4.6803666099334436, 4.003587034836041, 4.618987732364424, 4.45449940937256, 3.985607412312791, 3.285754327474613, 3.0416006501667994, 4.197506587190888, 4.605244090485688, 4.191962325798643, 4.473065696471798, 4.619757277773547, 4.552958379963929, 3.927603127920939, 4.177525182663946, 4.118070168617734, 4.464608729804521, 4.257610654150013, 4.506260843655256, 4.420504727536477, 4.264917051359043, 4.305558367047134, 3.3413747347692397, 2.918632434802046, 3.974014963133045, 4.249836746055691, 3.0513369793827168, 1.8617582093679759, 3.1238113415248954, 3.57129771275253, 3.996159341847494, 4.343204507040564, 3.5559284932193784, 4.297459129213047, 3.6092919421794534, 4.54373293893194, 4.3816001103604165, 4.4052985745148625, 2.534803588127301, 2.3261941261568215, 2.9646027319558206, 4.607622344599757, 4.262181603933989, 2.688458296904435, 4.287389169663181, 2.504901099223589, 3.8411240568249037, 2.875292622721072, 4.829404581778043, 4.6478073953688686, 4.301536863045873, 4.540251509074799, 4.032784240995275, 4.525453959495885, 3.392955162546519, 4.290772331195636, 2.2607281431163813, 4.258039875197621, 3.895526954385611, 4.31656602597861, 4.391543151147609, 3.5410460633709127, 3.0028258971255415, 3.955402353363042, 2.3416514390927565, 4.036928647342669, 3.579696039738318, 4.098004954865653, 2.4377099313985346, 3.8556747306671397, 4.638156749705811, 4.369972584476218, 4.187854602722316, 4.332853933855082, 4.61521604947197, 4.193880834099398, 4.089149291916475, 3.8703049295568737, 4.244174402017162, 4.095440339024114, 4.234189590497951, 4.366264896487307, 3.9513471114628422, 3.5162353195959035, 4.555620996369052, 4.4383724259188035, 4.12749937584887, 4.264104664173489, 3.8976682399238016, 3.9035892411875266, 2.078104896161709, 4.20366241494167, 4.222894088381085, 4.361866920375666, 4.532712962989739, 4.11227876372771, 4.366073715059987, 4.656437871230687, 3.940653536304817, 4.3378187602211105, 3.6771206491900066, 2.680330408632361, 3.658353809024856, 4.5055089704789095, 4.3137266872457145, 4.712898512865546, 4.165081253177655, 4.1837688360564105, 3.8190768753907305, 3.9247139856229425, 3.516625983044724, 3.060477807906257, 4.375647513286573, 3.8098709809192366, 3.8030162966904406, 1.871564691992797, 3.0457672806857166, 4.492313167816272, 4.308174660781492, 4.395618742891612, 3.264859054304201, 4.585149690773413, 2.544231456552923, 4.016147440402001, 2.868621087086514, 3.326746142446122, 4.239203952667977, 3.719038382054608, 2.8466649444272543, 3.8657923516932833, 4.020792024489216, 4.1231672689684915, 3.7764187830771982, 4.3756812511855125, 4.4041102507411365, 4.3888647368374265, 4.703213593781345, 4.0685865780356, 3.036275952878759, 3.6794536516777216, 3.7304069829525073, 4.0189969540568, 4.535064440993539, 4.146257112136529, 4.190356830226929, 3.5984821587028626, 4.270918113192471, 4.45052690565309, 3.711378004667826, 3.849103873207192, 3.483023035701873, 2.9517464503713904, 4.150379026551298, 2.9411066951950056, 3.731828258885572, 4.935803740108503, 4.416030975032776, 4.34673038524075, 4.204336101876031, 1.9032157947776087, 3.2132167737122, 2.1364266113407964, 3.9112656842404703, 3.0021008000594644, 3.879192991599477, 2.26335246968382, 3.9522856141277614, 4.357462785758665, 3.5819709380667497, 3.9803309120232337, 3.968410187731593, 3.489757762956665, 3.1067228279513888, 4.6856227603791964, 4.039758346675869, 4.5389812504036495, 4.3464714602544525, 4.19460137922673, 3.7026155225823825, 3.6438275014429644, 3.8629714884764725, 4.028528981551367, 3.620530143420344, 4.5077469177751714, 3.8417324100502093, 4.042950594542107, 4.021631455546141, 3.706741185652589, 2.478182022069727, 4.701016881694898, 4.203783442960084, 3.337282274075766, 4.451640791840269, 3.9673557445092107, 3.617308977355015, 4.40857436384514, 4.42940671315642, 3.973280762189476, 3.8711052674928057, 3.2492349262012916, 4.357149505268521, 3.1015046995822178, 2.1659495488814495, 4.028699813134882, 4.001964402553756, 4.074121200028147, 4.258612080674064, 4.056122298705503, 2.1543305913525375, 1.9645854345885865, 3.7882064301008036, 4.198148142792927, 3.968906349054873, 4.569178276520319, 4.5707901983584955, 2.689485964016549, 2.6458465272616682, 1.5897860278186648, 2.45317126075101, 4.507814929095254, 2.1199267705515483, 3.778009551788264, 3.7955039911934447, 1.7296341708579313, 4.401287245435503, 4.128157532639275, 4.681244330828053, 4.204996132994155, 4.335034044753162, 3.6658588849720797, 2.8461136243168212, 3.7995064841564146, 2.112022061158564, 4.417081937360824, 3.27121382855428, 3.698382487309998, 4.408177006368751, 4.31660083492196, 4.220446216380317, 3.6946324930668615, 3.077895667636069, 4.159846523620117, 4.506543599379694, 3.6481320289297665, 4.365205901326178, 3.564530854165415, 3.28802574490871, 1.8519649809177372, 3.9421733483236707, 4.404593024009281, 4.068074083285056, 3.9928760552063416, 4.0732702552438065, 4.185852552957523, 4.104908371615138, 4.187386288553716, 3.3073583642838393, 2.921651708995948, 4.398447906702606, 3.2415402753933655, 4.202692584227735, 4.4668014254744275, 3.442005783425609, 3.9529657273285874, 3.9451781634180283, 4.228691651776471, 3.7795411452956356, 3.9177227432317756, 4.528618895729649, 3.86055601556913, 4.01994643492693, 2.2449297025356225, 3.076007951862123, 3.6629044089650273, 4.137952501536681, 4.447499063103902, 3.298721462155556, 4.49351755725616, 4.0579369156984155, 4.3758708260462145, 4.24739048062154, 4.058387825395341, 4.091509606036664, 4.494256577899577, 4.017112986938292, 4.048596605153373, 4.272664183343096, 3.7047327096213314, 4.430205980047942, 3.893761069913388, 4.2790612638473995, 3.1129541643331287, 3.965559603032384, 4.372366904256449, 2.711286001952942, 2.9736078056002984, 4.198224990229397, 4.059337038504368, 2.9509308500526044, 3.9839261403490167, 4.045099645152276, 3.0060151996196502, 3.7885146231299967, 3.6365371699000963, 4.268374650478044, 4.447258078111483, 4.55200193730513, 3.63537481895333, 4.516475394200573, 3.684944628610531, 4.108442818170611, 4.1440164872292415, 3.2206460732673636, 4.19578916747825, 3.2605282862293357, 3.1689652350765756, 4.38230994504364, 4.055807143887641, 3.011472170892419, 4.048096427413553, 1.9125985454574277, 2.749131356206772, 4.253375476788808, 4.0420198569491665, 4.070235450905948, 3.9371603249591587, 3.919790394466727, 2.522203553918143, 3.6673061337321045, 4.130573005546617, 4.185236166899137, 4.316477664814723, 3.5143023521956036, 3.727952952446378, 3.6728388813969333, 1.772708631686142, 4.120078109126787, 4.344027069148019, 4.189987855427427, 3.420751442616493, 4.222460583155835, 3.728441080936577, 2.846789988862209, 4.3631229877083735, 3.4809631495388995, 3.897762491831948, 3.3968315400301243, 4.389452740218928, 4.3893766960657645, 4.158691669984227, 3.7623830138354304, 4.698694321890188, 4.076374945229466, 3.3591524654210634, 3.024632629089502, 4.360028472644616, 3.6235322809036745, 3.069093289146325, 3.9566120980249835, 4.326762904291151, 4.160891862965009, 1.999270940069603, 3.351618203513647, 4.494558076901203, 4.581290717761483, 3.7705716838778147, 4.436094582218242, 3.957178144996065, 3.295468432519008, 4.033342522894378, 3.1238274071910563, 4.4704255719993, 3.741249433283626, 2.7413395081185703, 4.082121634015342, 4.353846939827975, 4.5047030095598215, 4.583030629406745, 4.318084231430848, 3.792107977128061, 3.0076330122020876, 3.8047754871350965, 3.9296247242462283, 4.079697592752714, 3.4973763696114286, 4.213592603195932, 4.366159130851745, 4.835436703899384, 2.628994178980732, 4.582183433277843, 4.306495263145437, 4.106375434696762, 4.511528775589527, 3.902513644838032, 4.2323915746934055, 4.439294862917562, 3.267321117643411, 4.658656004205349, 4.18104570564208, 4.262170357967676, 3.9438331993992297, 4.019622711753781, 2.783384427506948, 4.55622560093892, 4.343800007732941, 4.015923859881258, 3.8439567015302334, 4.090304948835673, 3.909263634475677, 3.713557580043701, 4.045398734303978, 2.5609036016117503, 3.652079363105583, 3.801784863379182, 4.32227522821011, 4.384008085956884, 4.199916437115073, 4.528574982908809, 4.306031768676685, 3.435292477059032, 3.775896916688061, 4.076065145633657, 2.588740045847127, 4.208702749938656, 4.2751356183209, 4.258166793960295, 4.322569229900861, 3.1332335869673598, 4.1859786684368885, 3.723320417608784, 3.9014929395145876, 2.205423961684029, 2.939890792027702, 3.879084548352889, 2.5498983525301977, 3.5346840595710614, 4.183053913912235, 4.4448982995135, 4.0769605387610435, 3.406493431659494, 4.182695649556839, 3.3254322387152353, 2.7992077698702564, 4.369897075845261, 3.8809390617501016, 3.1182336099948147, 1.642766578401897, 4.2148642006725945, 3.6035487342879122, 3.016871841289212, 4.387273432604156, 4.211931948837066, 3.1169563895349968, 3.9740010395557053, 3.8747312883453984, 4.424052294385982, 3.8525804833644846, 3.7688395373045305, 3.2686050321307967, 4.725163042413038, 4.046022349912136, 4.217226389120502, 4.2093346661409985, 4.021671351950442, 4.2242162927061555, 3.9728785850132398, 3.3989184700644692, 4.597593084737499, 3.6650317709258786, 3.9775162073117847, 3.6367165698388964, 4.3638478170133475, 4.229399076609772, 4.031637420192464, 3.840369506037531, 3.7199439501038967, 3.5463362194767067, 4.430654747656046, 4.614636078923549, 4.165878110219253, 2.6940649466336057, 2.902468232555016, 3.8808223179093297, 2.328460991652173, 4.564476391557129, 1.8352433000549122, 3.247661294200798, 3.7603121494672465, 3.0259917844467425, 2.886124630369186, 3.291870258821095, 4.177745550051458, 4.096793335875993, 3.9718514534233313, 3.921046461799434, 3.3008611411271307, 3.051983354684604, 4.398243337220153, 3.6353740156700227, 2.6040275982439587, 3.9005595243106193, 4.153115545020763, 2.6873604763834176, 3.3093577364376054, 4.4920636144685675, 4.260563791351552, 3.6359676420346805, 3.6367703898205366, 3.299704680924624, 4.221919973489508, 4.633715128534433, 4.5879906360729255, 4.822530083227648, 4.384080113693506, 4.131857455556209, 4.5006812377974565, 4.053092314067493, 4.213233803318332, 4.120288033831294, 3.7751980602100463, 4.517223518721481, 3.55048250015182, 3.9481562024021173, 4.287879708003304, 4.437470874286055, 4.649047129274311, 3.885039823037758, 3.9883436630211526, 3.4879359164139805, 3.9283065363376983, 3.270124576388547, 4.316883322885295, 3.743331543618123, 4.060605958370004, 3.326639841288355, 4.370291220188416, 4.0479920005835055, 4.367778550000798, 4.217530833494258, 3.737026572933144, 2.7552355060647353, 2.958536871935541, 2.2808383407337147, 3.8935415058091842, 2.886419167582142, 3.913774338011548, 4.488421527949814, 2.803462226030856, 1.5398410848565993, 4.420382896234754, 3.740577352915881, 3.024994374339233, 4.3121024483968124, 4.3170600452130685, 2.9240535260870537, 2.83473591954143, 4.135234458583302, 3.711836947197832, 3.6025071435984586, 3.7476390164770548, 4.159416499289201, 3.626042541241368, 4.058535361762922, 2.9210176507047847, 4.295392549022506, 4.552197938432298, 1.9996969479839786, 3.9752579101717194, 4.4282743514531555, 4.258776753752216, 2.379146829585374, 2.1881583241410945, 3.1016345637170213, 3.6745830772198387, 2.8402100275247704, 2.8608493210810138, 4.239902005862683, 3.794009884240449, 4.140044251270875, 3.7289337613655213, 4.814078471782425, 2.8880209144984175, 2.2872662137648274, 3.8570472740795148, 3.820414877620859, 3.059997980010241, 3.858074941191629, 4.3342977017207724, 3.063609541763288, 3.7676635305415274, 4.604301035882023, 4.415151112049346, 3.5357264535438238, 3.982867412948991, 3.4397474862855444, 3.845062287123229, 4.385159726459541, 1.7928867067430065, 3.9200129039430607, 3.551073984427657, 4.272620538283357, 3.643386498906839, 4.5868349791537275, 3.88505695974833, 4.484790687397374, 3.9685617405157143, 3.004944958492209, 3.8763935492708814, 3.6041230818531766, 4.502078950753486, 4.619843496848612, 4.168753328939909, 2.599203881979046, 4.125629332307701, 4.4369870299734995, 3.851466597177305, 1.915854654346657, 3.4361669848204093, 4.217279138057732, 4.281747978751764, 4.354490637518836, 4.65425508272158, 3.2744743555017037, 4.331756113334063, 2.7638322440276153, 4.310184743379366, 3.1549931929772472, 4.337497982420091, 4.614933293747532, 3.752525121078893, 3.56218392810036, 3.8594207084937353, 3.3620410721968548, 3.9529986619442177, 3.3027967861384577, 4.3046570831754885, 1.64052006275035, 4.185571403799702, 4.618060207904715, 4.165644890298812, 3.810559126953143, 4.256326204140422, 3.9696151126936865, 3.889139513281004, 4.3105874560778075, 2.8925562520557357, 4.428975885542196, 4.3755396055621905, 4.13609316843962, 3.262098169574392, 3.4068246521435186, 4.476294895370207, 3.7859103786452595, 4.05888291567421, 4.07616207515283, 3.856013983984244, 3.8670095936661, 4.400633372822741, 3.771013489697249, 4.6526742211713135, 4.2194905770048265, 4.350836501750461, 3.3838084432787197, 4.2488693251916825, 4.507189439159376, 3.7708940682454504, 4.272425608200601, 3.7175041109362095, 3.825431917401912, 3.5857865337800443, 4.405361498373994, 4.422640122330408, 3.0848400518342656, 3.489445285749829, 3.747069220850536, 4.456538142408421, 2.648712374343731, 4.169708700554297, 3.5321620177448496, 4.409447800562106, 3.802992198191199, 4.201487927026745, 4.425409307654401, 3.931046803462601, 4.269704084352887, 4.196759533714389, 3.658480460026427, 4.509149985953252, 3.3033355214770643, 3.990130968381591, 2.9889679212559583, 1.6597993976660443, 4.485419925988689, 4.234359083275952, 4.114317496763571, 4.543984634368466, 3.923645351062117, 3.6343128784200722, 4.374663223473095, 3.4599912966931186, 2.4879705647006682, 3.792544695486544, 3.531959590351218, 4.134849150356535, 3.867643651957264, 4.113073478680486, 4.369911534944805, 4.169303310244829, 3.4187796498563032, 3.5288680206595897, 4.153135359342361, 3.455444713169487, 4.095344480549351, 3.310253397326095, 4.522013764848558, 4.199641446462613, 4.045403821764929, 2.194689686838396, 2.5395127026402635, 3.629887322914856, 3.8568293165419276, 4.012434397191036, 3.672244451748967, 2.995613216302453, 3.6564920660778704, 2.1947373483146744, 4.195928403251648, 4.4406334006698955, 4.237958595779378, 4.150633399598851, 4.731274957342978, 4.227054560394642, 4.257509440453198, 4.271550564917019, 2.580746573648602, 4.1776922655920234, 4.183325959192565, 4.547680808629962, 4.330754151287808, 3.6801150216013587, 4.279199964098591, 4.067317122647759, 3.9807668270984085, 3.705841508347559, 4.44705350862903, 3.5989204836279614, 4.398881144166754, 3.386653940516978, 2.3616456961526264, 4.516644619217471, 4.481514898067097, 3.718307126483169, 3.148841113881903, 4.31958797778354, 3.1649207036204836, 3.0651818349582682, 3.817927912499099, 3.8878301614888633, 3.7584166686213227, 3.7897706904627033, 4.509053056434079, 3.1382468780929758, 2.460752113090294, 3.74687536181219, 3.305712704546723, 3.950072836375153, 4.407240110270449, 4.442225240425372, 4.447476571171276, 3.954890929656909, 3.8314859959336727, 4.145617430862209, 3.358849627613924, 4.448762092225278, 3.2489899247923324, 4.002374880324175, 4.188847728652184, 1.93027452689023, 3.0894072529628036, 4.046336433685589, 3.777801233650373, 1.586207266800697, 4.320552721036522, 2.4291030185137523, 4.351140678363114, 2.673910836195432, 4.7305391498327936, 3.3338760850884808, 4.096445781964705, 2.9029876890942297, 3.7434097298601077, 2.573431875845389, 3.8149517478427293, 3.67830067236955, 4.003965113513035, 4.662625294791586, 4.346718871513335, 3.5235743836594606, 4.442259781607618, 4.1255554302433595, 4.326976309889992, 3.87557741342989, 4.579661659212733, 3.2957803742036385, 4.660196701590212, 4.2935096529484085, 3.4495009522120332, 4.297710021366265, 4.292323471263503, 3.239472356397311, 3.9123951005716058, 2.763823407911227, 2.761366432032968, 3.981921412973197, 4.027751403309163, 2.9683947646920785, 4.553636886598139, 4.077521498271174, 4.49874050532518, 1.7885943623863771, 4.274312788452342, 4.134313092628955, 4.108310008663678, 2.741143774752506, 4.474678421593284, 4.460247972486155, 2.3368534278937023, 3.8644746993069594, 4.387954884610495, 4.3311820335299025, 3.150996858519639, 4.62504930820706, 3.186551784301081, 3.7190008955002316, 4.447815288966176, 2.4206080297698938, 4.198237842762326, 4.5826209549196335, 4.524341144353117, 3.7726130945247034, 2.7575856452630223, 3.33906716958628, 4.237415040740923, 4.234920578308287, 3.9774005345154233, 2.8504489443304317, 4.302684754893093, 4.3984784314683125, 4.376686694126104, 4.2735801940753895, 3.8338189984213877, 4.074912434086588, 3.4868463964871452, 4.4420161190041725, 3.9744342770198533, 3.6541387137463515, 3.4911436944241747, 3.581660870709838, 2.067233259870397, 3.9782905724207565, 3.009385776380279, 3.977561994460344, 4.4882008928012, 4.4010178777662, 3.4582473686313153, 3.750558683540757, 4.110510469405563, 3.883847215086389, 4.144368860840378, 4.280054657538369, 3.3823796700347804, 3.7465446768503714, 3.017113361803836, 4.1750167966539715, 3.0931213672181794, 4.3433715899686405, 4.589938330333874, 3.2410170701987138, 3.480601939811374, 3.8396454800158644, 3.800164105424615, 3.7208870047075617, 4.241350325667119, 3.838836305963543, 4.3594988411835, 4.258096908312494, 3.101073604206891, 3.252682350398391, 4.40261400169932, 2.4729539865397565, 3.7771706562535448, 3.1800912444154408, 3.782283554509359, 3.7718922816362688, 4.053870963354108, 2.854510612497096, 2.9167099100847507, 3.596672896932004, 3.464183900038997, 3.985430689985017, 4.348986272530892, 3.722641375452369, 3.2475424082712046, 4.319329320558344, 4.196267121046548, 4.2742565586207775, 4.231415853235213, 4.0681991277200105, 3.5342626035954314, 4.060705029977997, 3.610558184434062, 1.7345264339651316, 4.491091909426915, 4.317178127859354, 3.397391160734741, 3.72881701752475, 4.201714720680721, 4.206198112584119, 4.097805740605254, 3.8931106781949603, 1.5711490517883175, 4.390457112115108, 3.877407292805655, 2.460586101206628, 3.895487593503516, 2.7074955757833004, 3.775911911309811, 3.0946457311757785, 3.903873871239684, 4.16832598222002, 4.275647845310341, 3.7539324734346176, 4.492249708434936, 3.264359412086586, 3.825898089481691, 2.594401051080143, 4.241431457281233, 3.934216291635111, 3.9647892543399523, 4.715849775739366, 3.884614350645588, 3.3321444740374018, 4.165310992203761, 4.293242427367926, 4.392729600593616, 3.7078181208075973, 4.311751145830087, 2.9666960882566302, 2.0117573096906707, 4.273922928286829, 2.978264171176032, 4.261273893795879, 3.1106297302006998, 4.561895710049428, 2.6811580582007677, 3.7725290175384596, 3.6501375595888947, 4.3394521029475035, 3.532042596293051, 3.203406006909736, 2.5499288772959043, 3.0734219151323687, 3.388577804039787, 3.030242224190802, 3.5164444410171027, 3.5889715520965106, 4.142487035810691, 4.140768545053644, 2.804505155525823, 3.7968725181892795, 2.973336563603276, 4.0448728514983, 3.8035702944119008, 2.327738036674917, 3.2497924048170868, 3.5728780387805905, 2.9365103081062744, 4.291445214846689, 3.899039712291766, 2.4863018775087204, 4.3455029683460324, 2.5727846972601935, 3.05945281840517, 4.20403808376874, 4.635329727983638, 4.26747042123427, 4.011658961037654, 3.7478957993745317, 4.4629860975222355, 3.7227238458719967, 3.1833686403123336, 2.7258331949008427, 2.8391341634141725, 4.193821391134601, 3.7588341081804124, 3.0549501477023795, 3.902338529076874, 3.911780321079836, 3.774442438378263, 4.318708650322315, 3.823437364947994, 3.555006591742826, 4.104751999131169, 3.606731342754454, 4.526365953811638, 3.9837421884714708, 4.316327183075013, 3.2071744766689574, 4.159618926682834, 4.416773476570529, 2.475627313388987, 4.777125833044955, 4.179227607754833, 4.300639060068562, 4.583739660806661, 2.517905988220011, 3.8427662356676855, 4.151637771495031, 2.6401346474191416, 3.83382221155462, 4.196268459852061, 3.951789185043379, 3.8082713760917826, 3.8989797338047643, 3.5855431389377017, 3.91109726250688, 2.9672891790990823, 3.977358228261199, 4.105216832405434, 3.9830494904988183, 3.0974309821659323, 1.837599999400215, 3.6954234593642, 3.401543599915216, 4.021795325340985, 4.022983381353609, 4.272276197505302, 4.125935651009176, 3.3537011171314517, 4.191968484304005, 4.195774708378705, 4.079037026112385, 3.4911260221913976, 4.299670300399039, 4.5239095134555845, 4.429329865719949, 3.8765086865450367, 2.820381246826362, 4.024930807853455, 2.474682384457603, 3.9970408113975404, 3.114898645460844, 2.4253013463777977, 4.516395065869767, 3.308443332271928, 3.7826067421603033, 3.4668765056876207, 3.622533799751753, 4.09212706313946, 3.5165416382973778, 2.236684802661674, 4.0676156762772555, 3.2644276911677714, 3.9516263862929453, 4.565584387000048, 4.496991489802426, 3.969634123731977, 4.004887818272896, 3.585185142343409, 4.566551540102955, 3.571882235239696, 3.716247240320195, 4.010504375162865, 3.552214378964002, 2.515232929131883, 4.0373493000349905, 2.8421520988025617, 4.293515543692667, 2.519087082443965, 3.8466265474851284, 4.056814193394848, 2.915165731805553, 3.106093589360073, 4.39921343569519, 2.5708977847695555, 3.9017349955514167, 3.4829180733496194, 3.086256775828584, 3.039091460873516, 3.8431183415177195, 4.533644771627091, 3.952772403812447, 3.319770162437808, 3.889334978885966, 2.934511739235816, 3.797910092462193, 4.314693304826415, 2.985052718412464, 3.1818469539657612, 3.7274857093221887, 3.7004520128726686, 4.108903635028335, 4.343400775928834, 4.298609966432397, 4.353417451019265, 2.2523900623786974, 4.2825244859495575, 4.1584879037850815, 2.7048926701040763, 3.2383113442560587, 2.0394707176993623, 4.137870031117053, 3.5588524444607246, 3.7194989311512305, 4.318379839688214, 3.7686976239201058, 4.421171988204374, 3.913321286225801, 3.626211498497164, 3.2899442532094647, 3.391828959348617, 2.9002369792863227, 4.102915157966733, 3.569467030093456, 2.9812933525307335, 3.7048416883901245, 3.7755051821948293, 3.358730473923228, 4.304763384333255, 4.19265341720468, 3.477222526934357, 3.7010137756661066, 3.1485872763565554, 3.5306727304917023, 4.298605146732549, 3.112379281245659, 1.7177592337148502, 2.5036900157561344, 3.856935349938592, 2.8395470510345167, 3.798854485871371, 4.297071946658561, 3.6846905233240808, 3.169835994182515, 3.5150740396935487, 3.7585018166519775, 4.122596670058664, 4.053224588052221, 4.046104820331765, 4.507897399514881, 3.405261195064927, 2.9738806541639367, 2.969837461513358, 3.210706245613404, 4.0594698480113, 3.629335199521115, 3.8813278508712035, 3.3191026340088086, 4.231345164304104, 3.8197808193296954, 3.5162821777888738, 4.218881956018418, 2.9608779072563367, 3.058793590570353, 2.1571728754575634, 4.062469307883604, 3.7276201253957373, 4.299987865066826, 4.365224644603366, 3.672113784330856, 4.018087369590972, 4.385740768052373, 3.514152941500304, 4.6136839204423925, 4.407766528598332, 3.0016469449904095, 4.298313554891722, 1.8150704463395504, 4.374382877598581, 3.6681284280784574, 4.041979692783763, 3.3939694416034993, 2.7064119466007246, 3.936802060603763, 3.5334483420821594, 3.6882667406115726, 4.4035217118374295, 3.5732167565754898, 2.9827071311529223, 4.3908734806297876, 3.4235538303172186, 4.542553719035705, 4.296694671264874, 4.429989629076971, 4.332487101144401, 1.4728804593409586, 4.641814901890726, 4.521435936388959, 2.374544551752384, 3.6587637512730704, 2.84305766685185, 4.3025072292820115, 3.3882283758007796, 3.23694549487125, 2.5198451141256726, 3.4645362736501335, 4.479200371095468, 3.7407018618286303, 3.5633583282967467, 4.434605830487301, 4.117257245909976, 3.85103068210213, 3.955874683948182, 3.000485397326952, 1.9011169493741942, 3.8814922561882534, 3.9536187966580414, 1.9070992679304348, 3.489979736910793, 3.3099144117700923, 4.437974800681313, 3.674634487351555, 4.428933311526869, 3.549655118344517, 3.484326496749755, 3.9870147646685155, 3.409417115139737, 4.017536049480538, 4.35803017153526, 3.06814327275399, 3.4986693879763053, 4.0782532893648185, 3.701547691304865, 4.0326190323949165, 3.2612539188176184, 3.5354150473813983, 3.2422067327779542, 4.143244531970193, 4.228998238239049, 4.177992425788136, 3.1569748928982366, 2.901645670447561, 2.8818495566036795, 3.281694533635668, 2.9139195716336457, 3.6970624250737494, 4.763744204177051, 4.6413784512933445, 4.299327030665394, 4.710457602653449, 4.157070644268558, 4.134477765707107, 3.436659397488251, 3.003473878994045, 3.1270774914554753, 1.4370354144047548, 2.8030790598929105, 3.7447621911897815, 3.909627521814229, 2.0409650924134604, 3.2737859417066946, 4.144043531100613, 2.199629075899669, 3.772339174916654, 2.4400185676259047, 3.3942730826939465, 4.495546650892325, 3.75098442369403, 3.399957918665102, 4.533303643982267, 2.9916492809382693, 3.3076389779194555, 4.306358437221964, 3.9908678469361862, 2.2998338488805605, 3.925175873525078, 4.070123794526127, 3.701802867635726, 4.6432072596247, 2.1575895117333452, 3.431283557829597, 3.7244934789996575, 3.8984562608490103, 3.76698823704055, 2.725900135176515, 3.7474754144433127, 4.009469746262082, 2.626254715139138, 3.9800208446663223, 2.3431391197792877, 4.355721803068992, 4.164128023652088, 3.869218087241066, 3.866720411675198, 4.3024330594565665, 3.9752054289955927, 3.002009493523448, 3.8731903231994327, 4.366168234729236, 3.579778777919049, 4.23997644344923, 3.120717897505548, 3.47922752207128, 2.4775535867617196, 4.260983640760566, 3.347340987659319, 3.3558833701183537, 3.6163013923256027, 3.6506438958340763, 2.29563508702932, 4.162933005850794, 3.8768227703184888, 3.7336578705002346, 2.8056463533454767, 3.6018888832123537, 4.146220696626564, 3.519876067309143, 2.9641033574993085, 3.201044621745136, 3.8895141110636637, 4.626392397898139, 4.302961619873272, 3.1962364356241797, 3.1141020561803496, 4.00677044658589, 2.273580943806477, 3.4975688898442603, 2.879780298802112, 3.2741206430850536, 4.481450367641349, 4.209364119862294, 4.2052226588870285, 3.0418662691806646, 3.957385124328442, 3.0701230983472607, 3.1023859013711617, 1.6399031411697582, 3.131428609374145, 2.5322370979580433, 4.094644553026926, 3.254559623489332, 4.472814268796374, 4.3934887033197345, 3.1988428221977383, 3.825873455460243, 3.2138101323157553, 4.077419749052153, 4.130122363610795, 4.005154508331172, 2.596889622768519, 3.7768212280145375, 4.1753991595086095, 4.162960585244371, 4.2312262783745105, 2.3448487744199467, 3.0304350121847365, 4.5010309337975665, 3.7228636171675995, 2.3319539352367293, 3.4669635280459943, 4.116403623514609, 3.5465434665701867, 2.111777193630156, 4.102759321004969, 3.7968508295399617, 2.9341446387640318, 3.907297732459747, 4.515537159296756, 3.6000520420479183, 3.0039290728686137, 4.1863216704094315, 2.7838297142207176, 4.5085576983941085, 4.071469294067132, 2.41545041540993, 4.268452568958926, 3.778941895947821, 2.6290924473054185, 3.6723652120062793, 4.413061772165077, 2.894805177557207, 3.4448630621523857, 3.9006090601146166, 4.538574789049771, 4.435073341372593, 4.315931967687447, 4.421607635518446, 2.9103618298622393, 4.1932620381910874, 4.426718123924337, 3.5069150911335623, 4.512478791981861, 4.230562766362051, 3.8923654990461816, 4.389040388120789, 3.7342257917990347, 3.4511203713610867, 4.193150917333472, 3.6919827291946676, 3.5655030947292725, 4.290797232978186, 3.329120380143651, 3.6544656500527326, 4.524163886503137, 3.274500328328664, 2.754392861874578, 3.3264963213373147, 4.112773586245476, 3.462449611376891, 3.9965216226194302, 4.696580615745574, 3.666392265088633, 3.6824233900676266, 2.559433325396894, 3.709408621757561, 2.55892377601848, 4.1674670046025994, 1.8909927682010341, 3.6530936421625633, 1.9419756870776672, 3.6069332346258802, 4.2680921625147095, 4.263041117073615, 3.323443041483371, 3.3175940679562683, 3.7653573041640813, 3.2499120940299875, 4.438840472326301, 3.423026340944925, 4.75312265675565, 4.411508490008387, 3.4811211285894847, 1.6374333127585703, 3.342974071835591, 3.4912031373889714, 3.025536858333277, 1.8420156477446323, 4.237675840054941, 4.465078382778634, 2.168139834701432, 2.8062370343380048, 3.7905418424384423, 2.3646609539299885, 3.1696121459006688, 3.931818490960546, 3.093629042268875, 2.021052234728808, 4.394812781972523, 2.7334981242263714, 2.7998777081491806, 3.7381977599962983, 3.1495873640750927, 3.658408432289804, 2.441064174731899, 3.398768791608067, 3.2064081443930665, 3.626719709070065, 1.415671425424088, 4.166513239554827, 3.958465540377785, 2.5643020255270583, 2.4330800741719676, 4.244737235855011, 4.572783947529106, 4.486088793223201, 2.1908715473946256, 3.0727364467094893, 1.8537348818065005, 3.8477744393323494, 2.564441261300456, 4.007138618102085, 3.9969851170881814, 4.090450610875535, 4.641452353357687, 3.8675534164656584, 3.284480855670232, 4.185361479095194, 3.046938735509974, 4.037281020953806, 3.483002685858069, 4.214474340507081, 4.297842563112095, 3.573639015834428, 3.5681234048801707, 3.952827027077395, 3.850464099608844, 2.7676199925862304, 3.287872585557973, 2.8249372019885866, 3.888108633035658, 3.709070707245969, 3.7767575008720975, 3.7585240408235006, 3.8675044161838668, 4.371686523294519, 4.373335663925971, 3.1292659029477394, 3.167845190384035, 4.237626304250943, 4.067041596473094, 4.3111047705282, 4.465532773369895, 2.6688954029809953, 3.3578152664742427, 3.823102128047429, 3.3145680997347986, 3.979088232745662, 4.434067095148694, 3.617389841208027, 2.067714694333029, 4.14290233328096, 3.696335453679953, 3.3520688454494696, 4.389991743318637, 3.7503016328821777, 3.1327430486272374, 3.952393254091042, 4.70161987969815, 4.268275578870051, 3.0354177785446455, 3.0090221568028297, 4.767661013587162, 4.392451396807924, 3.7454530148347147, 4.401028052688102, 3.3483041243456855, 4.169221910869612, 4.042957556330777, 1.8886200031895704, 4.0911706204806615, 4.6760577982689995, 3.9087254346592752, 4.145475249716682, 3.4275959519233865, 2.8741985508554913, 3.5940217942542967, 3.8057241647219175, 4.263785225177983, 3.684416068193826, 4.1078430333005915, 3.824565710234719, 3.426491169613699, 1.9723231949340456, 3.3415768944017685, 3.8825378632942478, 2.871735951994076, 4.37525256566011, 3.901518376819343, 1.7507512841019202, 4.066009645183336, 3.4522031972603537, 4.479043463089293, 4.21665525468847, 4.278372582291288, 3.78907397607351, 4.025628593287058, 2.9551317539926663, 1.8208552910825593, 3.0539872787771154, 3.768697088397901, 4.168328659831047, 4.212057796555328, 4.234178612292741, 2.8899878875587586, 2.949596060955708, 3.18521351430985, 2.7184542344329854, 4.236873360030186, 2.921023273687941, 4.2896828112688015, 4.094738804935073, 2.778398180252704, 4.570112227246492, 2.942635075569145, 3.894515352939658, 2.8105078239258683, 3.3111439707536325, 2.717234850371347, 2.6219766960015023, 3.0548660707161357, 4.565048864794674, 4.228149167782427, 4.445781911152368, 3.909353066683975, 2.9282664792767363, 3.3524675417313707, 4.107775825263817, 3.744236576145206, 2.687874309939474, 3.141822827619365, 4.4596709473098635, 3.7999718529528854, 4.407995196580027, 4.07242466568152, 4.147214358078636, 4.371686255533417, 4.350014475165212, 3.207690987836042, 3.7082053033620834, 3.0848124724406882, 3.555165909598925, 4.557778615334507, 3.8274232567225974, 3.245853638996556, 3.904583705922908, 3.217580744163799, 1.8214522644610007, 4.050737622930461, 4.466611315091519, 3.8228046454623437, 3.7921698299427815, 3.9351657725052402, 3.496657966572918, 4.06982604417994, 4.1034252428673526, 3.828695657482568, 3.3267755961674172, 3.7642798334868677, 3.0345349701890854, 4.352436106577915, 1.8004098565646616, 4.017386906546341, 4.082694910536196, 4.053520196309588, 4.556967299193364, 4.3581514673147765, 3.7437372016886945, 3.8018598364879344, 3.7173418477079814, 4.191238032015874, 2.7339498372066044, 3.5609806097048837, 4.07641216402274, 2.9786786653629918, 4.1672517246760385, 4.224810722354121, 3.8099357791060875, 4.037854029713557, 3.058392484438528, 3.893186454587021, 3.743358587489494, 4.145469626733526, 3.3293458349921137, 3.817206296327357, 3.508420711813973, 3.5388190942798623, 3.7703823767782145, 3.727491064544242, 2.835442005569217, 4.313512478363564, 4.533438060055817, 2.2896921293551746, 3.282267810156521, 4.114352841229127, 4.297620053635763, 2.8128983950506607, 2.9873621579231417, 3.8949767053195883, 3.149632615701447, 3.4979319738995045, 4.155836801107374, 3.1585346013213904, 1.894378741225067, 3.56936474535223, 3.2827521899912826, 4.104918011014835, 2.8443506852167273, 4.26886438553486, 2.8433709473419944, 3.1526031573746605, 3.619733286378746, 3.6988143859686327, 3.398864114560624, 2.1150784202651884, 4.402496454575239, 4.447752365107044, 2.652378559361726, 4.36395170832119, 2.5137958552937603, 4.593708406659712, 3.3359399876679947, 4.589622907754908, 3.274000953872152, 4.009855590011054, 3.597662809728639, 2.266021244594305, 3.552997044667157, 4.1995051560613454, 2.9155173021333813, 3.0044410320969517, 4.479262759432394, 3.716747685821118, 3.75293131467167, 3.6715281907992785, 3.865545475956606, 4.109042067518425, 4.232872473633832, 3.084630127129758, 1.6545342772233516, 4.123113448986851, 3.830719395896679, 4.02331620840425, 2.670040349456086, 2.140910404885848, 3.5371407676882183, 3.634982013415688, 4.642178521468175, 3.7976546483702296, 2.502716971908969, 4.140195000771688, 4.388223181235388, 4.247814078685991, 4.465112388438675, 4.113977440163159, 3.8212221773454615, 2.4428268460708895, 3.3573059848569313, 2.490391125068962, 2.8102738007221193, 4.451088132924323, 3.7072418989146145, 3.5843213450261397, 2.803768812493433, 4.022800500520474, 3.049911419272009, 4.154879555165267, 3.455518615233829, 4.202947492797494, 4.364821128621616, 3.668160023888575, 3.743387237927482, 3.9304588000811, 3.9425755254999073, 3.5814075687066955, 3.006087495117376, 4.261718644987443, 4.200935803633004, 4.146038083554531, 3.3856543883206465, 1.8706972799006414, 3.906742395932773, 1.5549671773085103, 3.3399756830076983, 4.704243938504486, 2.938455860278401, 4.423479553387334, 3.5705509270371345, 3.62174738539316, 4.125201985587812, 2.798252398255868, 3.5046369796718984, 4.617701943549319, 4.188266954820455, 2.955119436981942, 4.274424444832163, 3.224452297342064, 4.696190220057856, 4.539335766103608, 2.7959858005216196, 4.47690699725095, 4.351125951502467, 4.099043332421875, 3.149633151223652, 2.5642559706173964, 1.8458473091240881, 3.150116995536208, 4.53462906144057, 2.0880672157482945, 2.124450326620348, 3.8547158781584163, 4.283503956063187, 4.262672677796317, 3.565860823562463, 3.1234027380821945, 4.209549410545353, 3.897853798367964, 4.394754945574343, 3.172127761460416, 2.9311620478411977, 3.477922186695679, 2.629216688457065, 3.996145418270154, 3.816912026875503, 4.001224310865928, 3.7775800629795535, 3.8056965853283407, 3.0562466469615917, 3.871075546010408, 3.9076056577278373, 3.568725599600115, 4.320687404871174, 2.256802497589882, 3.396307531552165, 3.3613716694401363, 3.402003881250736, 1.9106433538856047, 1.8925971927283367, 4.26850772774608, 3.402059307798992, 4.150989521865426, 4.072931269687804, 1.8773195474923048, 3.3397871791914064, 3.800274422998922, 3.7326090502610083, 4.094360726258079, 4.394322243632399, 3.518814662298091, 3.488152802907157, 4.043485045703071, 4.540976070618671, 2.496197524580737, 3.9727963823547148, 2.4088932137662193, 4.2480724681500845, 3.383852891621766, 4.296962164606459, 4.079300770798532, 4.373180898008618, 3.155797011807515, 3.048980146156862, 4.205024783432142, 3.6432951923708226, 3.9280369009072924, 3.191562665576772, 3.7127315370419103, 3.097449993204223, 1.680554899540854, 4.387100726692922, 3.6445317131430324, 3.954076668143637, 3.1122221054783816, 3.577239063860059, 3.8291754853785838, 4.253336919190021, 4.352511615208873, 3.826697356373212, 4.036298069945841, 3.5416332634691066, 4.092473010484133, 4.391126514871827, 3.6280976077044933, 4.2861405996413495, 4.271051725982712, 2.4410317756384736, 3.8866102419050197, 3.723359778490879, 2.944685590093525, 3.2109624929886755, 3.765051788745915, 3.890893348503606, 3.7921928573976125, 4.45472165108779, 4.135240617088663, 3.9012093805068417, 3.1438066696291758, 4.0094116421027985, 2.3277966763564053, 4.175218153003192, 4.00912781533395, 4.194906626883793, 4.0137922137427635, 3.1259641407905017, 3.2402477925506936, 2.826677649156055, 3.214548349675864, 3.4973857412500227, 3.9031495774569143, 4.580432811188473, 4.1206468337088955, 4.198712583197391, 3.595727432478415, 2.99430573883803, 2.7828866596170525, 2.226298349488432, 3.4011620403438867, 4.113237080714228, 4.065980191462041, 4.375467042303363, 1.6317285285852652, 4.300574797403917, 4.389847955606495, 4.265744165405244, 2.7824127224652955, 3.043166517095315, 3.3105283879785548, 3.0149230759838535, 2.5249015147888203, 4.298980012276311, 4.7115013354317234, 2.305494318591371, 4.4407675489823415, 4.2275311751574245, 4.294277591790916, 3.674514262616448, 3.92548594088199, 2.499827026327664, 4.1365015041212185, 2.5162613995273055, 2.788082831575803, 3.7417252447631015, 4.2843615948750955, 4.153901691618253, 4.004461542597418, 3.4052105882165193, 3.764988329364578, 4.265561552333211, 3.139289807587943, 3.091823529153454, 3.2151642002120457, 4.183391292901621, 3.559723203566664, 1.796355953469975, 3.6361778345002898, 2.944462009572781, 1.80697683148862, 2.153935509845522, 3.6064424285246544, 3.9497627690182413, 4.24323964800768, 2.3318278197573634, 2.9209560656511666, 4.207604393895432, 4.1107779627471475, 2.8318773020091403, 2.261334354252866, 3.951457429037149, 3.3455900978088464, 1.825834174906479, 4.0539523627293255, 4.231891664714688, 3.290918368101041, 2.909824968851351, 2.9932467436769015, 3.862646158736707, 4.496758537643087, 2.5510813210818704, 2.7189517345617786, 4.137430635147544, 3.501431075989423, 3.049902850916723, 4.698671294435356, 1.8150933399138303, 2.8206286580852447, 4.080841468183395, 1.8136391293651353, 3.484008932081968, 1.9955272382123799, 3.1431372668724573, 4.011551856596578, 2.0097195138186685, 3.4616602516461685, 2.647321623176373, 1.1382184418638701, 3.4493858149378775, 4.517419519848648, 4.142141623988225, 3.4978350443803317, 3.868757002622238, 3.4677022809283087, 3.7783158704897386, 4.1971890225231, 4.4089355735726645, 2.5461459484371374, 3.760049208064408, 3.1093163619920183, 2.54510998073084, 4.034032007733797, 2.1845404700021347, 2.398786303184183, 3.615876990977843, 4.275646238743725, 4.035677131948709, 3.0202354562611706, 3.569018530246455, 4.196904124709841, 2.1964120601314323, 4.336029045010749, 4.20267705408378, 4.370410106118009, 1.4734033967745068, 3.6637735615043505, 3.453078508305039, 3.876490478790054, 4.037611973676728, 4.0867434584088285, 3.927659625513606, 3.4327843588101596, 3.5500428364212078, 3.850193393134027, 3.2631603778687523, 4.547974810320713, 3.191568824082134, 4.102486740202434, 4.688627575473554, 1.7187468705421125, 3.287967640749427, 2.160092408640715, 4.331912753579136, 4.073805241926976, 3.5188481324359264, 3.774237065612502, 3.1185645627177365, 3.7248870878206075, 2.933765221281524, 3.571568686988449, 3.8930102677814524, 4.831960629264296, 3.2644635711555314, 4.047679791137772, 4.005460559271544, 2.679177964846395, 1.7243788236954867, 3.108745495321089, 3.1725202992369557, 2.95087462022104, 3.7995707468210598, 3.2965100232084614, 3.7786623533566157, 4.101143114989148, 2.3911591281741336, 3.8855844491206244, 3.6670065090581976, 4.615497198629791, 3.510908747980144, 3.5575460380407127, 3.88755383203089, 2.213621467842802, 3.2659410769201602, 3.6926312465853766, 4.259603600037315, 3.956754546931613, 3.9421224737141602, 3.9545647966338358, 4.058249392905252, 4.20404317122969, 3.247342926249703, 4.0455941999089395, 4.4066724567327515, 3.7051536300747556, 2.3887506170554613, 2.7213792567187416, 4.116799642185483, 3.408332414912751, 3.909083163492466, 3.0370369299325963, 3.900604508175871, 4.249472055433831, 4.546932684109054, 2.7695719710248214, 3.2179242816585463, 3.1281640660101804, 2.0230435740494936, 2.12850677344551, 2.5555291007586103, 3.3712930215780106, 3.3338975059766955, 3.729825673598573, 3.951301859836488, 2.616541948900257, 4.334149362069883, 4.238889065611216, 1.6005277999751732, 3.186215208595003, 3.722440019103148, 3.716219125404413, 4.540305596817541, 4.262945258598853, 3.744348768047232, 4.053111057344681, 4.080700358082278, 3.564725784248171, 2.397853155741317, 3.179371502571417, 1.8561504885943945, 1.8301261176214545, 3.961975888434016, 3.676088162378044, 2.688096283893602, 4.521591237828517, 3.669107630430985, 3.9645439851698905, 4.2066843667465985, 2.3318918146609056, 3.948979300031778, 4.478720007677246, 4.382849751426658, 4.062726358542184, 4.644710470455186, 4.320591546396412, 3.518101614481634, 3.933696567334795, 2.5435615182739992, 4.0878276231136095, 4.180990546854926, 3.7777348288969064, 1.2803101551825535, 2.282168310130763, 2.083324898858599, 3.550415559876149, 4.275613036366991, 2.6953143199387446, 3.370205108217792, 4.120506526891087, 2.669353809988796, 3.551583533806071, 3.889559898212223, 4.554240420123596, 4.076632799171354, 4.111028587139263, 4.521628188860689, 4.008230547878845, 3.237939156323323, 4.143116274402007, 2.21081948178373, 2.6602258339981844, 3.2221546393199043, 3.275971140065726, 3.576207648092508, 3.7063628392144916, 3.833260984283387, 3.0916087847490985, 3.9580049912811632, 4.064859075725089, 2.0746084716828177, 2.447034979560724, 3.327868329227485, 3.301831239602167, 3.8404043149808804, 2.5417763550023826, 4.044180153525648, 1.6717604200036393, 3.250264467641124, 4.1792841053475, 3.3698559477398877, 3.4481766057981416, 3.864796815913492, 2.297913734013189, 4.1136298862518705, 3.50517919590484, 4.322817712204155, 3.384571026899173, 4.591701269433967, 3.773668341030394, 3.940442005033695, 4.29863513597605, 2.3907457050315846, 3.7293193373533913, 4.081961780637037, 4.154981839906494, 2.119668648848558, 3.608959115128813, 2.7706079387311187, 3.143948315252497, 4.114089899826287, 2.304376148226549, 4.085267559210816, 1.716440510284115, 2.3749957292104122, 3.589448702381499, 3.507263983850364, 2.9790205962911234, 4.029205881618961, 3.66735245640287, 4.036977647624461, 4.152008085100048, 2.880315285485281, 4.239486440631312, 3.3783806579661446, 3.6404775422872433, 4.224039570378382, 3.8232269047212815, 3.9362740357092636, 3.186617653532342, 2.464384560209351, 1.743240183529886, 3.670769623595365, 3.201032572495515, 3.3788540595956955, 4.016319075268824, 3.9950344774551043, 3.9107039214470323, 2.7111783619896626, 4.06856970908613, 4.204873230648022, 3.9715606648658124, 4.682773782246604, 2.8932077148185744, 3.2471538869112053, 3.9129517759040926, 1.7426495025373578, 3.9776184920530113, 2.9740616606693537, 3.902674033738542, 4.039126162712424, 4.4989809547953925, 3.722715545277813, 1.7355970767342273, 4.50616659174711, 3.4461823211053266, 2.8235643908151085, 3.641947818502099, 3.7305885249801296, 3.478299729850468, 2.7930195430260496, 3.279041021108036, 4.320876979731877, 3.4360869242507053, 4.095415705002666, 1.708719886649228, 4.050454867206023, 3.813573045924992, 4.240034279847411, 3.3587098563183213, 2.14719877438246, 2.7779052320626567, 2.48769771613703, 3.6108669129854603, 2.8739235602030315, 3.5704304345409255, 3.536954941482953, 4.086370199431682, 3.645891404022479, 2.928137418425241, 2.2843567216230265, 2.464713103082348, 1.582724899779697, 3.7365697724919595, 1.85680168359613, 2.734104335362855, 4.26881752734189, 3.8194728940616054, 3.723360046251982, 2.4016899045817244, 4.048362046427419, 3.7423815272257883, 4.205462840596139, 3.9757310440401676, 3.7116690609864467, 3.755652570758281, 4.26442651301892, 1.805502003335018, 1.697618377451259, 1.9985233510709, 3.4660785776016123, 4.6336969207794505, 3.45026782001013, 3.7059772632266217, 3.215112254558124, 3.8349896499623366, 3.8440836202929067, 4.151770581001964, 2.5559559119562936, 4.355271428894271, 3.213918307801241, 4.224718077012591, 2.4217738616109945, 3.3915376352688926, 3.244921562598101, 3.3261814342805547, 3.851210617563136, 3.1015727109023, 2.180292975630205, 3.58691595011118, 2.870187221776132, 4.6581622527319935, 2.732004552795581, 4.287000916064285, 3.604375312811908, 3.936109094870008, 3.061737891655504, 1.4889039531285262, 3.553985350897176, 4.012094876112828, 3.384025865294102, 4.020384759852028, 3.459403293311617, 3.609205455343285, 3.4313288094559513, 3.723672791219921, 3.985572603369442, 4.244799624191938, 2.6380321872408405, 2.213255973937634, 4.304738482550706, 3.7733649677010495, 3.3556239096098492, 2.7132687729183425, 4.149563426232513, 2.2651694965266564, 3.1085243246502694, 3.0008158145276678, 4.148956144051618, 4.13501007477925, 2.723566597166595, 2.8703572500763386, 3.866634728122338, 3.358950573549637, 3.4286608378287746, 3.0463983936047514, 4.262368768944768, 2.5901725677465044, 3.8516591174101373, 1.5966828844211343, 3.9548960171178607, 3.691573054707556, 3.689851618578379, 4.018094331379642, 2.1598640084201226, 4.09071114242845, 3.854198831469127, 3.3544738756738073, 3.6597011828935786, 3.0868935117307745, 2.9470689316685448, 4.048360707621905, 3.441766672760909, 4.300839077612269, 4.082851283020165, 4.704140047196644, 2.1924188049265045, 3.953364155849386, 2.9934108812328493, 2.6670058128793306, 4.5651238379034265, 4.033471851506976, 4.016067915354503, 4.079301306320737, 3.573359741004325, 1.7506202150421546, 4.399679072252763, 2.2164808886584, 4.256525953923027, 3.9490092892752786, 4.070201980768112, 3.1865466968401295, 3.9986495201024863, 2.5145769144302994, 3.507576728818303, 3.471749222234325, 2.5932459296831496, 2.020831867341296, 3.3885317491301246, 3.693766553660771, 2.4981497707804303, 4.084569238255008, 2.836702357079566, 3.4898048889107383, 3.50421766578509, 3.1542557789004464, 3.948814626953625, 2.773844902701506, 3.9074131374950047, 2.6232386540784676, 2.897186644804508, 4.100112770266008, 3.528354187103533, 3.6459152347606176, 3.6955889357256613, 4.570455496980137, 4.674577614893344, 2.2247614007590064, 3.039614130545962, 3.091753911266755, 2.153388875554386, 2.650924348813031, 3.400727999596431, 4.250094332236476, 4.233316421542088, 3.6542506378872748, 3.530135066197506, 3.7914455361600123, 2.3630364473199843, 3.619557902856486, 4.222109548350211, 4.017688941070173, 4.059248677340481, 4.2739904040847065, 4.308879408003765, 1.50105615689344, 3.3302096323093826, 3.9245246785233423, 2.761600722997819, 3.543104075206168, 2.9060998763907646, 3.320949114572941, 1.1302477293590731, 2.179700688071061, 2.6960677996817073, 4.222085985373175, 4.020079779956068, 1.9936630854154704, 2.868502736679126, 3.9774120482428392, 3.882565710448927, 4.154651958227983, 4.182089973942561, 3.841989192947687, 3.3379216875889837, 3.4984417910390215, 4.175260994779623, 4.0263713625859126, 3.5603955516955117, 3.572026290712942, 4.235046158265448, 3.587554828102192, 2.390058630042089, 3.950282225557454, 3.631618933965935, 3.8539728410984586, 3.8540277321245098, 4.311607625879047, 1.5304539161185864, 3.6825168386924645, 2.299320283085606, 3.28772879784583, 2.0013861189002817, 2.6666828929894897, 4.16767826811262, 1.3558629667223288, 4.497728903879226, 4.4983206559161655, 2.7131351601281013, 3.7116468368149236, 3.2114415176013833, 2.340785231925563, 1.5406170565321875, 3.0229288651931023, 1.395698455371882, 2.6185884470080962, 3.653534376937586, 3.9383850642428504, 3.7891666214150406, 3.7303204961163394, 3.0571449854611075, 1.7114266836362944, 1.9005369788257733, 3.7692036924041847, 4.299007591669888, 3.56100122730979, 3.5892079851501837, 2.3332622159844596, 3.2448382888951652, 4.42393260517308, 4.290842752365643, 2.784216896775203, 2.98606565866393, 2.462771567326762, 4.56443569186952, 4.495473819872394, 2.508716962697987, 4.349831058809871, 4.55132343067092, 4.176101764642061, 2.7768965759888338, 4.005377821090813, 3.61778077241795, 3.089695363909295, 3.331472661430759, 2.34751942365815, 3.986251377764754, 0.9795401331586674, 3.112489063297761, 4.154808866234157, 3.4452349823240187, 3.885100604808068, 4.179980551975589, 4.071267402195705, 2.966469294602654, 3.821430763244455, 2.7812945521004733, 3.9826615046610248, 4.006506701899744, 3.9160015748637016, 1.8780368794864042, 3.909519881850949, 3.6678229126602915, 4.057084632108562, 2.4924494046653196, 4.212504422074611, 4.4368643953884686, 2.903961000702498, 2.143148753823762, 3.0882320494831084, 3.7325391646132067, 1.5741886758260244, 4.0342430034827155, 3.9251855129247746, 2.521092077580888, 4.302404944540784, 2.00725263077961, 3.756121152687984, 3.4211348765155414, 3.7617149498842255, 3.9902037994015216, 1.9587337834504572, 2.921939016659132, 4.026023273152418, 3.1398336303875007, 1.651880363054066, 3.748640443001105, 3.79511198893911, 4.11327108637427, 1.6574827286055935, 4.033349216921945, 4.079075048188965, 2.6702553616215443, 4.178124967533966, 4.227666662275384, 1.7158539795886782, 4.046485041097581, 2.62089547666885, 2.004603670190724, 4.0630519560430525, 2.6028390067091296, 2.16536770400531, 3.1678893709659786, 4.538818451653216, 2.5485164374792286, 2.9395831345207144, 2.8439618960956254, 3.088043813427919, 4.25716590295845, 3.8635600273801796, 3.0639324616531294, 2.701975145129195, 2.8948638172386953, 3.193641830539139, 3.9562093853265416, 4.4060790981291955, 4.362024363904046, 3.6641864491246947, 1.8251027854544886, 2.3448846544077067, 3.8633637584919094, 4.4182622283014705, 3.9711911545441043, 3.99688925861342, 2.7045263729156006, 4.3209864940228755, 2.929463906927954, 4.238804453102768, 4.022095485537099, 3.8774544187597284, 2.392480529215896, 3.6019148560393144, 3.9191555328922556, 4.143352975216782, 4.128758924075911, 3.561983107273345, 3.8043336813156623, 2.2927352342872163, 3.7819346617925573, 3.6691844778674563, 3.0079503091087725, 4.467891213162365, 2.16830905971833, 2.9461293579592147, 3.6368223354744584, 3.6638196164140124, 3.856362073417738, 3.614028903847095, 2.9282605885324777, 2.580174368172159, 3.727924837530596, 4.3129828469024485, 3.8127745823167785, 3.716514198139574, 4.259997476619368, 3.0025763437778368, 3.9802173813156942, 4.21016686764815, 4.152777094986966, 3.4802013692017537, 4.331683817836338, 1.6530858235383645, 2.8142679930909065, 4.642506261057864, 4.566063679373859, 3.3103243540183067, 4.239573998511891, 4.1064415716891265, 3.672243916226762, 2.092482328570506, 2.135302416351164, 3.0246955529486335, 3.5448822766891146, 3.0221885057441717, 3.776611838832236, 4.329034053964144, 4.066638616013549, 3.9387095906993075, 4.036345999183222, 3.9840731411943926, 3.966106371204071, 3.8786148953787754, 4.4046706747290605, 2.6969195477493555, 2.8466314742894183, 4.087626534525492, 3.1208418708960926, 3.8171010662140006, 2.6337737146637012, 3.0101231904570804, 3.503379305772576, 3.954282308670501, 2.817949172730652, 4.165747710562243, 3.5285600953914993, 4.300724208099217, 3.91725389354097, 3.821988777382455, 4.065973765195576, 2.594059387913114, 4.073619415721711, 2.5528032927332527, 1.8815413367983762, 4.0272560452691915, 2.106091018853488, 2.5141380539829945, 3.554634136048988, 2.3926631422879288, 3.7797783816326165, 3.444674290574991, 3.99502805118864, 4.298626835381866, 3.7444687250212363, 2.529149276921853, 2.6934705169856397, 3.880348916279779, 3.4398449513269225, 3.197363709866493, 4.323202752669819, 2.8441734273667487, 1.6367652488073654, 2.4518228158378763, 2.412467824487096, 3.565422230876261, 3.938331512022313, 1.812406892770568, 3.6734164420954296, 4.389538423771787, 3.262895026615989, 2.7524076810592546, 3.0256881433562954, 2.537626593432934, 2.509259178930928, 4.0014794871967885, 3.2127313228330276, 1.8195507589902666, 4.296408702407205, 3.3568432936714876, 1.908667009186669, 4.1857194756894875, 4.477362191125519, 3.2295030750220555, 2.042487582043341, 2.0384575096867934, 4.233624614571281, 4.01960370071549, 4.188017133711648, 3.8228225854562234, 3.6168891279460014, 4.229864980928448, 3.2180913645866234, 3.9556037097122627, 4.075860576151204, 3.2346307001385184, 3.658069714494905, 2.606868543543471, 3.8502006226837993, 4.083057726830337, 3.6146616233327453, 3.031340312472923, 2.281259528948242, 3.809378300490292, 3.2252124711125933, 1.1984376460971515, 3.8775631297674193, 3.595159778940718, 4.028878677551477, 3.510191148224942, 2.608989211476755, 4.335364997476084, 4.212246835893826, 3.9247876199261817, 4.26826647499256, 2.998375975359981, 3.547620669486298, 1.9997956179503187, 3.452640718902145, 2.6715815823631544, 3.537164062904152, 4.194770068721422, 4.205265500663459, 4.213513345909537, 4.322787187438449, 3.9653135305790146, 3.003551529713824, 4.12504534534274, 3.835061945460062, 4.446071628665475, 1.7372835700395033, 2.427608911560757, 4.126018121428803, 3.6631534267905264, 3.2554078906626454, 1.2765529313896449, 4.116372027704491, 3.7980822628512207, 2.7542429156570734, 3.2984609306026416, 3.474524030541474, 3.7414700684322404, 3.7639820831406787, 3.554610037549746, 3.2294562168290852, 0.9958716860948768, 4.369472674497501, 3.455866972428425, 4.195070496678638, 3.5761875660098057, 3.1865391995292547, 4.119997513034878, 4.125668157667591, 2.788745004782749, 3.798110913289208, 3.952914584957974, 4.414455736465667, 4.323021210642198, 1.9293239749756899, 4.493272288086098, 3.45647827102586, 3.347755481846279, 3.9296469484177514, 3.848462317605153, 3.6415777726581853, 2.5972781441285187, 3.408038680983103, 4.469215559576256, 1.0318658739652773, 3.340384554211502, 3.207803715260273, 2.657277248735391, 2.6074739513966474, 2.7653092142700384, 1.8647351773076535, 2.0498212908848448, 4.232444055869532, 2.360789663907335, 2.435243851642784, 2.8069329454438896, 1.635967722363011, 3.7654282608562935, 3.5269122935655615, 2.9894445360187416, 3.9852994870447005, 2.770163990822863, 2.15104382381705, 3.214136533099931, 2.3933553047383755, 2.7504945279805533, 1.5346556233419564, 4.343932817239874, 3.6137450770782467, 2.9030045580436985, 3.472137743594325, 3.261526767381257, 2.166926609145156, 3.6431388198868526, 2.4176024113922283, 2.0215408987412125, 3.7844925836065304, 1.9773905738024036, 2.876178644209864, 4.13024740804575, 3.8512888038051205, 4.117737341567095, 3.0172164498283705, 2.773955755798019, 1.2460238815056444, 4.785958200778199, 2.120365630998853, 3.9317162062193196, 4.27941203089192, 4.37369928350342, 4.166316970666557, 2.736792121311631, 1.947541637119229, 3.251099078998201, 3.2166344764269015, 4.069368172694344, 3.404077423229946, 4.044591434579376, 1.6934806651314316, 1.4121554543847006, 2.343477837574187, 3.955158422998494, 1.8157825569921473, 0.9714233569723545, 3.5533681615554817, 3.992463167585998, 3.1511213674323884, 3.90539796743618, 3.1825704444652225, 3.0907449874318296, 3.347429348823206, 3.755364192050687, 3.6555380332689955, 3.588728157254168, 4.358292041893687, 2.069304124238581, 3.9418568547002946, 3.973670622354989, 2.3687421686571493, 3.536358101985063, 2.956317667916468, 4.117783931998962, 4.550041926033459, 3.6995828603333454, 2.4927629529165665, 2.9978142125665426, 3.5831892510839776, 4.127907176008263, 3.9497290311193023, 2.5717481940316906, 1.6057594502800299, 4.229269747997174, 3.2819015129680453, 3.976743984291634, 4.095113938239938, 4.394599644134784, 2.846359964531293, 3.1866280962153466, 1.7340042998148912, 3.1566345685367208, 4.206572174844573, 1.6722834913177391, 4.509059482700544, 3.260140835913747, 2.122286549149532, 3.5775743007606238, 3.525450050183786, 2.0620515470111918, 3.2401149830437603, 3.8389881265087666, 3.694090812356125, 2.577641883662942, 4.195850752531869, 2.006064842528089, 3.858579403109092, 4.325323152842, 2.8683062000297537, 3.986952108570487, 2.5985915123372, 1.6971132461310394, 3.6976485541275323, 1.6790104535005534, 2.377012773596956, 3.598060167205027, 2.5440930240628337, 3.4010857284296208, 1.4347504750349724, 2.010378473892382, 4.447396778362675, 1.4975446039122466, 4.31040537852798, 3.1042358628296283, 3.743882863728556, 2.5125213124449686, 3.9979683358572493, 4.013777754643218, 3.955589786134923, 3.6415799147470067, 2.5988110764414034, 4.510193718731528, 2.5869915658465787, 3.1979817024914956, 1.6288978920882056, 1.2962545255642772, 3.9989895767028987, 3.6819834585759112, 3.6551259489319596, 3.594602300324923, 4.198376543013518, 3.6394453232363833, 3.6803519901772375, 2.431159423782391, 4.107822147934582, 2.0220462978225346, 4.630450049648264, 4.082515242836292, 4.739649453590628, 1.2197885147837866, 1.1298733993375163, 2.284797991920255, 3.635031281458583, 3.94247216971427, 2.834851056815586, 1.7547790804890946, 3.8687420080004875, 4.993704936475821, 3.840457599440315, 4.695687900229214, 2.631398673682864, 4.187506781049926, 2.9285339726183213, 2.9329927305002705, 3.544723226594119, 4.021412426964143, 3.6217838009031262, 4.671091365336355, 2.0113681189279147, 4.540678855794687, 3.498271494977712, 3.8697603034740076, 3.238400776464356, 1.066521925724998, 2.71571771596352, 3.5066401004811025, 2.405638577563055, 2.4896850390411753, 4.269401514306851, 3.5730512802140293, 2.128554301041237, 3.6308282354296995, 1.7993775036332504, 2.910075861004569, 3.677780412547028, 1.9061914239117734, 4.235186465083256, 1.8109643298298401, 4.27418801177849, 3.4544788988720936, 4.123395133666878, 1.6903469230661303, 4.075879319428392, 1.12477629898676, 3.258217240152041, 2.010183276048523, 3.135756967599086, 2.054170132834141, 1.6053445544514158, 4.122709129721793, 3.068640772882784, 2.9926051880748625, 2.2931186681862643, 3.6038630858224674, 3.0095134984262613, 4.375023629917313, 3.486776778600447, 2.052439726708024, 3.7558461620355246, 1.8835522226795582, 2.9801757176881165, 3.747086893083313, 4.5158595436643925, 1.7855803095339766, 2.404939721085041, 1.5920850246463383, 4.448458718895933, 2.17222278987576, 1.4002513312814262, 1.2159936705559502, 3.9293628538878, 4.405969316077094, 3.5293232145341586, 3.937462895005195, 3.7092993752276637, 3.9103445860472257, 2.4127047930629737, 1.1678328198210906, 1.9541170465179223, 3.5593129935573464, 2.288166426592062, 3.400954525489304, 1.6763349845625015, 2.182115625456198, 1.2845040973339454, 2.20901503971272, 3.7075388459774943, 3.4142180717109216, 3.709714672697932, 3.2599202007651327, 3.629556370191934, 4.338985663106622, 3.9818539371753197, 4.094084129039002, 3.450545488273617, 4.364452421583216, 2.3718519461037597, 2.551811505608899, 3.324509801716477, 2.2524982378641836, 3.216884833057914, 2.0139479971523073, 3.8599222250390692, 3.3725956793425844, 2.609926107575058, 1.2213547833539564, 4.087184193183852, 1.7155603795395815, 2.4771650654017203, 1.0806562979928307, 3.377434925751453, 3.204432067455234, 3.1259204957307634, 4.0503662382810335, 4.166533589398631, 1.1143629358226976, 3.542626657160077, 1.828671237670003, 3.7459403400416056, 3.241453520796094, 3.405909444694533, 2.546697000786468, 3.448502471060112, 4.055607661866139, 1.1522376099172713, 2.7156620216541616, 2.4839589678602065, 3.54525044820531, 1.9887468576895795, 1.2860334148719443, 1.804745042697721, 2.019414072302567, 1.9426184476046682, 3.394421154583733, 1.6871652517634477, 3.521889630801352, 3.4655328804743357, 2.2507580584578184, 1.08452069316709, 3.07681177069239, 1.7973675549159278, 3.5412040424214988, 4.0626950304931695, 3.4522307766539306, 2.0621661487631417, 1.1981357454538717, 3.4157625177512223, 4.737967378343546, 1.8449238010809195, 1.243695029315021, 1.687764768872365, 2.450107805975164, 4.193448132157455, 4.319058346322425, 2.8362112832172377, 3.6515430376169005, 3.725015880911, 3.489500444536983, 1.7074274038065562, 4.417010980668612, 4.178240640330327, 1.9007442259192533, 1.6421882144200923, 3.4418673509355195, 3.0067643951849696, 2.851895122046046, 4.449448363931466, 2.8546969742245665, 2.7823848753106164, 2.377356846613909, 2.4369331564396384, 2.542617660387026, 3.017014290195841, 1.7860527739996688, 3.497012482272876, 4.317096728484137, 2.463935524840144, 4.337077061966666, 2.8034817725913523, 2.6229834777476064, 3.683945076414199, 1.0191401259184072, 4.358127636576638, 2.6226793011349536, 3.283466844374355, 3.586050010705089, 4.440578241882742, 2.0106146391849524, 2.2675332915411808, 1.126432401406881, 2.4108604545876635, 1.9972485404610054, 1.9223986018157844, 0.9779006319269128, 2.526527360204338, 1.0240200050746084, 4.142030770891712, 2.4219318406615797, 1.7371006892063678, 3.708741361089664, 1.2789669316109227, 3.747648388115649, 1.6233327453299518, 1.2437105594589768, 3.5661861533022283, 2.5055233760262348, 3.5493737014255924, 2.6829169808843205, 3.863963543361929, 1.6723930056087384, 2.5099248330322093, 3.4966504692620433, 4.54880647630566, 1.9429420368972659, 2.5142414097686316, 2.619250620215042, 1.2674027312275102, 1.7864311204377659, 3.392902681370393, 3.440367085477163, 0.9376159070873258, 3.4535840412669128, 3.4097311989131898]\n",
      "Recommended movie ids: [2631 1720 2981  656 2862  619  631 1214 1075 3645]\n"
     ]
    }
   ],
   "source": [
    "# make predictions\n",
    "user = torch.tensor(train_df.iloc[10, 0])\n",
    "movies = torch.tensor(train_df['movieId'].unique().tolist())\n",
    "predictions = model(user, movies).tolist()\n",
    "normalized_predictions = [i/max(predictions)*5 for i in predictions]\n",
    "print(normalized_predictions)\n",
    "\n",
    "sortedIndices = np.array(normalized_predictions).argsort()\n",
    "recommendations = train_df['movieId'].unique()[sortedIndices][:10]  # taking top 30\n",
    "print(f\"Recommended movie ids: {recommendations}\")"
   ]
  }
 ],
 "metadata": {
  "colab": {
   "collapsed_sections": [],
   "name": "Matrix Factorization.ipynb",
   "provenance": []
  },
  "kernelspec": {
   "display_name": "Python 3",
   "language": "python",
   "name": "python3"
  },
  "language_info": {
   "codemirror_mode": {
    "name": "ipython",
    "version": 3
   },
   "file_extension": ".py",
   "mimetype": "text/x-python",
   "name": "python",
   "nbconvert_exporter": "python",
   "pygments_lexer": "ipython3",
   "version": "3.7.6"
  }
 },
 "nbformat": 4,
 "nbformat_minor": 1
}
