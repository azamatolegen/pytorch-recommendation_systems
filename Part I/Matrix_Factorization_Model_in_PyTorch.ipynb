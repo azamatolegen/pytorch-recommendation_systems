{
  "nbformat": 4,
  "nbformat_minor": 0,
  "metadata": {
    "colab": {
      "name": "Matrix Factorization Model in PyTorch.ipynb",
      "provenance": [],
      "collapsed_sections": []
    },
    "kernelspec": {
      "name": "python3",
      "display_name": "Python 3"
    }
  },
  "cells": [
    {
      "cell_type": "markdown",
      "metadata": {
        "id": "FlcZ96-kuYyX"
      },
      "source": [
        "# Matrix Factorization\r\n",
        "Matrix Factorization is a class of the collaborative filtering algorithm. The end goal of matrix factorization is basically to build a matrix of users and items filled with known and predicted ratings.\r\n",
        "\r\n",
        "Starting with our sparse (and high-dimensional) original matrix of only known ratings, we want to determine the two factor matrices that are much lower in dimensions that would produce our original matrix. One being the matrix that quantitatively represents the users (user matrix) where each row of the matrix is a vector of size *k* that represents a single user, and the other being the item matrix where each column is a vector of size *k* that represents a single item.\r\n",
        "\r\n",
        "![](https://drive.google.com/uc?id=1ZyzVuhcrOA4iYaw69EaBsqPPdLdDqvFW)\r\n",
        "\r\n",
        "The model is learned by fitting the previously observed ratings. However, the goal is to generalize those previous ratings in a way that predicts future/unknown ratings. \r\n",
        "\r\n",
        "* Accordingly, each item *i* is associated with a vector *q_i*, and each user *u* is associated with a vector *p_u*.\r\n",
        "* For a given item *i*, the elements of *q_i* measure the extent to which the item possesses those factors, positive or negative.\r\n",
        "* For a given user *u*, the elements of *p_u* measure the extent of interest the user has in items that are high on the corresponding factors, positive or negative.\r\n",
        "* The resulting dot product (*q_i* * *p_u*) captures the interaction between user *u* and item *i*, which is the user’s overall interest in the item’s characteristics:\r\n",
        "\r\n",
        "  ![](https://drive.google.com/uc?id=1--ADw7Bmz6fOOwbLAN2Krd4hcfEdH-7d)\r\n",
        "\r\n",
        "* Some users give high ratings than others, and some items received high ratings than others systematically. Thus, we can extend above equation as follows:\r\n",
        "\r\n",
        "  ![](https://drive.google.com/uc?id=1TZ8SmF-Fsrh93U2Ymx1sSgycn7GZEL4v)\r\n",
        "\r\n",
        "* The model is learned by minimizing a squared error function on the set of known ratings, we order to avoid overfitting the observed data we add an L2 regularization penalty to each element and optimize the learned parameters simultaneously with stochastic gradient descent, as seen in equation below:\r\n",
        "\r\n",
        "  ![](https://drive.google.com/uc?id=1C9D1Fd-FvA6hw12SFHN7m3csCeJpVRtX)\r\n",
        "\r\n"
      ]
    },
    {
      "cell_type": "markdown",
      "metadata": {
        "id": "b7kdjkpcvMBh"
      },
      "source": [
        "# Model implementation in PyTorch"
      ]
    },
    {
      "cell_type": "code",
      "metadata": {
        "id": "KgFu78zwvXTr"
      },
      "source": [
        "import numpy as np\r\n",
        "import pandas as pd\r\n",
        "from sklearn.preprocessing import LabelEncoder\r\n",
        "import torch\r\n",
        "import torch.nn as nn\r\n",
        "import torch.nn.functional as F\r\n",
        "from sklearn.model_selection import train_test_split"
      ],
      "execution_count": null,
      "outputs": []
    },
    {
      "cell_type": "code",
      "metadata": {
        "id": "oxVVBB5zuIFf",
        "colab": {
          "base_uri": "https://localhost:8080/"
        },
        "outputId": "eab2b735-feaf-48b9-ee84-9d7f2cbb6be9"
      },
      "source": [
        "# get the data\r\n",
        "!wget http://files.grouplens.org/datasets/movielens/ml-1m.zip\r\n",
        "!unzip ml-1m.zip"
      ],
      "execution_count": null,
      "outputs": [
        {
          "output_type": "stream",
          "text": [
            "--2021-01-26 00:54:57--  http://files.grouplens.org/datasets/movielens/ml-1m.zip\n",
            "Resolving files.grouplens.org (files.grouplens.org)... 128.101.65.152\n",
            "Connecting to files.grouplens.org (files.grouplens.org)|128.101.65.152|:80... connected.\n",
            "HTTP request sent, awaiting response... 200 OK\n",
            "Length: 5917549 (5.6M) [application/zip]\n",
            "Saving to: ‘ml-1m.zip’\n",
            "\n",
            "ml-1m.zip           100%[===================>]   5.64M  17.0MB/s    in 0.3s    \n",
            "\n",
            "2021-01-26 00:54:58 (17.0 MB/s) - ‘ml-1m.zip’ saved [5917549/5917549]\n",
            "\n",
            "Archive:  ml-1m.zip\n",
            "   creating: ml-1m/\n",
            "  inflating: ml-1m/movies.dat        \n",
            "  inflating: ml-1m/ratings.dat       \n",
            "  inflating: ml-1m/README            \n",
            "  inflating: ml-1m/users.dat         \n"
          ],
          "name": "stdout"
        }
      ]
    },
    {
      "cell_type": "code",
      "metadata": {
        "colab": {
          "base_uri": "https://localhost:8080/"
        },
        "id": "fx_wj5qUvnyg",
        "outputId": "70296f1c-a250-4f4d-ebad-282b10b50e81"
      },
      "source": [
        "# read the data\r\n",
        "dataset = pd.read_csv('./ml-1m/ratings.dat', sep='::', engine='python', names=('userId', 'movieId','ratings','timestamp'))\r\n",
        "print(f'The length of full dataset: {len(dataset)}')\r\n",
        "\r\n",
        "# split the dataset into training and testing datasets\r\n",
        "train_df, test_df = train_test_split(dataset, test_size=0.1)\r\n",
        "\r\n",
        "# enconde the data to have contiguous ids for users and movies\r\n",
        "lab_enc = LabelEncoder()\r\n",
        "train_df['userId'] = lab_enc.fit_transform(train_df['userId'])\r\n",
        "train_df['movieId'] =lab_enc.fit_transform(train_df['movieId'])\r\n",
        "test_df['userId'] = lab_enc.fit_transform(test_df['userId'])\r\n",
        "test_df['movieId'] = lab_enc.fit_transform(test_df['movieId'])\r\n",
        "\r\n",
        "print(f'The length of training data: {len(train_df)}')\r\n",
        "print(f'The length of training data: {len(test_df)}')\r\n",
        "\r\n",
        "num_users = dataset['userId'].nunique()\r\n",
        "num_movies = dataset['movieId'].nunique()\r\n",
        "print(f'Number of unique users: {num_users}')\r\n",
        "print(f'Number of unique movies: {num_movies}')"
      ],
      "execution_count": null,
      "outputs": [
        {
          "output_type": "stream",
          "text": [
            "The length of full dataset: 1000209\n",
            "The length of training data: 900188\n",
            "The length of training data: 100021\n",
            "Number of unique users: 6040\n",
            "Number of unique movies: 3706\n"
          ],
          "name": "stdout"
        },
        {
          "output_type": "stream",
          "text": [
            "/usr/local/lib/python3.6/dist-packages/ipykernel_launcher.py:10: SettingWithCopyWarning: \n",
            "A value is trying to be set on a copy of a slice from a DataFrame.\n",
            "Try using .loc[row_indexer,col_indexer] = value instead\n",
            "\n",
            "See the caveats in the documentation: https://pandas.pydata.org/pandas-docs/stable/user_guide/indexing.html#returning-a-view-versus-a-copy\n",
            "  # Remove the CWD from sys.path while we load stuff.\n",
            "/usr/local/lib/python3.6/dist-packages/ipykernel_launcher.py:11: SettingWithCopyWarning: \n",
            "A value is trying to be set on a copy of a slice from a DataFrame.\n",
            "Try using .loc[row_indexer,col_indexer] = value instead\n",
            "\n",
            "See the caveats in the documentation: https://pandas.pydata.org/pandas-docs/stable/user_guide/indexing.html#returning-a-view-versus-a-copy\n",
            "  # This is added back by InteractiveShellApp.init_path()\n",
            "/usr/local/lib/python3.6/dist-packages/ipykernel_launcher.py:12: SettingWithCopyWarning: \n",
            "A value is trying to be set on a copy of a slice from a DataFrame.\n",
            "Try using .loc[row_indexer,col_indexer] = value instead\n",
            "\n",
            "See the caveats in the documentation: https://pandas.pydata.org/pandas-docs/stable/user_guide/indexing.html#returning-a-view-versus-a-copy\n",
            "  if sys.path[0] == '':\n",
            "/usr/local/lib/python3.6/dist-packages/ipykernel_launcher.py:13: SettingWithCopyWarning: \n",
            "A value is trying to be set on a copy of a slice from a DataFrame.\n",
            "Try using .loc[row_indexer,col_indexer] = value instead\n",
            "\n",
            "See the caveats in the documentation: https://pandas.pydata.org/pandas-docs/stable/user_guide/indexing.html#returning-a-view-versus-a-copy\n",
            "  del sys.path[0]\n"
          ],
          "name": "stderr"
        }
      ]
    },
    {
      "cell_type": "code",
      "metadata": {
        "id": "Jyhae0r8vYDb"
      },
      "source": [
        "# build our Matrix Factorization Model class\r\n",
        "class MF(nn.Module):\r\n",
        "    def __init__(self, num_users, num_movies, c_vector=1.0, emb_size=100):\r\n",
        "        super(MF, self).__init__()\r\n",
        "\r\n",
        "        # These are the hyper-parameters\r\n",
        "        self.num_users = num_users\r\n",
        "        self.num_movies = num_movies\r\n",
        "        self.c_vector = c_vector\r\n",
        "        self.emb_size = emb_size\r\n",
        "\r\n",
        "        # factor matrices and biases which learned and fit by PyTorch\r\n",
        "        self.user_emb = nn.Embedding(num_users, emb_size)\r\n",
        "        self.movie_emb = nn.Embedding(num_movies, emb_size)\r\n",
        "        self.user_bias = nn.Embedding(num_users, 1)\r\n",
        "        self.movie_bias = nn.Embedding(num_movies, 1)        \r\n",
        "        # self.bias = nn.Parameter(torch.ones(1))\r\n",
        "\r\n",
        "        # initializing our matrices with a positive number generally will yield better results\r\n",
        "        self.user_emb.weight.data.uniform_(0, 0.5)\r\n",
        "        self.movie_emb.weight.data.uniform_(0, 0.5)\r\n",
        "        self.user_bias.weight.data.uniform_(-0.01,0.01)\r\n",
        "        self.movie_bias.weight.data.uniform_(-0.01,0.01)\r\n",
        "\r\n",
        "    def forward(self, user, movie):\r\n",
        "        # vector user\r\n",
        "        P = self.user_emb(user)\r\n",
        "        # vector movie\r\n",
        "        Q = self.movie_emb(movie)\r\n",
        "        bias_user = self.user_bias(user).squeeze()\r\n",
        "        bias_movie = self.movie_bias(movie).squeeze()\r\n",
        "        biases = (bias_user + bias_movie)\r\n",
        "        \r\n",
        "        # taking the dot product and adding biases to the prediction\r\n",
        "        prediction = (P * Q).sum(1) + biases\r\n",
        "\r\n",
        "        return prediction\r\n",
        "\r\n",
        "    def loss(self, prediction, target):\r\n",
        "        \"\"\"\r\n",
        "        Function to calculate the loss metric\r\n",
        "        \"\"\"\r\n",
        "        # Calculate the Mean Squared Error between target = R_ui and prediction = p_u * q_i\r\n",
        "        loss_mse = F.mse_loss(prediction, target.squeeze())\r\n",
        "\r\n",
        "        # Compute L2 regularization over user (P) and item (Q) matrices\r\n",
        "        reg_user  = l2_regularize(self.user_emb.weight) * self.c_vector\r\n",
        "        reg_movie  = l2_regularize(self.movie_emb.weight) * self.c_vector\r\n",
        "\r\n",
        "        # Add up the MSE loss + user & item regularization\r\n",
        "        total_loss = loss_mse + reg_user + reg_movie\r\n",
        "        return total_loss\r\n",
        "\r\n",
        "def l2_regularize(array):\r\n",
        "    \"\"\"\r\n",
        "    Function to do L2 regularization\r\n",
        "    \"\"\"\r\n",
        "    loss = torch.sum(array ** 2.0)\r\n",
        "    return loss"
      ],
      "execution_count": null,
      "outputs": []
    },
    {
      "cell_type": "code",
      "metadata": {
        "id": "vDwD-41FxBFj"
      },
      "source": [
        "losses = []\r\n",
        "\r\n",
        "# create the training function to train the model on training data\r\n",
        "def fit(model, epochs, lr, optimizer):\r\n",
        "    model.train()\r\n",
        "    for i in range(epochs):\r\n",
        "        users = torch.LongTensor(train_df.userId.values)\r\n",
        "        movies = torch.LongTensor(train_df.movieId.values)\r\n",
        "        ratings = torch.FloatTensor(train_df.ratings.values)\r\n",
        "        # compute a prediction for these features\r\n",
        "        y_hat = model(users, movies)\r\n",
        "        # compute a loss given what the true target outcome was\r\n",
        "        loss_mse = model.loss(y_hat, ratings)\r\n",
        "        # reset gradient\r\n",
        "        optimizer.zero_grad() \r\n",
        "        # backpropagate the loss\r\n",
        "        loss_mse.backward()\r\n",
        "        # take a step & update the model parameters\r\n",
        "        optimizer.step()\r\n",
        "        print(f\"epoch {i}'s training loss %.3f\" % loss_mse.item())\r\n",
        "        # record the loss per example\r\n",
        "        losses.append(loss_mse.data.numpy())\r\n",
        "    evaluate(model)\r\n",
        "\r\n",
        "# create the evaluating function to test the model performance on unseen data\r\n",
        "def evaluate(model):\r\n",
        "    model.eval()\r\n",
        "    users = torch.LongTensor(test_df.userId.values)\r\n",
        "    movies = torch.LongTensor(test_df.movieId.values)\r\n",
        "    ratings = torch.FloatTensor(test_df.ratings.values)\r\n",
        "    # compute a prediction\r\n",
        "    y_hat = model(users, movies)\r\n",
        "    # compute a loss\r\n",
        "    loss_mse = model.loss(y_hat, ratings)\r\n",
        "    print(\"test loss %.3f \" % loss_mse.item())"
      ],
      "execution_count": null,
      "outputs": []
    },
    {
      "cell_type": "markdown",
      "metadata": {
        "id": "iQNLOXuYS8zh"
      },
      "source": [
        "Now let's fit the model, check the loss changes and test the final score on unseen data."
      ]
    },
    {
      "cell_type": "code",
      "metadata": {
        "colab": {
          "base_uri": "https://localhost:8080/"
        },
        "id": "tzGiP4mmvn7H",
        "outputId": "f4573bf9-4b15-4b73-c1cc-6ae139e6ca7a"
      },
      "source": [
        "# Define the Hyper-parameters\r\n",
        "epochs = 50\r\n",
        "lr = 1e-2  # Learning Rate\r\n",
        "emb_size = 10  # Number of dimensions per user, item\r\n",
        "c_vector = 1e-6  # regularization constant\r\n",
        "\r\n",
        "# instantiate the model\r\n",
        "model = MF(num_users, num_movies, c_vector=c_vector, emb_size=emb_size)\r\n",
        "print(model)\r\n",
        "\r\n",
        "# initialize the optimizer\r\n",
        "optimizer = torch.optim.Adam(model.parameters(), lr=lr)\r\n",
        "\r\n",
        "# Start training the model on training data and evaluate on test data\r\n",
        "fit(model, epochs=epochs, lr=lr, optimizer=optimizer)"
      ],
      "execution_count": null,
      "outputs": [
        {
          "output_type": "stream",
          "text": [
            "MF(\n",
            "  (user_emb): Embedding(6040, 10)\n",
            "  (movie_emb): Embedding(3706, 10)\n",
            "  (user_bias): Embedding(6040, 1)\n",
            "  (movie_bias): Embedding(3706, 1)\n",
            ")\n",
            "epoch 0's training loss 10.035\n",
            "epoch 1's training loss 9.623\n",
            "epoch 2's training loss 9.210\n",
            "epoch 3's training loss 8.796\n",
            "epoch 4's training loss 8.383\n",
            "epoch 5's training loss 7.972\n",
            "epoch 6's training loss 7.564\n",
            "epoch 7's training loss 7.159\n",
            "epoch 8's training loss 6.759\n",
            "epoch 9's training loss 6.364\n",
            "epoch 10's training loss 5.977\n",
            "epoch 11's training loss 5.598\n",
            "epoch 12's training loss 5.229\n",
            "epoch 13's training loss 4.871\n",
            "epoch 14's training loss 4.524\n",
            "epoch 15's training loss 4.190\n",
            "epoch 16's training loss 3.871\n",
            "epoch 17's training loss 3.567\n",
            "epoch 18's training loss 3.280\n",
            "epoch 19's training loss 3.009\n",
            "epoch 20's training loss 2.757\n",
            "epoch 21's training loss 2.524\n",
            "epoch 22's training loss 2.309\n",
            "epoch 23's training loss 2.114\n",
            "epoch 24's training loss 1.939\n",
            "epoch 25's training loss 1.782\n",
            "epoch 26's training loss 1.645\n",
            "epoch 27's training loss 1.525\n",
            "epoch 28's training loss 1.422\n",
            "epoch 29's training loss 1.335\n",
            "epoch 30's training loss 1.263\n",
            "epoch 31's training loss 1.204\n",
            "epoch 32's training loss 1.156\n",
            "epoch 33's training loss 1.118\n",
            "epoch 34's training loss 1.089\n",
            "epoch 35's training loss 1.066\n",
            "epoch 36's training loss 1.048\n",
            "epoch 37's training loss 1.035\n",
            "epoch 38's training loss 1.024\n",
            "epoch 39's training loss 1.014\n",
            "epoch 40's training loss 1.006\n",
            "epoch 41's training loss 0.998\n",
            "epoch 42's training loss 0.990\n",
            "epoch 43's training loss 0.981\n",
            "epoch 44's training loss 0.972\n",
            "epoch 45's training loss 0.963\n",
            "epoch 46's training loss 0.953\n",
            "epoch 47's training loss 0.943\n",
            "epoch 48's training loss 0.932\n",
            "epoch 49's training loss 0.922\n",
            "test loss 1.907 \n"
          ],
          "name": "stdout"
        }
      ]
    },
    {
      "cell_type": "code",
      "metadata": {
        "colab": {
          "base_uri": "https://localhost:8080/",
          "height": 654
        },
        "id": "9kDTlj27MVf2",
        "outputId": "97064f7d-4825-4a25-b003-a01970378108"
      },
      "source": [
        "import numpy as np\r\n",
        "import matplotlib.pyplot as plt\r\n",
        "%matplotlib inline\r\n",
        "n = len(losses)\r\n",
        "smooth = np.convolve(losses, np.ones((n,))/n, mode='valid')\r\n",
        "plt.figure(figsize=(12, 12))\r\n",
        "plt.plot(losses[::10])\r\n",
        "plt.plot(smooth, c='r')"
      ],
      "execution_count": null,
      "outputs": [
        {
          "output_type": "execute_result",
          "data": {
            "text/plain": [
              "[<matplotlib.lines.Line2D at 0x7f310f78c128>]"
            ]
          },
          "metadata": {
            "tags": []
          },
          "execution_count": 9
        },
        {
          "output_type": "display_data",
          "data": {
            "image/png": "[encoded data removed]",
            "text/plain": [
              "<Figure size 864x864 with 1 Axes>"
            ]
          },
          "metadata": {
            "tags": [],
            "needs_background": "light"
          }
        }
      ]
    },
    {
      "cell_type": "markdown",
      "metadata": {
        "id": "jf1lNhhcflUJ"
      },
      "source": [
        "# Understand Embeddings"
      ]
    },
    {
      "cell_type": "code",
      "metadata": {
        "colab": {
          "base_uri": "https://localhost:8080/"
        },
        "id": "FB5-vf7PL1RO",
        "outputId": "25232cc3-4cfd-443d-9879-a28add80ff3f"
      },
      "source": [
        "user_emb = model.user_emb.weight.data.numpy()\r\n",
        "movie_emb = model.movie_emb.weight.data.numpy()"
      ],
      "execution_count": null,
      "outputs": [
        {
          "output_type": "execute_result",
          "data": {
            "text/plain": [
              "Parameter containing:\n",
              "tensor([[0.4858, 0.6096, 0.5191,  ..., 0.7707, 0.6337, 0.7001],\n",
              "        [0.3767, 0.4507, 0.6336,  ..., 0.7146, 0.5028, 0.5662],\n",
              "        [0.5867, 0.6085, 0.8345,  ..., 0.6690, 0.7591, 0.5413],\n",
              "        ...,\n",
              "        [0.7683, 0.5625, 0.6199,  ..., 0.5892, 0.6028, 0.4427],\n",
              "        [0.4760, 0.4837, 0.4201,  ..., 0.4862, 0.7899, 0.5185],\n",
              "        [0.3558, 0.7587, 0.6887,  ..., 0.6658, 0.4301, 0.4739]],\n",
              "       requires_grad=True)"
            ]
          },
          "metadata": {
            "tags": []
          },
          "execution_count": 10
        }
      ]
    },
    {
      "cell_type": "code",
      "metadata": {
        "id": "cOZB4577zDSO"
      },
      "source": [
        "# explore trained latent feature matrices\r\n",
        "for name, param in model.named_parameters():\r\n",
        "  if name == 'user_emb.weight':\r\n",
        "    user_emb = param\r\n",
        "  if name == 'movie_emb.weight':\r\n",
        "    movie_emb = param"
      ],
      "execution_count": null,
      "outputs": []
    },
    {
      "cell_type": "code",
      "metadata": {
        "id": "F1vZbrNhvJRo"
      },
      "source": [
        "print(train_df[train_df.userId == 2625])"
      ],
      "execution_count": null,
      "outputs": []
    },
    {
      "cell_type": "code",
      "metadata": {
        "id": "BJsSzc-UhC0_"
      },
      "source": [
        "# print(train_df[train_df.userId == 2625])\r\n",
        "print(train_df[(train_df.userId == 2625) & (train_df.movieId == 3583)]['ratings'])\r\n",
        "print()\r\n",
        "print((user_emb[2625] * movie_emb[3583]).sum())"
      ],
      "execution_count": null,
      "outputs": []
    },
    {
      "cell_type": "markdown",
      "metadata": {
        "id": "kauWk8J3fxho"
      },
      "source": [
        "# Make predictions\r\n",
        "\r\n",
        "Lets recommend top 10 movies to a user with these steps:\r\n",
        "\r\n"
      ]
    },
    {
      "cell_type": "code",
      "metadata": {
        "id": "32ClsdI4XYM2"
      },
      "source": [
        "# make predictions\r\n",
        "print(train_df[train_df.userId == 5873])\r\n",
        "user = torch.tensor(train_df.iloc[10, 0])\r\n",
        "movies = torch.tensor(train_df['movieId'].unique().tolist())\r\n",
        "predictions = model(user, movies).tolist()\r\n",
        "print(predictions)\r\n",
        "normalized_predictions = [i/max(predictions)*5 for i in predictions]\r\n",
        "print(normalized_predictions)\r\n",
        "\r\n",
        "sortedIndices = np.array(normalized_predictions).argsort()\r\n",
        "recommendations = train_df['movieId'].unique()[sortedIndices][:10]  # taking top 30\r\n",
        "print(recommendations)"
      ],
      "execution_count": null,
      "outputs": []
    },
    {
      "cell_type": "markdown",
      "metadata": {
        "id": "Aw-w2u6pUPYR"
      },
      "source": [
        "How to improve the model?\r\n",
        "\r\n",
        "\r\n",
        "*   Tune hyperparameters\r\n",
        "*   List item\r\n",
        "\r\n"
      ]
    }
  ]
}